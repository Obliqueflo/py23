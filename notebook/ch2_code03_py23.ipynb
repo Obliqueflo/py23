{
  "nbformat": 4,
  "nbformat_minor": 0,
  "metadata": {
    "colab": {
      "name": "ch2_code03_py23.ipynb",
      "provenance": [],
      "collapsed_sections": [],
      "include_colab_link": true
    },
    "kernelspec": {
      "display_name": "Python 3",
      "language": "python",
      "name": "python3"
    },
    "language_info": {
      "codemirror_mode": {
        "name": "ipython",
        "version": 3
      },
      "file_extension": ".py",
      "mimetype": "text/x-python",
      "name": "python",
      "nbconvert_exporter": "python",
      "pygments_lexer": "ipython3",
      "version": "3.7.5"
    }
  },
  "cells": [
    {
      "cell_type": "markdown",
      "metadata": {
        "id": "view-in-github",
        "colab_type": "text"
      },
      "source": [
        "<a href=\"https://colab.research.google.com/github/Obliqueflo/py23/blob/master/notebook/ch2_code03_py23.ipynb\" target=\"_parent\"><img src=\"https://colab.research.google.com/assets/colab-badge.svg\" alt=\"Open In Colab\"/></a>"
      ]
    },
    {
      "cell_type": "markdown",
      "metadata": {
        "colab_type": "text",
        "id": "H4jNE-BMAK3f"
      },
      "source": [
        "# ch2_code03_py23.ipynb\n",
        "## py23  \n",
        "- Dictionary\n",
        "- Set\n",
        "- Bool\n",
        "- Variable"
      ]
    },
    {
      "cell_type": "code",
      "metadata": {
        "id": "KJSbLY-Abr44",
        "colab_type": "code",
        "outputId": "5e731048-1820-4320-ae9a-cbbc6c4ca4d1",
        "colab": {
          "base_uri": "https://localhost:8080/",
          "height": 52
        }
      },
      "source": [
        "# ch2_07_dictionary.py\n",
        "\n",
        "print(\"딕셔너리: 딕셔너리(Dictionary)란?\")\n",
        "# 딕셔너리란 대응 관계를 나타내는 자료형.\n",
        "# 연관 배열(Associative array) 또는 해시(Hash)\n",
        "# 딕셔너리는 Key와 Value를 한 쌍으로 갖는 자료형\n",
        "#\n",
        "# 기본 딕셔너리의 모습\n",
        "# {Key1:Value1, Key2:Value2, Key3:Value3, ...}\n",
        "## Key1:Value1 한 쌍으로 하나의 요소가 된다\n",
        "# Key와 Value의 쌍 여러 개가 { }로 둘러싸여 있다.\n",
        "# 각각의 요소는 Key : Value 형태로 이루어져 있고 쉼표(,)로 구분\n",
        "dic = {\"name\": \"pey\", \"phone\": \"0119993323\", \"birth\": \"1118\"}\n",
        "dic\n",
        "# Key는 각각 'name', 'phone', 'birth'\n",
        "# 각 Key에 해당하는 Value는 'pey', '0119993323', '1118'"
      ],
      "execution_count": 0,
      "outputs": [
        {
          "output_type": "stream",
          "text": [
            "딕셔너리: 딕셔너리(Dictionary)란?\n"
          ],
          "name": "stdout"
        },
        {
          "output_type": "execute_result",
          "data": {
            "text/plain": [
              "{'birth': '1118', 'name': 'pey', 'phone': '0119993323'}"
            ]
          },
          "metadata": {
            "tags": []
          },
          "execution_count": 2
        }
      ]
    },
    {
      "cell_type": "markdown",
      "metadata": {
        "id": "FlJHUfy5dEx4",
        "colab_type": "text"
      },
      "source": [
        "### 여러가지 딕셔너리dictionary"
      ]
    },
    {
      "cell_type": "code",
      "metadata": {
        "id": "eTaqiGm0cj86",
        "colab_type": "code",
        "outputId": "8f15098a-2f66-441f-b676-7028c3dfac61",
        "colab": {
          "base_uri": "https://localhost:8080/",
          "height": 34
        }
      },
      "source": [
        "# 여러 가지 딕셔너리\n",
        "a = {1: \"hi\"}\n",
        "a[1]  #딕셔너리는 key의 value 값을 인데싱으로 접근하지 않고 key값으로 접근한다"
      ],
      "execution_count": 0,
      "outputs": [
        {
          "output_type": "execute_result",
          "data": {
            "text/plain": [
              "'hi'"
            ]
          },
          "metadata": {
            "tags": []
          },
          "execution_count": 3
        }
      ]
    },
    {
      "cell_type": "code",
      "metadata": {
        "id": "ekXWPf_JdP7e",
        "colab_type": "code",
        "outputId": "04b80e33-e667-4526-d7b4-0a7ae4dc2a01",
        "colab": {
          "base_uri": "https://localhost:8080/",
          "height": 34
        }
      },
      "source": [
        "a = {\"a\": [1, 2, 3]}  # value에는 복합 자료형도 사용된다.\n",
        "len(a)  #key 요소가 한 쌍이므로 \n",
        "#a[a]  # TypeError: unhashable type: 'dict'\n",
        "a[\"a\"]"
      ],
      "execution_count": 0,
      "outputs": [
        {
          "output_type": "execute_result",
          "data": {
            "text/plain": [
              "[1, 2, 3]"
            ]
          },
          "metadata": {
            "tags": []
          },
          "execution_count": 8
        }
      ]
    },
    {
      "cell_type": "code",
      "metadata": {
        "id": "YCJICOqtd09x",
        "colab_type": "code",
        "outputId": "647c5372-da5f-4a32-8bd5-98c8d40ba6a4",
        "colab": {
          "base_uri": "https://localhost:8080/",
          "height": 34
        }
      },
      "source": [
        "a"
      ],
      "execution_count": 0,
      "outputs": [
        {
          "output_type": "execute_result",
          "data": {
            "text/plain": [
              "{'a': [1, 2, 3]}"
            ]
          },
          "metadata": {
            "tags": []
          },
          "execution_count": 5
        }
      ]
    },
    {
      "cell_type": "code",
      "metadata": {
        "id": "mrx2BJHRdkQ8",
        "colab_type": "code",
        "outputId": "48945b55-99c9-411b-ca1d-c637cddd1745",
        "colab": {
          "base_uri": "https://localhost:8080/",
          "height": 52
        }
      },
      "source": [
        "#\n",
        "# 딕셔너리 쌍 추가하기\n",
        "#\n",
        "a = {1: \"a\"}\n",
        "print(a)\n",
        "a[2] = \"b\"  #2 is NOT index, 2 is !!!key.!!!\n",
        "a\n",
        "a[\"name\"] = \"pey\"\n",
        "a\n",
        "a[3] = [1, 2, 3]\n",
        "a"
      ],
      "execution_count": 0,
      "outputs": [
        {
          "output_type": "stream",
          "text": [
            "{1: 'a'}\n"
          ],
          "name": "stdout"
        },
        {
          "output_type": "execute_result",
          "data": {
            "text/plain": [
              "{1: 'a', 2: 'b', 3: [1, 2, 3], 'name': 'pey'}"
            ]
          },
          "metadata": {
            "tags": []
          },
          "execution_count": 9
        }
      ]
    },
    {
      "cell_type": "code",
      "metadata": {
        "id": "jkCJMK6ieVA2",
        "colab_type": "code",
        "outputId": "c6d8c481-8504-4f84-ef6e-94953e6eed85",
        "colab": {
          "base_uri": "https://localhost:8080/",
          "height": 34
        }
      },
      "source": [
        "# 딕셔너리도 값을 추가, 삭제 유연하게 변경가능\n",
        "# 딕셔너리 쌍 삭제하기\n",
        "#\n",
        "del a[1]  #1 is a key, 1 is never an index!!\n",
        "a"
      ],
      "execution_count": 0,
      "outputs": [
        {
          "output_type": "execute_result",
          "data": {
            "text/plain": [
              "{2: 'b', 3: [1, 2, 3], 'name': 'pey'}"
            ]
          },
          "metadata": {
            "tags": []
          },
          "execution_count": 10
        }
      ]
    },
    {
      "cell_type": "code",
      "metadata": {
        "id": "AwEDTgC7fDjJ",
        "colab_type": "code",
        "outputId": "a8bec785-5a6b-4088-ccf7-9b77f03649a2",
        "colab": {
          "base_uri": "https://localhost:8080/",
          "height": 70
        }
      },
      "source": [
        "#\n",
        "print(\"딕셔너리: 사용 방법\")\n",
        "d = {\"김연아\": \"피겨스케이팅\", \"류현진\": \"야구\", \"손흥민\": \"축구\", \"귀도\": \"파이썬\"}\n",
        "print(d)\n",
        "d[\"손흥민\"] #손흥민이라는 key값에 있는 value값이 출력된다"
      ],
      "execution_count": 0,
      "outputs": [
        {
          "output_type": "stream",
          "text": [
            "딕셔너리: 사용 방법\n",
            "{'김연아': '피겨스케이팅', '류현진': '야구', '손흥민': '축구', '귀도': '파이썬'}\n"
          ],
          "name": "stdout"
        },
        {
          "output_type": "execute_result",
          "data": {
            "text/plain": [
              "'축구'"
            ]
          },
          "metadata": {
            "tags": []
          },
          "execution_count": 12
        }
      ]
    },
    {
      "cell_type": "code",
      "metadata": {
        "id": "_Xa4NZAEfoDV",
        "colab_type": "code",
        "outputId": "c5bf8d89-610a-48a7-f195-d4c5a209f658",
        "colab": {
          "base_uri": "https://localhost:8080/",
          "height": 34
        }
      },
      "source": [
        "#\n",
        "# 딕셔너리에서 Key 사용해 Value 얻기\n",
        "#\n",
        "grade = {\"pey\": 10, \"julliet\": 99}\n",
        "grade[\"pey\"], grade[\"julliet\"] # 튜플로 출력된다"
      ],
      "execution_count": 0,
      "outputs": [
        {
          "output_type": "execute_result",
          "data": {
            "text/plain": [
              "(10, 99)"
            ]
          },
          "metadata": {
            "tags": []
          },
          "execution_count": 15
        }
      ]
    },
    {
      "cell_type": "code",
      "metadata": {
        "id": "J948Z0wGf9G9",
        "colab_type": "code",
        "outputId": "befda5a9-9800-492a-c48c-fa092cc8832c",
        "colab": {
          "base_uri": "https://localhost:8080/",
          "height": 204
        }
      },
      "source": [
        "#\n",
        "a = {1: \"a\", 2: \"b\"}\n",
        "a[1]  # 1은 key\n",
        "#\n",
        "a = {\"a\": 1, \"b\": 2} #위의 a 딕셔너리와 다른 값\n",
        "a[\"b\"]\n",
        "a[b]  # NameError: name 'b' is not defined"
      ],
      "execution_count": 0,
      "outputs": [
        {
          "output_type": "error",
          "ename": "NameError",
          "evalue": "ignored",
          "traceback": [
            "\u001b[0;31m---------------------------------------------------------------------------\u001b[0m",
            "\u001b[0;31mNameError\u001b[0m                                 Traceback (most recent call last)",
            "\u001b[0;32m<ipython-input-18-97dddae099f9>\u001b[0m in \u001b[0;36m<module>\u001b[0;34m()\u001b[0m\n\u001b[1;32m      4\u001b[0m \u001b[0ma\u001b[0m \u001b[0;34m=\u001b[0m \u001b[0;34m{\u001b[0m\u001b[0;34m\"a\"\u001b[0m\u001b[0;34m:\u001b[0m \u001b[0;36m1\u001b[0m\u001b[0;34m,\u001b[0m \u001b[0;34m\"b\"\u001b[0m\u001b[0;34m:\u001b[0m \u001b[0;36m2\u001b[0m\u001b[0;34m}\u001b[0m\u001b[0;34m\u001b[0m\u001b[0;34m\u001b[0m\u001b[0m\n\u001b[1;32m      5\u001b[0m \u001b[0ma\u001b[0m\u001b[0;34m[\u001b[0m\u001b[0;34m\"b\"\u001b[0m\u001b[0;34m]\u001b[0m\u001b[0;34m\u001b[0m\u001b[0;34m\u001b[0m\u001b[0m\n\u001b[0;32m----> 6\u001b[0;31m \u001b[0ma\u001b[0m\u001b[0;34m[\u001b[0m\u001b[0mb\u001b[0m\u001b[0;34m]\u001b[0m  \u001b[0;31m# TypeError\u001b[0m\u001b[0;34m\u001b[0m\u001b[0;34m\u001b[0m\u001b[0m\n\u001b[0m",
            "\u001b[0;31mNameError\u001b[0m: name 'b' is not defined"
          ]
        }
      ]
    },
    {
      "cell_type": "code",
      "metadata": {
        "id": "KKcszcSlgVE1",
        "colab_type": "code",
        "outputId": "d51d9698-2f2c-4391-825c-54e56654554d",
        "colab": {
          "base_uri": "https://localhost:8080/",
          "height": 34
        }
      },
      "source": [
        "#\n",
        "dic = {\"name\": \"pey\", \"phone\": \"0109993323\", \"birth\": \"1118\"}\n",
        "dic[\"birth\"], dic[\"phone\"]\n",
        "#\n",
        "# 딕셔너리 만들 때 주의할 사항\n",
        "# 딕셔너리에서 Key는 고유한 값이므로 중복되는 Key 값을 설정해 놓으면\n",
        "# 하나를 제외한 나머지 것들이 모두 무시된다\n",
        "#\n",
        "a = {1: \"a\", 1: \"b\"}  #딕셔너리에서의 맨 마지막 할당된 값이 출력된다/ 오류도 발생하지 않는다  \n",
        "a[1]"
      ],
      "execution_count": 0,
      "outputs": [
        {
          "output_type": "execute_result",
          "data": {
            "text/plain": [
              "'b'"
            ]
          },
          "metadata": {
            "tags": []
          },
          "execution_count": 19
        }
      ]
    },
    {
      "cell_type": "markdown",
      "metadata": {
        "id": "4kGkGz8MVFaU",
        "colab_type": "text"
      },
      "source": [
        "### 딕셔너리 : 관련 내장 함수들"
      ]
    },
    {
      "cell_type": "code",
      "metadata": {
        "id": "RnA2OBEIgvw_",
        "colab_type": "code",
        "colab": {
          "base_uri": "https://localhost:8080/",
          "height": 87
        },
        "outputId": "53d68cab-b2bb-4bb1-9c66-2a29bc459580"
      },
      "source": [
        "\n",
        "#\n",
        "print(\"딕셔너리: 관련 내장 함수들\")\n",
        "#\n",
        "# Key 리스트 만들기(keys)- key값만 추려서 ..list로 반환 해주는 함수\n",
        "#\n",
        "a = {\"name\": \"pey\", \"phone\": \"0119993323\", \"birth\": \"1118\"}\n",
        "a.keys()\n",
        "list(a.keys())\n",
        "#################################################\n",
        "# 기본적인 반복(iterate) 구문(예: for문)을 실행\n",
        "#################################################\n",
        "for k in a.keys():\n",
        "    print(k)"
      ],
      "execution_count": 1,
      "outputs": [
        {
          "output_type": "stream",
          "text": [
            "딕셔너리: 관련 내장 함수들\n",
            "name\n",
            "phone\n",
            "birth\n"
          ],
          "name": "stdout"
        }
      ]
    },
    {
      "cell_type": "code",
      "metadata": {
        "id": "QNN0EN1PVYMY",
        "colab_type": "code",
        "colab": {
          "base_uri": "https://localhost:8080/",
          "height": 34
        },
        "outputId": "9c466449-cac1-4216-c31a-47777701f40d"
      },
      "source": [
        "#\n",
        "# Value 리스트 만들기(values) #value 값만 출력\n",
        "#\n",
        "list(a.values())"
      ],
      "execution_count": 2,
      "outputs": [
        {
          "output_type": "execute_result",
          "data": {
            "text/plain": [
              "['pey', '0119993323', '1118']"
            ]
          },
          "metadata": {
            "tags": []
          },
          "execution_count": 2
        }
      ]
    },
    {
      "cell_type": "code",
      "metadata": {
        "id": "BbhL__PzWBJx",
        "colab_type": "code",
        "colab": {
          "base_uri": "https://localhost:8080/",
          "height": 34
        },
        "outputId": "b5476250-2d04-4686-d241-5bcc5ad27980"
      },
      "source": [
        "#\n",
        "# Key, Value 쌍 얻기(items) 튜플로 묶여 출력된다\n",
        "#\n",
        "a.items()  # Key와 Value의 쌍을 튜플로 묶은 값을 dict_items 객체로 돌려준다."
      ],
      "execution_count": 3,
      "outputs": [
        {
          "output_type": "execute_result",
          "data": {
            "text/plain": [
              "dict_items([('name', 'pey'), ('phone', '0119993323'), ('birth', '1118')])"
            ]
          },
          "metadata": {
            "tags": []
          },
          "execution_count": 3
        }
      ]
    },
    {
      "cell_type": "code",
      "metadata": {
        "id": "4XwjDqxFWYwC",
        "colab_type": "code",
        "colab": {
          "base_uri": "https://localhost:8080/",
          "height": 34
        },
        "outputId": "70625dce-9cae-40cf-cccf-5ae9ba664a45"
      },
      "source": [
        "\n",
        "#\n",
        "#\n",
        "# Key: Value 쌍 모두 지우기(clear)\n",
        "#\n",
        "a.clear()\n",
        "a #null 딕셔너리가 출력된다"
      ],
      "execution_count": 4,
      "outputs": [
        {
          "output_type": "execute_result",
          "data": {
            "text/plain": [
              "{}"
            ]
          },
          "metadata": {
            "tags": []
          },
          "execution_count": 4
        }
      ]
    },
    {
      "cell_type": "code",
      "metadata": {
        "id": "iK7JHeilWil5",
        "colab_type": "code",
        "colab": {
          "base_uri": "https://localhost:8080/",
          "height": 34
        },
        "outputId": "c6833e91-70b4-403e-b1e0-f6476309b6a2"
      },
      "source": [
        "#\n",
        "# Key로 Value얻기(get)\n",
        "#\n",
        "a = {\"name\": \"pey\", \"phone\": \"0119993323\", \"birth\": \"1118\"}\n",
        "a.get(\"name\")  # a['name']\n",
        "a.get(\"phone\")  # a['phone']"
      ],
      "execution_count": 5,
      "outputs": [
        {
          "output_type": "execute_result",
          "data": {
            "text/plain": [
              "'0119993323'"
            ]
          },
          "metadata": {
            "tags": []
          },
          "execution_count": 5
        }
      ]
    },
    {
      "cell_type": "code",
      "metadata": {
        "id": "gRMIR_yeW5xO",
        "colab_type": "code",
        "colab": {
          "base_uri": "https://localhost:8080/",
          "height": 169
        },
        "outputId": "aad3aac6-7616-4bef-b1fe-deb0783a043f"
      },
      "source": [
        "print(a[\"nokey\"])  # KeyError: 'nokey'"
      ],
      "execution_count": 6,
      "outputs": [
        {
          "output_type": "error",
          "ename": "KeyError",
          "evalue": "ignored",
          "traceback": [
            "\u001b[0;31m---------------------------------------------------------------------------\u001b[0m",
            "\u001b[0;31mKeyError\u001b[0m                                  Traceback (most recent call last)",
            "\u001b[0;32m<ipython-input-6-cad8ab3085f5>\u001b[0m in \u001b[0;36m<module>\u001b[0;34m()\u001b[0m\n\u001b[0;32m----> 1\u001b[0;31m \u001b[0mprint\u001b[0m\u001b[0;34m(\u001b[0m\u001b[0ma\u001b[0m\u001b[0;34m[\u001b[0m\u001b[0;34m\"nokey\"\u001b[0m\u001b[0;34m]\u001b[0m\u001b[0;34m)\u001b[0m  \u001b[0;31m# KeyError\u001b[0m\u001b[0;34m\u001b[0m\u001b[0;34m\u001b[0m\u001b[0m\n\u001b[0m",
            "\u001b[0;31mKeyError\u001b[0m: 'nokey'"
          ]
        }
      ]
    },
    {
      "cell_type": "code",
      "metadata": {
        "id": "xiIewR8pXalc",
        "colab_type": "code",
        "colab": {
          "base_uri": "https://localhost:8080/",
          "height": 34
        },
        "outputId": "22e64535-552d-4d4a-9a41-37814f9a8714"
      },
      "source": [
        "a"
      ],
      "execution_count": 7,
      "outputs": [
        {
          "output_type": "execute_result",
          "data": {
            "text/plain": [
              "{'birth': '1118', 'name': 'pey', 'phone': '0119993323'}"
            ]
          },
          "metadata": {
            "tags": []
          },
          "execution_count": 7
        }
      ]
    },
    {
      "cell_type": "code",
      "metadata": {
        "id": "MmS229P4XGrf",
        "colab_type": "code",
        "colab": {
          "base_uri": "https://localhost:8080/",
          "height": 34
        },
        "outputId": "aca732e1-903e-414a-9fbc-96ff8b3f58be"
      },
      "source": [
        "#\n",
        "# get(x, '디폴트 값')\n",
        "#\n",
        "# 딕셔너리 안에 찾으려는 Key 값이 없을 경우\n",
        "# 미리 정해 둔 디폴트 값을 대신 가져오게 설정.\n",
        "#\n",
        "a.get(\"foo\", \"bar\") \n",
        "a.get(\"name\", \"bar\")"
      ],
      "execution_count": 8,
      "outputs": [
        {
          "output_type": "execute_result",
          "data": {
            "text/plain": [
              "'pey'"
            ]
          },
          "metadata": {
            "tags": []
          },
          "execution_count": 8
        }
      ]
    },
    {
      "cell_type": "code",
      "metadata": {
        "id": "tsWEsom_Xghj",
        "colab_type": "code",
        "colab": {
          "base_uri": "https://localhost:8080/",
          "height": 34
        },
        "outputId": "e744d57a-e5c5-4fc4-bfe6-c2a45f3701dd"
      },
      "source": [
        "#\n",
        "# 해당 Key!!가 딕셔너리 안에 있는지 조사하기(in)\n",
        "#\n",
        "a = {\"name\": \"pey\", \"phone\": \"0119993323\", \"birth\": \"1118\"}\n",
        "\"name\" in a\n",
        "\"foo\" in a\n"
      ],
      "execution_count": 9,
      "outputs": [
        {
          "output_type": "execute_result",
          "data": {
            "text/plain": [
              "False"
            ]
          },
          "metadata": {
            "tags": []
          },
          "execution_count": 9
        }
      ]
    },
    {
      "cell_type": "markdown",
      "metadata": {
        "id": "lOBE6npfYCk2",
        "colab_type": "text"
      },
      "source": [
        "## Set"
      ]
    },
    {
      "cell_type": "code",
      "metadata": {
        "id": "5eSEmhZ_br5I",
        "colab_type": "code",
        "colab": {}
      },
      "source": [
        "# ch2_08_set.py\n",
        "\n",
        "print(\"집합: 집합(Set)이란?\")\n",
        "# 집합에 관련된 것을 쉽게 처리하기 위해 만든 자료형\n",
        "# 중복된 값을 허용하지 않는다.\n",
        "#\n",
        "# set 키워드를 사용해서 집합자료형을 만든다.\n",
        "#\n",
        "s1 = set([1, 2, 3]) #소괄호는 set이 함수이기 때문에 ,,,,\n",
        "s1 # {1, 2, 3}-->중괄호로 둘러쌓여있다!!!!(중괄호를 이용해 데이터를 담는 데이터 구조는 dictionary, set)\n",
        "s1n = set([1, 2, 3, 2]) # 중복 허용 안 함 \n",
        "s1n #{1, 2, 3}\n",
        "s2 = set(\"Hello\")\n",
        "s2\n"
      ],
      "execution_count": 0,
      "outputs": []
    },
    {
      "cell_type": "markdown",
      "metadata": {
        "id": "fmQnpnU_nBnn",
        "colab_type": "text"
      },
      "source": [
        "### 집합 자료형의 특징"
      ]
    },
    {
      "cell_type": "code",
      "metadata": {
        "id": "rUHe5DSTm_m_",
        "colab_type": "code",
        "outputId": "34f1cbca-1b21-456e-f006-4ce334e80cde",
        "colab": {
          "base_uri": "https://localhost:8080/",
          "height": 70
        }
      },
      "source": [
        "#\n",
        "# !!!!! 집합 자료형의 특징 !!!!!\n",
        "# 1. 중복을 허용하지 않는다.\n",
        "# 2. 순서가 없다(Unordered).\n",
        "# *** set 자료형은 순서가 없기(unordered) 때문에!! 인덱싱으로 값을 얻을 수 없다.\n",
        "#\n",
        "s1 = set([1,2,3])\n",
        "print(s1)\n",
        "#s1[0] #TypeError: 'set' object does not support indexing\n",
        "l1=list(s1) #set을 list로 바꿔준다\n",
        "print(l1)\n",
        "l1[0] #인덱싱 하는 거"
      ],
      "execution_count": 0,
      "outputs": [
        {
          "output_type": "stream",
          "text": [
            "{1, 2, 3}\n",
            "[1, 2, 3]\n"
          ],
          "name": "stdout"
        },
        {
          "output_type": "execute_result",
          "data": {
            "text/plain": [
              "1"
            ]
          },
          "metadata": {
            "tags": []
          },
          "execution_count": 22
        }
      ]
    },
    {
      "cell_type": "code",
      "metadata": {
        "id": "thLVPr_JnJyB",
        "colab_type": "code",
        "outputId": "e00fc11a-99dd-4cb2-ba34-4246ff87d9a6",
        "colab": {
          "base_uri": "https://localhost:8080/",
          "height": 52
        }
      },
      "source": [
        "#\n",
        "t1=tuple(s1)\n",
        "print(t1)\n",
        "t1[0]"
      ],
      "execution_count": 0,
      "outputs": [
        {
          "output_type": "stream",
          "text": [
            "(1, 2, 3)\n"
          ],
          "name": "stdout"
        },
        {
          "output_type": "execute_result",
          "data": {
            "text/plain": [
              "1"
            ]
          },
          "metadata": {
            "tags": []
          },
          "execution_count": 23
        }
      ]
    },
    {
      "cell_type": "code",
      "metadata": {
        "id": "9A5M41IDnzCa",
        "colab_type": "code",
        "outputId": "b123bb53-9fae-4e1d-b80d-189dd8ac0c30",
        "colab": {
          "base_uri": "https://localhost:8080/",
          "height": 34
        }
      },
      "source": [
        "#\n",
        "# 교집합, 합집합, 차집합 구하기\n",
        "#\n",
        "s1 = set([1, 2, 3, 4, 5, 6])\n",
        "s2 = set([4, 5, 6, 7, 8, 9])\n",
        "# \n",
        "# 1. 교집합\n",
        "#\n",
        "s1 & s2\n",
        "s1.intersection(s2) #함수\n",
        "# \n",
        "# 2. 합집합\n",
        "#\n",
        "s1 | s2\n",
        "s1.union(s2)  #함수\n",
        "# \n",
        "# 3. 차집합\n",
        "#\n",
        "s1 - s2\n",
        "s2 - s1\n",
        "s1.difference(s2) #함수\n",
        "s2.difference(s1) #함수"
      ],
      "execution_count": 0,
      "outputs": [
        {
          "output_type": "execute_result",
          "data": {
            "text/plain": [
              "{7, 8, 9}"
            ]
          },
          "metadata": {
            "tags": []
          },
          "execution_count": 24
        }
      ]
    },
    {
      "cell_type": "markdown",
      "metadata": {
        "id": "f5BjLWMpouOw",
        "colab_type": "text"
      },
      "source": [
        "### 집합 (set): 관련 내장 함수들"
      ]
    },
    {
      "cell_type": "code",
      "metadata": {
        "id": "WnJQdowfoDh2",
        "colab_type": "code",
        "outputId": "a0d73089-a810-41b7-962b-bc1c769d16d2",
        "colab": {
          "base_uri": "https://localhost:8080/",
          "height": 52
        }
      },
      "source": [
        "#\n",
        "print(\"집합 (set): 관련 내장 함수들\")\n",
        "#\n",
        "# 값 1개 추가하기(add)\n",
        "#\n",
        "s1 = set([1, 2, 3])\n",
        "s1.add(4)\n",
        "s1"
      ],
      "execution_count": 0,
      "outputs": [
        {
          "output_type": "stream",
          "text": [
            "집합 (set): 관련 내장 함수들\n"
          ],
          "name": "stdout"
        },
        {
          "output_type": "execute_result",
          "data": {
            "text/plain": [
              "{1, 2, 3, 4}"
            ]
          },
          "metadata": {
            "tags": []
          },
          "execution_count": 25
        }
      ]
    },
    {
      "cell_type": "code",
      "metadata": {
        "id": "L8ZO85_Ioz7Y",
        "colab_type": "code",
        "outputId": "f18c2550-c7a9-49a5-eff5-99fa961c918c",
        "colab": {
          "base_uri": "https://localhost:8080/",
          "height": 34
        }
      },
      "source": [
        "#\n",
        "# 값 여러 개 추가하기(update)\n",
        "#\n",
        "s1 = set([1, 2, 3])\n",
        "s1.update([4,5,6])\n",
        "s1\n",
        "s1.add(5) #set은 중복된 요소를 허용치 않기에 5는 한번만 출력\n",
        "s1"
      ],
      "execution_count": 0,
      "outputs": [
        {
          "output_type": "execute_result",
          "data": {
            "text/plain": [
              "{1, 2, 3, 4, 5, 6}"
            ]
          },
          "metadata": {
            "tags": []
          },
          "execution_count": 26
        }
      ]
    },
    {
      "cell_type": "code",
      "metadata": {
        "id": "MBd88E40o7ku",
        "colab_type": "code",
        "outputId": "6e3fd0ca-8248-4b4e-bbd5-20496408d53c",
        "colab": {
          "base_uri": "https://localhost:8080/",
          "height": 34
        }
      },
      "source": [
        "\n",
        "#\n",
        "# 특정 값 제거하기(remove)\n",
        "#\n",
        "s1 = set([1, 2, 3])\n",
        "s1.remove(2)\n",
        "s1"
      ],
      "execution_count": 0,
      "outputs": [
        {
          "output_type": "execute_result",
          "data": {
            "text/plain": [
              "{1, 3}"
            ]
          },
          "metadata": {
            "tags": []
          },
          "execution_count": 27
        }
      ]
    },
    {
      "cell_type": "code",
      "metadata": {
        "id": "qywM5VhepOM3",
        "colab_type": "code",
        "outputId": "40b45fa5-0faa-4045-ba82-0d4a88a2e301",
        "colab": {
          "base_uri": "https://localhost:8080/",
          "height": 239
        }
      },
      "source": [
        "#################################################\n",
        "# frozenset()  # immutable set\n",
        "#################################################\n",
        "small_primes = frozenset([2, 3, 5, 7])\n",
        "bigger_primes = frozenset([5, 7, 11])\n",
        "small_primes.add(11)  # we cannot add to a frozenset -> AttributeError: 'frozenset' object has no attribute 'add'\n",
        "\n",
        "small_primes.remove(2)  # neither we can remove -> AttributeError\n",
        "\n",
        "small_primes & bigger_primes  # intersect, union, etc. allowed\n",
        "# frozenset({5, 7})\n"
      ],
      "execution_count": 10,
      "outputs": [
        {
          "output_type": "error",
          "ename": "AttributeError",
          "evalue": "ignored",
          "traceback": [
            "\u001b[0;31m---------------------------------------------------------------------------\u001b[0m",
            "\u001b[0;31mAttributeError\u001b[0m                            Traceback (most recent call last)",
            "\u001b[0;32m<ipython-input-10-29499e262d36>\u001b[0m in \u001b[0;36m<module>\u001b[0;34m()\u001b[0m\n\u001b[1;32m      1\u001b[0m \u001b[0msmall_primes\u001b[0m \u001b[0;34m=\u001b[0m \u001b[0mfrozenset\u001b[0m\u001b[0;34m(\u001b[0m\u001b[0;34m[\u001b[0m\u001b[0;36m2\u001b[0m\u001b[0;34m,\u001b[0m \u001b[0;36m3\u001b[0m\u001b[0;34m,\u001b[0m \u001b[0;36m5\u001b[0m\u001b[0;34m,\u001b[0m \u001b[0;36m7\u001b[0m\u001b[0;34m]\u001b[0m\u001b[0;34m)\u001b[0m\u001b[0;34m\u001b[0m\u001b[0;34m\u001b[0m\u001b[0m\n\u001b[1;32m      2\u001b[0m \u001b[0mbigger_primes\u001b[0m \u001b[0;34m=\u001b[0m \u001b[0mfrozenset\u001b[0m\u001b[0;34m(\u001b[0m\u001b[0;34m[\u001b[0m\u001b[0;36m5\u001b[0m\u001b[0;34m,\u001b[0m \u001b[0;36m7\u001b[0m\u001b[0;34m,\u001b[0m \u001b[0;36m11\u001b[0m\u001b[0;34m]\u001b[0m\u001b[0;34m)\u001b[0m\u001b[0;34m\u001b[0m\u001b[0;34m\u001b[0m\u001b[0m\n\u001b[0;32m----> 3\u001b[0;31m \u001b[0msmall_primes\u001b[0m\u001b[0;34m.\u001b[0m\u001b[0madd\u001b[0m\u001b[0;34m(\u001b[0m\u001b[0;36m11\u001b[0m\u001b[0;34m)\u001b[0m  \u001b[0;31m# we cannot add to a frozenset -> AttributeError: 'frozenset' object has no attribute 'add'\u001b[0m\u001b[0;34m\u001b[0m\u001b[0;34m\u001b[0m\u001b[0m\n\u001b[0m\u001b[1;32m      4\u001b[0m \u001b[0;34m\u001b[0m\u001b[0m\n\u001b[1;32m      5\u001b[0m \u001b[0;31m# small_primes.remove(2)  # neither we can remove -> AttributeError\u001b[0m\u001b[0;34m\u001b[0m\u001b[0;34m\u001b[0m\u001b[0;34m\u001b[0m\u001b[0m\n",
            "\u001b[0;31mAttributeError\u001b[0m: 'frozenset' object has no attribute 'add'"
          ]
        }
      ]
    },
    {
      "cell_type": "markdown",
      "metadata": {
        "id": "n7dROjMfpvkQ",
        "colab_type": "text"
      },
      "source": [
        "## bool(불)"
      ]
    },
    {
      "cell_type": "code",
      "metadata": {
        "id": "xlaGqdP1br5X",
        "colab_type": "code",
        "outputId": "206dd17a-8188-49a3-e199-5d1167e97495",
        "colab": {
          "base_uri": "https://localhost:8080/",
          "height": 52
        }
      },
      "source": [
        "# ch2_09_bool.py\n",
        "\n",
        "print(\"불: 불 자료형이란?\")\n",
        "# 불(bool) 자료형이란 참(True)과 거짓(False)을 나타내는 자료형이다.\n",
        "# 불 자료형은 다음 2가지 값만을 가질 수 있다.\n",
        "# True - 참\n",
        "# False - 거짓\n",
        "# True나 False는 파이썬의 예약어로 true, false와 같이 사용하지 말고\n",
        "# 첫 문자를 항상 대문자로 사용해야 한다.\n",
        "#\n",
        "a = True\n",
        "b = False\n",
        "type(a), type(b), a, b"
      ],
      "execution_count": 0,
      "outputs": [
        {
          "output_type": "stream",
          "text": [
            "불: 불 자료형이란?\n"
          ],
          "name": "stdout"
        },
        {
          "output_type": "execute_result",
          "data": {
            "text/plain": [
              "(bool, bool, True, False)"
            ]
          },
          "metadata": {
            "tags": []
          },
          "execution_count": 30
        }
      ]
    },
    {
      "cell_type": "code",
      "metadata": {
        "id": "T3ildVeBqCgA",
        "colab_type": "code",
        "outputId": "8a998ef2-f8de-4c89-d0a0-562595a6eb52",
        "colab": {
          "base_uri": "https://localhost:8080/",
          "height": 34
        }
      },
      "source": [
        "#\n",
        "# 참과 거짓\n",
        "#\n",
        "1 == 1\n",
        "2 > 1\n",
        "2 < 1\n",
        "True + 1 \n",
        "False + 1"
      ],
      "execution_count": 0,
      "outputs": [
        {
          "output_type": "execute_result",
          "data": {
            "text/plain": [
              "1"
            ]
          },
          "metadata": {
            "tags": []
          },
          "execution_count": 31
        }
      ]
    },
    {
      "cell_type": "markdown",
      "metadata": {
        "id": "5GK1b2LDqqVq",
        "colab_type": "text"
      },
      "source": [
        "### 자료형의 참과 거짓\n",
        "- string\n",
        "- list\n",
        "- tuple\n",
        "- dictionary\n",
        "- set\n",
        "- bool"
      ]
    },
    {
      "cell_type": "code",
      "metadata": {
        "id": "gFepItcvqXCh",
        "colab_type": "code",
        "colab": {
          "base_uri": "https://localhost:8080/",
          "height": 34
        },
        "outputId": "b3b3c0b0-da2a-4b55-8497-f15fe6870211"
      },
      "source": [
        "#\n",
        "# 자료형의 참과 거짓\n",
        "#\n",
        "bool(\"python\") #문자열 안에 문자가 하나라도 있다면, true\n",
        "bool(\"\")  #어떤 데이터 구조가 null이면 false가 된다\n",
        "bool([1, 2, 3]) #값이 있기 때문에(null이 아니기에) true가 return\n",
        "bool([2, 3])\n",
        "bool([]) #false\n",
        "bool(())\n",
        "bool({})\n",
        "bool(1)\n",
        "bool(0)\n",
        "bool(None)"
      ],
      "execution_count": 11,
      "outputs": [
        {
          "output_type": "execute_result",
          "data": {
            "text/plain": [
              "False"
            ]
          },
          "metadata": {
            "tags": []
          },
          "execution_count": 11
        }
      ]
    },
    {
      "cell_type": "markdown",
      "metadata": {
        "id": "m6A6oS_proaN",
        "colab_type": "text"
      },
      "source": [
        "## Quiz"
      ]
    },
    {
      "cell_type": "code",
      "metadata": {
        "id": "It7u2-kHra8N",
        "colab_type": "code",
        "outputId": "3aa0be50-9cd2-4342-ac3e-315157f54760",
        "colab": {
          "base_uri": "https://localhost:8080/",
          "height": 34
        }
      },
      "source": [
        "bool(0), bool([0]), bool((0)), bool((0, ))  # (0)==0"
      ],
      "execution_count": 0,
      "outputs": [
        {
          "output_type": "execute_result",
          "data": {
            "text/plain": [
              "(False, True, False, True)"
            ]
          },
          "metadata": {
            "tags": []
          },
          "execution_count": 32
        }
      ]
    },
    {
      "cell_type": "code",
      "metadata": {
        "id": "v3EEUYMwq8xN",
        "colab_type": "code",
        "outputId": "9de72378-032a-4f55-bef5-2fe762768ec8",
        "colab": {
          "base_uri": "https://localhost:8080/",
          "height": 87
        }
      },
      "source": [
        "#\n",
        "# 불 값을 이용한 코드\n",
        "#\n",
        "a = [1, 2, 3, 4]\n",
        "#\n",
        "while a: #a list에 하나라도 값이 있으면 true\n",
        "    print(a.pop())"
      ],
      "execution_count": 0,
      "outputs": [
        {
          "output_type": "stream",
          "text": [
            "4\n",
            "3\n",
            "2\n",
            "1\n"
          ],
          "name": "stdout"
        }
      ]
    },
    {
      "cell_type": "code",
      "metadata": {
        "id": "YEUXf370sC6X",
        "colab_type": "code",
        "outputId": "665a632e-0a99-42ec-a00c-cb1687a86d11",
        "colab": {
          "base_uri": "https://localhost:8080/",
          "height": 34
        }
      },
      "source": [
        "#\n",
        "if []:\n",
        "    print(\"참\")\n",
        "else:\n",
        "    print(\"거짓\")"
      ],
      "execution_count": 0,
      "outputs": [
        {
          "output_type": "stream",
          "text": [
            "거짓\n"
          ],
          "name": "stdout"
        }
      ]
    },
    {
      "cell_type": "code",
      "metadata": {
        "id": "ow_sO47SsYCf",
        "colab_type": "code",
        "colab": {
          "base_uri": "https://localhost:8080/",
          "height": 34
        },
        "outputId": "c4717b39-1a02-4308-992d-221d69c08645"
      },
      "source": [
        "############################\n",
        "#  Representation error\n",
        "## double precision representation of floating-point numbers 유효자리 구조\n",
        "############################\n",
        "1-0.9\n",
        "# 0.09999999999999998\n",
        "1-0.9==.1\n",
        "# False"
      ],
      "execution_count": 12,
      "outputs": [
        {
          "output_type": "execute_result",
          "data": {
            "text/plain": [
              "False"
            ]
          },
          "metadata": {
            "tags": []
          },
          "execution_count": 12
        }
      ]
    },
    {
      "cell_type": "code",
      "metadata": {
        "id": "de87KE1osgjR",
        "colab_type": "code",
        "colab": {}
      },
      "source": [
        "#####\n",
        "import decimal\n",
        "x=decimal.Decimal(3.14)\n",
        "y=decimal.Decimal(2.74)\n",
        "x,y\n",
        "\n",
        "x*y\n",
        "# Decimal('8.603600000000001010036498883')\n",
        "decimal.getcontext().prec=4\n",
        "x*y\n",
        "# Decimal('8.604')"
      ],
      "execution_count": 0,
      "outputs": []
    },
    {
      "cell_type": "markdown",
      "metadata": {
        "id": "WOLxlmFgs1ia",
        "colab_type": "text"
      },
      "source": [
        "## 변수"
      ]
    },
    {
      "cell_type": "code",
      "metadata": {
        "id": "shhMQskhbr5j",
        "colab_type": "code",
        "outputId": "c1b986b6-f594-47e2-acc7-3271e1f27da1",
        "colab": {
          "base_uri": "https://localhost:8080/",
          "height": 70
        }
      },
      "source": [
        "# ch2_10_variable.py\n",
        "\n",
        "print(\"변수: 변수란?\")\n",
        "#\n",
        "# 변수는 자료(값)을 저장하는 공간이다.\n",
        "#\n",
        "a = [1, 2, 3]\n",
        "print(a)\n",
        "id(a)  # a 변수가 가리키는 메모리의 주소를 나타내는 id 함수"
      ],
      "execution_count": 0,
      "outputs": [
        {
          "output_type": "stream",
          "text": [
            "변수: 변수란?\n",
            "[1, 2, 3]\n"
          ],
          "name": "stdout"
        },
        {
          "output_type": "execute_result",
          "data": {
            "text/plain": [
              "140024975177096"
            ]
          },
          "metadata": {
            "tags": []
          },
          "execution_count": 35
        }
      ]
    },
    {
      "cell_type": "code",
      "metadata": {
        "id": "n8O6kPTDtByY",
        "colab_type": "code",
        "colab": {}
      },
      "source": [
        "# list\n",
        "a = [1, 2, 3]\n",
        "id(a)\n",
        "b = a # '직접 대입'하면 같은 주소를 공유한다\n",
        "id(a), id(b)  #해당 각각 값을 비교\n",
        "\n",
        "a is b\n",
        "\n",
        "a[1] = 4  \n",
        "a\n",
        "a, b  #b의 값도 같이 변형된다, a와 b의 변수는 같은 주소를 공유하기 때문에\n",
        "a is b  \n",
        "\n",
        "b = [1, 2, 3] \n",
        "id(b)\n",
        "a is b"
      ],
      "execution_count": 0,
      "outputs": []
    },
    {
      "cell_type": "code",
      "metadata": {
        "id": "LBENHSLAtYAj",
        "colab_type": "code",
        "outputId": "a7381ef5-b6a7-4e3d-b566-d4b4ad770df1",
        "colab": {
          "base_uri": "https://localhost:8080/",
          "height": 34
        }
      },
      "source": [
        "#\n",
        "# b 변수를 생성할 때 a 변수의 값을 가져오면서\n",
        "# a와는 다른 주소를 가리키도록 만들수는 없을까?\n",
        "# 다음 2가지 방법이 있다.\n",
        "#\n",
        "# 1. [:] 이용\n",
        "#\n",
        "a = [1, 2, 3]\n",
        "b = a[:]  #값은 같지만 주소는 다름  # b=a와는 다른 것\n",
        "id(a), id(b)  #주소 다름\n",
        "a[1] = 4\n",
        "a, b\n",
        "#\n",
        "# 2. copy 모듈 이용\n",
        "#\n",
        "a = [1, 2, 3]\n",
        "from copy import copy  #copy라는 모듈에서 copy라는 함수를 가지고 오는 코드 \n",
        "b = copy(a) \n",
        "\n",
        "b is a, a is b  #주소 다름 "
      ],
      "execution_count": 0,
      "outputs": [
        {
          "output_type": "execute_result",
          "data": {
            "text/plain": [
              "(False, False)"
            ]
          },
          "metadata": {
            "tags": []
          },
          "execution_count": 37
        }
      ]
    },
    {
      "cell_type": "code",
      "metadata": {
        "id": "C51bUKWzuQu8",
        "colab_type": "code",
        "outputId": "a550efb5-a396-4155-afe1-ffac92bfe50e",
        "colab": {
          "base_uri": "https://localhost:8080/",
          "height": 70
        }
      },
      "source": [
        "#\n",
        "# 변수를 만드는 여러 가지 방법\n",
        "#\n",
        "a, b = (\"python\", \"life\")\n",
        "print(a)\n",
        "print(b)\n",
        "a, b"
      ],
      "execution_count": 13,
      "outputs": [
        {
          "output_type": "stream",
          "text": [
            "python\n",
            "life\n"
          ],
          "name": "stdout"
        },
        {
          "output_type": "execute_result",
          "data": {
            "text/plain": [
              "('python', 'life')"
            ]
          },
          "metadata": {
            "tags": []
          },
          "execution_count": 13
        }
      ]
    },
    {
      "cell_type": "code",
      "metadata": {
        "id": "zDydJNHLvD1X",
        "colab_type": "code",
        "outputId": "4c93d510-c753-4c75-a286-fde4f26cb2fd",
        "colab": {
          "base_uri": "https://localhost:8080/",
          "height": 34
        }
      },
      "source": [
        "[a, b] = [\"python\", \"life\"]\n",
        "a, b\n",
        "\n",
        "a = 3\n",
        "b = 5\n",
        "a, b = b, a #swap 된다\n",
        "a, b"
      ],
      "execution_count": 0,
      "outputs": [
        {
          "output_type": "execute_result",
          "data": {
            "text/plain": [
              "(5, 3)"
            ]
          },
          "metadata": {
            "tags": []
          },
          "execution_count": 40
        }
      ]
    }
  ]
}