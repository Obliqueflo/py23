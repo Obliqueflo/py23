{
  "nbformat": 4,
  "nbformat_minor": 0,
  "metadata": {
    "colab": {
      "name": "ch5_exercises_py23.ipynb",
      "provenance": [],
      "collapsed_sections": [],
      "include_colab_link": true
    },
    "kernelspec": {
      "name": "python3",
      "display_name": "Python 3"
    }
  },
  "cells": [
    {
      "cell_type": "markdown",
      "metadata": {
        "id": "view-in-github",
        "colab_type": "text"
      },
      "source": [
        "<a href=\"https://colab.research.google.com/github/Obliqueflo/py23/blob/master/notebook/ch5_exercises_py23.ipynb\" target=\"_parent\"><img src=\"https://colab.research.google.com/assets/colab-badge.svg\" alt=\"Open In Colab\"/></a>"
      ]
    },
    {
      "cell_type": "markdown",
      "metadata": {
        "id": "ovY5jkD5dpxE",
        "colab_type": "text"
      },
      "source": [
        "## ch5_exercises.ipynb"
      ]
    },
    {
      "cell_type": "markdown",
      "metadata": {
        "id": "SZw6UnxQWYBe",
        "colab_type": "text"
      },
      "source": [
        "## Q1.\n",
        "> 다음은 Calculator 클래스이다.\n",
        "\n",
        "```\n",
        "class Calculator:\n",
        "    def __init__(self):\n",
        "        self.value = 0\n",
        "\n",
        "    def add(self, val):\n",
        "        self.value += val\n",
        "```\n",
        "---\n",
        "> 위 클래스를 상속하는 UpgradeCalculator를 만들고 값을 뺄 수 있는 minus 메서드를 추가해 보자. \n",
        ">> 즉 다음과 같이 동작하는 클래스를 만들어야 한다.\n",
        "```\n",
        "cal = UpgradeCalculator()\n",
        "cal.add(10)\n",
        "cal.minus(7)\n",
        "print(cal.value) # 10에서 7을 뺀 3을 출력\n",
        "```\n"
      ]
    },
    {
      "cell_type": "code",
      "metadata": {
        "id": "rUNNaqJPdg7B",
        "colab_type": "code",
        "colab": {
          "base_uri": "https://localhost:8080/",
          "height": 34
        },
        "outputId": "f3404884-9af4-4626-9436-121e98d9b19c"
      },
      "source": [
        "# [Q1] Code  \n",
        "class Calculator:\n",
        "    def __init__(self):\n",
        "        self.value = 0\n",
        " \n",
        "    def add(self, val):\n",
        "        self.value += val\n",
        "\n",
        "class UpgradeCalculator(Calculator):\n",
        "    def minus(self, val):\n",
        "        self.value -= val\n",
        "\n",
        "cal = UpgradeCalculator()\n",
        "cal.add(10)\n",
        "cal.minus(7)\n",
        "print(cal.value)"
      ],
      "execution_count": 1,
      "outputs": [
        {
          "output_type": "stream",
          "text": [
            "3\n"
          ],
          "name": "stdout"
        }
      ]
    },
    {
      "cell_type": "markdown",
      "metadata": {
        "colab_type": "text",
        "id": "re2-XrUYXF1m"
      },
      "source": [
        "## Q2.\n",
        "> 객체변수 value가 100 이상의 값은 가질 수 없도록 제한하는 MaxLimitCalculator 클래스를 만들어 보자. \n",
        ">> 즉 다음과 같이 동작해야 한다.\n",
        "```\n",
        "cal = MaxLimitCalculator()\n",
        "cal.add(50) # 50 더하기\n",
        "cal.add(60) # 60 더하기\n",
        "print(cal.value) # 100 출력\n",
        "```\n",
        ">> 단 반드시 다음과 같은 Calculator 클래스를 상속해서 만들어야 한다.\n",
        "```\n",
        "class Calculator:\n",
        "    def __init__(self):\n",
        "        self.value = 0\n",
        "    def add(self, val):\n",
        "        self.value += val\n",
        "```"
      ]
    },
    {
      "cell_type": "markdown",
      "metadata": {
        "id": "VU4TChqCjh3M",
        "colab_type": "text"
      },
      "source": [
        "- Calculator 클래스를 상속하고 add 메서드를 오버라이딩하여 MaxLimitCalculator 클래스를 만든다"
      ]
    },
    {
      "cell_type": "code",
      "metadata": {
        "colab_type": "code",
        "id": "5MBLUZ5WXF1q",
        "colab": {
          "base_uri": "https://localhost:8080/",
          "height": 34
        },
        "outputId": "6d60dcd9-a38c-4703-9010-10b66fa9e943"
      },
      "source": [
        "# [Q2] Code\n",
        "class Calculator:\n",
        "    def __init__(self):\n",
        "        self.value = 0\n",
        "    def add(self, val):\n",
        "        self.value += val\n",
        "\n",
        "class MaxLimitCalculator(Calculator):\n",
        "    def add(self, val):\n",
        "        self.value += val\n",
        "        if self.value > 100:\n",
        "          self.value = 100\n",
        "\n",
        "cal = MaxLimitCalculator()\n",
        "cal.add(50) # 50 더하기\n",
        "cal.add(60) # 60 더하기\n",
        "print(cal.value) # 100 출력"
      ],
      "execution_count": 2,
      "outputs": [
        {
          "output_type": "stream",
          "text": [
            "100\n"
          ],
          "name": "stdout"
        }
      ]
    },
    {
      "cell_type": "markdown",
      "metadata": {
        "colab_type": "text",
        "id": "UZy8lu_BXGnT"
      },
      "source": [
        "## Q3.\n",
        "> 다음 결과를 예측해 보자.\n",
        "\n",
        "- 하나.\n",
        "```\n",
        "all([1, 2, abs(-3)-3])\n",
        "```\n",
        "\n",
        "- 둘.\n",
        "```\n",
        "chr(ord('a')) == 'a'\n",
        "```"
      ]
    },
    {
      "cell_type": "code",
      "metadata": {
        "colab_type": "code",
        "id": "H9T_sXHzXGnW",
        "colab": {
          "base_uri": "https://localhost:8080/",
          "height": 34
        },
        "outputId": "7cf8c34c-bcb9-49c2-b179-e53abca4ae01"
      },
      "source": [
        "# [Q3] Code-1\n",
        "all([1, 2, abs(-3)-3])"
      ],
      "execution_count": 3,
      "outputs": [
        {
          "output_type": "execute_result",
          "data": {
            "text/plain": [
              "False"
            ]
          },
          "metadata": {
            "tags": []
          },
          "execution_count": 3
        }
      ]
    },
    {
      "cell_type": "markdown",
      "metadata": {
        "id": "l8ICy3UlO9Jl",
        "colab_type": "text"
      },
      "source": [
        "#### [Q3] Code-1 explanation\n",
        "- 내장함수 abs(x)는 어떤 숫자를 입력받았을 때, 그 숫자의 절대값을 돌려주는 함수이므로 abs(3)은 3이 된다. \n",
        "> abs(-3)-3 ==> 0\n",
        "- 내장함수 all(x)은 입력된 요소가 모두 참이면 True, 거짓이 하나라도 있으면 False를 반환\n",
        "> all([1, 2, 0]) - 함수 all의 매개변수는 [1, 2, 0]이다. 리스트 요솟값 0을 False로 처리하므로 False가 반환된다."
      ]
    },
    {
      "cell_type": "code",
      "metadata": {
        "id": "olDf_VY6O8M4",
        "colab_type": "code",
        "colab": {
          "base_uri": "https://localhost:8080/",
          "height": 34
        },
        "outputId": "a3ed7f3f-0c63-4157-c35b-4ced1e4cf537"
      },
      "source": [
        "# [Q3] Code-2\n",
        "chr(ord('a')) == 'a'"
      ],
      "execution_count": 4,
      "outputs": [
        {
          "output_type": "execute_result",
          "data": {
            "text/plain": [
              "True"
            ]
          },
          "metadata": {
            "tags": []
          },
          "execution_count": 4
        }
      ]
    },
    {
      "cell_type": "markdown",
      "metadata": {
        "id": "FVAGkurdPDuM",
        "colab_type": "text"
      },
      "source": [
        "#### [Q3] Code-2 explanation\n",
        "- 내장함수 ord()는 특정 문자의 아스키 코드 값으로 변환해 주는 함수이다.\n",
        "> ord('a')에서 'a'의 아스키 코드 값은 97이므로 chr(97)로 치환된다.\n",
        "- 내장함수 chr()은 아스키 코드 값을 문자로 변환해 주는 함수이다. \n",
        "> chr(97)의 결과에서 다시 아스키 코드 값 97을 문자로 변환한 'a'가 된다. 결과로, 'a'=='a'가 되어 True를 반환한다."
      ]
    },
    {
      "cell_type": "markdown",
      "metadata": {
        "colab_type": "text",
        "id": "fqypxxqTXHY7"
      },
      "source": [
        "## Q4.\n",
        "> filter와 lambda를 사용하여 리스트 [1, -2, 3, -5, 8, -3]에서 음수를 모두 제거해 보자."
      ]
    },
    {
      "cell_type": "code",
      "metadata": {
        "colab_type": "code",
        "id": "oQ5UnmayXHY-",
        "colab": {
          "base_uri": "https://localhost:8080/",
          "height": 34
        },
        "outputId": "405ef1a6-8114-4510-a442-06dc6ef9135a"
      },
      "source": [
        "# [Q4] Code-1\n",
        "removal = list(filter(lambda x:x>0, [1, -2, 3, -5, 8, -3]))\n",
        "print(removal)"
      ],
      "execution_count": 5,
      "outputs": [
        {
          "output_type": "stream",
          "text": [
            "[1, 3, 8]\n"
          ],
          "name": "stdout"
        }
      ]
    },
    {
      "cell_type": "code",
      "metadata": {
        "id": "yK6TT5NbPJ3m",
        "colab_type": "code",
        "colab": {
          "base_uri": "https://localhost:8080/",
          "height": 34
        },
        "outputId": "251eb1c4-6f5e-4545-e15e-401369d5a64d"
      },
      "source": [
        "# [Q4] Code-2\n",
        "# 변수 numbers 사용한 코드 \n",
        "numbers = [1, -2, 3, -5, 8, -3]\n",
        "removal = list(filter(lambda x:x>0, numbers))\n",
        "print(removal)"
      ],
      "execution_count": 6,
      "outputs": [
        {
          "output_type": "stream",
          "text": [
            "[1, 3, 8]\n"
          ],
          "name": "stdout"
        }
      ]
    },
    {
      "cell_type": "markdown",
      "metadata": {
        "colab_type": "text",
        "id": "NKsvciXZXIL-"
      },
      "source": [
        "## Q5.\n",
        "> 234라는 10진수의 16진수는 다음과 같이 구할 수 있다.\n",
        "```\n",
        "hex(234)\n",
        "'0xea'\n",
        "```\n",
        "> 이번에는 반대로 16진수 문자열 0xea를 10진수로 변경해 보자.\n",
        ">>※ 내장 함수 int를 활용해 보자.\n"
      ]
    },
    {
      "cell_type": "code",
      "metadata": {
        "colab_type": "code",
        "id": "5MZQYOVjXIL_",
        "colab": {
          "base_uri": "https://localhost:8080/",
          "height": 34
        },
        "outputId": "b082f343-fba7-4108-ce74-4e6c054e52ff"
      },
      "source": [
        "# [Q5] Code\n",
        "int('0xea', 16)"
      ],
      "execution_count": 7,
      "outputs": [
        {
          "output_type": "execute_result",
          "data": {
            "text/plain": [
              "234"
            ]
          },
          "metadata": {
            "tags": []
          },
          "execution_count": 7
        }
      ]
    },
    {
      "cell_type": "markdown",
      "metadata": {
        "colab_type": "text",
        "id": "-3KHtOOoXJBV"
      },
      "source": [
        "## Q6.\n",
        "> map과 lambda를 사용하여 [1, 2, 3, 4] 리스트의 각 요솟값에 3이 곱해진 리스트 [3, 6, 9, 12]를 만들어 보자.\n"
      ]
    },
    {
      "cell_type": "code",
      "metadata": {
        "colab_type": "code",
        "id": "AjYR0lUaXJBa",
        "colab": {
          "base_uri": "https://localhost:8080/",
          "height": 34
        },
        "outputId": "d224b68f-3c5a-4670-ce3f-ab65e4d99b35"
      },
      "source": [
        "# [Q6] Code-1\n",
        "list(map(lambda x:x * 3, [1, 2, 3, 4]))"
      ],
      "execution_count": 8,
      "outputs": [
        {
          "output_type": "execute_result",
          "data": {
            "text/plain": [
              "[3, 6, 9, 12]"
            ]
          },
          "metadata": {
            "tags": []
          },
          "execution_count": 8
        }
      ]
    },
    {
      "cell_type": "code",
      "metadata": {
        "id": "K7jv0VS4PVoj",
        "colab_type": "code",
        "colab": {
          "base_uri": "https://localhost:8080/",
          "height": 34
        },
        "outputId": "6071b58f-5aca-41af-e563-c5e5cf98edd0"
      },
      "source": [
        "# [Q6] Code-2\n",
        "# 변수 numbers 사용한 코드\n",
        "numbers = [1, 2, 3, 4]\n",
        "list(map(lambda x:x * 3, numbers))"
      ],
      "execution_count": 9,
      "outputs": [
        {
          "output_type": "execute_result",
          "data": {
            "text/plain": [
              "[3, 6, 9, 12]"
            ]
          },
          "metadata": {
            "tags": []
          },
          "execution_count": 9
        }
      ]
    },
    {
      "cell_type": "markdown",
      "metadata": {
        "colab_type": "text",
        "id": "YrS3b88QbmKo"
      },
      "source": [
        "## Q7.\n",
        "> 다음 리스트의 최댓값과 최솟값의 합을 구해 보자.\n",
        ">> [-8, 2, 7, 5, -3, 5, 0, 1]"
      ]
    },
    {
      "cell_type": "markdown",
      "metadata": {
        "id": "bC9TQAXXPbNl",
        "colab_type": "text"
      },
      "source": [
        "- 리스트의 최댓값은 내장함수 max(), 최솟값은 내장함수 min()을 사용하여 구한다"
      ]
    },
    {
      "cell_type": "code",
      "metadata": {
        "colab_type": "code",
        "id": "Ll_2InMWbmKq",
        "colab": {
          "base_uri": "https://localhost:8080/",
          "height": 34
        },
        "outputId": "c053fd0f-4cc8-4532-f039-6a8cea3a2c08"
      },
      "source": [
        "# [Q7] Code\n",
        "numbers = [-8, 2, 7, 5, -3, 5, 0, 1]\n",
        "max(numbers) + min(numbers)"
      ],
      "execution_count": 10,
      "outputs": [
        {
          "output_type": "execute_result",
          "data": {
            "text/plain": [
              "-1"
            ]
          },
          "metadata": {
            "tags": []
          },
          "execution_count": 10
        }
      ]
    },
    {
      "cell_type": "markdown",
      "metadata": {
        "colab_type": "text",
        "id": "OcSDHHYkK6lZ"
      },
      "source": [
        "## Q8.\n",
        "> 17 / 3의 결과는 다음과 같다.\n",
        "```\n",
        "17 / 3\n",
        "5.666666666666667\n",
        "```\n",
        "> 위와 같은 결괏값 5.666666666666667을 소숫점 4자리까지만 반올림하여 표시해 보자."
      ]
    },
    {
      "cell_type": "code",
      "metadata": {
        "colab_type": "code",
        "id": "GmaaVGqrK6le",
        "colab": {
          "base_uri": "https://localhost:8080/",
          "height": 34
        },
        "outputId": "c82f0c8e-be04-4280-bebe-7cd698cb3b5c"
      },
      "source": [
        "# [Q8] Code\n",
        "round(17/3, 4)"
      ],
      "execution_count": 58,
      "outputs": [
        {
          "output_type": "execute_result",
          "data": {
            "text/plain": [
              "5.6667"
            ]
          },
          "metadata": {
            "tags": []
          },
          "execution_count": 58
        }
      ]
    },
    {
      "cell_type": "markdown",
      "metadata": {
        "colab_type": "text",
        "id": "anwB_DjuK60j"
      },
      "source": [
        "## Q9.\n",
        "> 다음과 같이 실행할 때 입력값을 모두 더하여 출력하는 스크립트\n",
        "\n",
        "> (C:\\doit\\myargv.py)를 작성해 보자.\n",
        "```\n",
        "C:\\> cd doit\n",
        "C:\\doit> python myargv.py 1 2 3 4 5 6 7 8 9 10\n",
        "55\n",
        "```\n",
        ">> ※ 외장 함수 sys.argv를 사용해 보자."
      ]
    },
    {
      "cell_type": "markdown",
      "metadata": {
        "id": "hjAz0W-NhtsQ",
        "colab_type": "text"
      },
      "source": [
        "- sys 모듈의 argv를 사용하여 명령 행 입력값 모두를 차례로 더해준다"
      ]
    },
    {
      "cell_type": "code",
      "metadata": {
        "id": "mOi8CfKJhoJ5",
        "colab_type": "code",
        "colab": {}
      },
      "source": [
        "# [Q9] Code\n",
        "import sys\n",
        "numbers = sys.argv[1:] # 파일 이름을 제외한 명령 행의 모든 입력 \n",
        "sum = 0                 \n",
        "for number in numbers: \n",
        "    sum += int(number)  # int로 형변환을 해준다\n",
        "print(sum)"
      ],
      "execution_count": 0,
      "outputs": []
    },
    {
      "cell_type": "code",
      "metadata": {
        "id": "F-_w8JUFhqQt",
        "colab_type": "code",
        "colab": {}
      },
      "source": [
        "run doit/myargv.py 1 2 3 4 5 6 7 8 9 10"
      ],
      "execution_count": 0,
      "outputs": []
    },
    {
      "cell_type": "markdown",
      "metadata": {
        "colab_type": "text",
        "id": "PVA_-b0TK7Ai"
      },
      "source": [
        "## Q10.\n",
        "> os 모듈을 사용하여 다음과 같이 동작하도록 코드를 작성해 보자.\n",
        "\n",
        "1. ./doit 디렉터리로 이동한다.\n",
        "2. dir 명령을 실행하고 그 결과를 변수에 담는다.\n",
        "3. dir 명령의 결과를 출력한다."
      ]
    },
    {
      "cell_type": "code",
      "metadata": {
        "colab_type": "code",
        "id": "XCnUj3obMr3v",
        "colab": {
          "base_uri": "https://localhost:8080/",
          "height": 52
        },
        "outputId": "4b2c709c-063a-457d-a517-1a22bbd3c0d7"
      },
      "source": [
        "# [Q10] Code\n",
        "import os  \n",
        "\n",
        "os.chdir(\"/content/doit\") \n",
        "\n",
        "result = os.popen(\"dir\")  # os 모듈의 popend를 사용하여 시스템 명령어인 dir을 수행\n",
        "print(result.read())"
      ],
      "execution_count": 36,
      "outputs": [
        {
          "output_type": "stream",
          "text": [
            "py23.py\n",
            "\n"
          ],
          "name": "stdout"
        }
      ]
    },
    {
      "cell_type": "markdown",
      "metadata": {
        "colab_type": "text",
        "id": "8xQf6xJ4K7M_"
      },
      "source": [
        "## Q11.\n",
        "> glob 모듈을 사용하여 ./doit 디렉터리의 파일 중 확장자가 .py인 파일만 출력하는 프로그램을 작성해 보자."
      ]
    },
    {
      "cell_type": "code",
      "metadata": {
        "colab_type": "code",
        "id": "UCO7aRh5Msx6",
        "colab": {
          "base_uri": "https://localhost:8080/",
          "height": 34
        },
        "outputId": "61a79011-4855-43ee-b878-007702ea6ddc"
      },
      "source": [
        "# [Q11] Code\n",
        "import glob  # glob 모듈 사용\n",
        "glob.glob(\"/content/doit/*.py\")"
      ],
      "execution_count": 38,
      "outputs": [
        {
          "output_type": "execute_result",
          "data": {
            "text/plain": [
              "['/content/doit/py23.py']"
            ]
          },
          "metadata": {
            "tags": []
          },
          "execution_count": 38
        }
      ]
    },
    {
      "cell_type": "markdown",
      "metadata": {
        "colab_type": "text",
        "id": "Q6QYCZ9HM3DW"
      },
      "source": [
        "## Q12.\n",
        "> time 모듈을 사용하여 현재 날짜와 시간을 다음과 같은 형식으로 출력해 보자.\n",
        "\n",
        "- 2018/04/03 17:20:32"
      ]
    },
    {
      "cell_type": "code",
      "metadata": {
        "colab_type": "code",
        "id": "80vm6aSMM3gf",
        "colab": {
          "base_uri": "https://localhost:8080/",
          "height": 34
        },
        "outputId": "a2f073ad-c733-4abe-83cc-efa7c52859c9"
      },
      "source": [
        "# [Q12] Code-1\n",
        "import time\n",
        "time.strftime(\"%Y/%m/%d %H:%M:%S\")\n",
        "#################################\n",
        "# %Y 년도\n",
        "# %m 달\n",
        "# %d 날\n",
        "# %H 시간 (24시간 출력 상태)\n",
        "# %M 분\n",
        "# %S 초"
      ],
      "execution_count": 19,
      "outputs": [
        {
          "output_type": "execute_result",
          "data": {
            "text/plain": [
              "'2020/06/13 15:28:07'"
            ]
          },
          "metadata": {
            "tags": []
          },
          "execution_count": 19
        }
      ]
    },
    {
      "cell_type": "markdown",
      "metadata": {
        "colab_type": "text",
        "id": "x2IYgozSM3gd"
      },
      "source": [
        "## Q13.\n",
        "> random 모듈을 사용하여 로또 번호(1~45 사이의 숫자 6개)를 생성해 보자(단 중복된 숫자가 있으면 안 됨)."
      ]
    },
    {
      "cell_type": "code",
      "metadata": {
        "id": "p44JKaMFi5nu",
        "colab_type": "code",
        "colab": {
          "base_uri": "https://localhost:8080/",
          "height": 34
        },
        "outputId": "0b852259-5bd6-4d40-88e9-5cbaea3a1902"
      },
      "source": [
        "# [Q13] Code-1\n",
        "import random\n",
        "\n",
        "numbers = list(range(1, 46))\n",
        "lotto = []\n",
        "\n",
        "while len(lotto) < 6:\n",
        "    num = random.choice(numbers)\n",
        "    if not num in lotto:\n",
        "        lotto.append(num)\n",
        "\n",
        "print(lotto)"
      ],
      "execution_count": 57,
      "outputs": [
        {
          "output_type": "stream",
          "text": [
            "[1, 4, 13, 36, 31, 19]\n"
          ],
          "name": "stdout"
        }
      ]
    },
    {
      "cell_type": "code",
      "metadata": {
        "id": "OLpSyeUyi01O",
        "colab_type": "code",
        "colab": {
          "base_uri": "https://localhost:8080/",
          "height": 34
        },
        "outputId": "1ef0f378-a94a-4f98-8a5c-17e948c31206"
      },
      "source": [
        "# [Q13] Code-2\n",
        "import random\n",
        "\n",
        "numbers = random.randint(1,45)\n",
        "lotto = []\n",
        "\n",
        "for i in range(6):\n",
        "    while numbers in lotto:\n",
        "        numbers = random.randint(1,45)\n",
        "    lotto.append(numbers)\n",
        "\n",
        "lotto.sort()\n",
        "print(lotto)"
      ],
      "execution_count": 55,
      "outputs": [
        {
          "output_type": "stream",
          "text": [
            "[2, 4, 20, 25, 34, 39]\n"
          ],
          "name": "stdout"
        }
      ]
    },
    {
      "cell_type": "code",
      "metadata": {
        "colab_type": "code",
        "id": "FiKNOu9HM3DX",
        "colab": {
          "base_uri": "https://localhost:8080/",
          "height": 34
        },
        "outputId": "2021ff1a-4136-4c6b-f5e3-0c9b3406db94"
      },
      "source": [
        "# [Q13] Code-3\n",
        "import random\n",
        "\n",
        "lotto = []\n",
        "while len(lotto) < 6:\n",
        "    numbers = random.randint(1, 45)\n",
        "    if number not in lotto:\n",
        "        lotto.append(numbers)\n",
        "\n",
        "print(lotto)"
      ],
      "execution_count": 56,
      "outputs": [
        {
          "output_type": "stream",
          "text": [
            "[39, 30, 9, 42, 23, 30]\n"
          ],
          "name": "stdout"
        }
      ]
    },
    {
      "cell_type": "markdown",
      "metadata": {
        "id": "2ljBDShkbqZO",
        "colab_type": "text"
      },
      "source": [
        "## 코딩 연습 결과를 github에 올리기\n",
        "> 완성된 ipython 노트북 파일을 각자의 github에 올리시오.\n",
        "\n",
        "- github 계정 만들기 (계정이 없는 학생)\n",
        "    1. github에 sign up (Google gmail 계정을 이용해서 만드시오.)\n",
        "- github에 노트 올리기\n",
        "    2. github에 각자의 id로 repo를 만드시오. (한번 만들면 계속 재사용)\n",
        "    3. github repo에 연습결과 노트를 올리시오.\n",
        "        - 제출노트: ch5_exercises_id.ipynb\n"
      ]
    }
  ]
}