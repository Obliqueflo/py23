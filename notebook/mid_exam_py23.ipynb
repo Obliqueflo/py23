{
  "nbformat": 4,
  "nbformat_minor": 0,
  "metadata": {
    "colab": {
      "name": "mid_exam_py23.ipynb",
      "provenance": [],
      "collapsed_sections": [],
      "authorship_tag": "ABX9TyOJ53Fmts3jVYaC7Dp/yePZ",
      "include_colab_link": true
    },
    "kernelspec": {
      "name": "python3",
      "display_name": "Python 3"
    }
  },
  "cells": [
    {
      "cell_type": "markdown",
      "metadata": {
        "id": "view-in-github",
        "colab_type": "text"
      },
      "source": [
        "<a href=\"https://colab.research.google.com/github/Obliqueflo/py23/blob/master/notebook/mid_exam_py23.ipynb\" target=\"_parent\"><img src=\"https://colab.research.google.com/assets/colab-badge.svg\" alt=\"Open In Colab\"/></a>"
      ]
    },
    {
      "cell_type": "markdown",
      "metadata": {
        "id": "PoMGDSaZ5i1d",
        "colab_type": "text"
      },
      "source": [
        "## Python 활용 중간고사 풀이"
      ]
    },
    {
      "cell_type": "markdown",
      "metadata": {
        "id": "9184l30g5sL3",
        "colab_type": "text"
      },
      "source": [
        "### 문제1)\n",
        "- 다음 식의 연산 결과는?"
      ]
    },
    {
      "cell_type": "code",
      "metadata": {
        "id": "1BeCPh0h5aXp",
        "colab_type": "code",
        "colab": {
          "base_uri": "https://localhost:8080/",
          "height": 34
        },
        "outputId": "f405555a-ffc8-4056-ec5f-bdc71747a9fd"
      },
      "source": [
        "a = 5   # 변수 a에 5를 대입\n",
        "b = 5   # 변수 b에 5를 대입\n",
        "a**5    # a^b, a의 b제곱을 나타내는 ** 연산자"
      ],
      "execution_count": 1,
      "outputs": [
        {
          "output_type": "execute_result",
          "data": {
            "text/plain": [
              "3125"
            ]
          },
          "metadata": {
            "tags": []
          },
          "execution_count": 1
        }
      ]
    },
    {
      "cell_type": "markdown",
      "metadata": {
        "id": "vtEGiVBUAnX2",
        "colab_type": "text"
      },
      "source": [
        "### Answer\n",
        "- 125 (5^3 = 125)"
      ]
    },
    {
      "cell_type": "markdown",
      "metadata": {
        "id": "TjeVwv_gBauo",
        "colab_type": "text"
      },
      "source": [
        "### 문제 2)\n",
        "- 다음 문자열 a에 대하여 슬라이싱을 한 결과는?\n",
        "- a = \"Life is too short, You need Python!\"\n",
        "- a[-16:-8]"
      ]
    },
    {
      "cell_type": "code",
      "metadata": {
        "id": "QZpm19RNBQWB",
        "colab_type": "code",
        "colab": {
          "base_uri": "https://localhost:8080/",
          "height": 34
        },
        "outputId": "fb6ea486-249e-415a-b6a8-2c6c1539f1d6"
      },
      "source": [
        "a = \"Life is too short, You need Python!\"   # 변수 a에 \"Life is too short, You need Python!\" 문자열 대입\n",
        "a[-16:-8]   #'You need' # a[-16]-->'Y'에서부터 a[-9]-->'d'까지를 슬라이싱, a[-8]은 포함하지 않는다"
      ],
      "execution_count": 2,
      "outputs": [
        {
          "output_type": "execute_result",
          "data": {
            "text/plain": [
              "'You need'"
            ]
          },
          "metadata": {
            "tags": []
          },
          "execution_count": 2
        }
      ]
    },
    {
      "cell_type": "markdown",
      "metadata": {
        "id": "DJmrZTpYEDId",
        "colab_type": "text"
      },
      "source": [
        "### Correct Answer\n",
        "- 'You need'\n",
        "\n",
        "### Wrong Answers\n",
        "- 'You need Python'\n",
        "> a[19:-1]\n",
        "- 'need Python'\n",
        "> a[-12:-1]\n",
        "- 'short, You'\n",
        "> a[12:-13]\n",
        "\n",
        "\n",
        "\n"
      ]
    },
    {
      "cell_type": "markdown",
      "metadata": {
        "id": "gAeLhAOLGRC5",
        "colab_type": "text"
      },
      "source": [
        "### 문제 3)\n",
        "- 다음 list a의 인덱싱 결과는?\n",
        "- a = [1, 2, (3, 4), ['a', 'b', ['My', 'Life', 'Good']]]\n",
        "- a[3][-1][0]"
      ]
    },
    {
      "cell_type": "code",
      "metadata": {
        "id": "zJj7c-wBG_F-",
        "colab_type": "code",
        "colab": {
          "base_uri": "https://localhost:8080/",
          "height": 34
        },
        "outputId": "0533891a-1777-4b52-c350-4dea5e8d9d26"
      },
      "source": [
        "a = [1, 2, (3, 4), ['a', 'b', ['My', 'Life', 'Good']]]  # 변수 a에 리스트 값을 설정([1, 2, (3, 4), ['a', 'b', ['My', 'Life', 'Good']]] 리스트a 생성)\n",
        "a[3][-1][0] # 'My'\n",
        "            # 리스트 a의 네 번째 요소인 리스트 ['a', 'b', ['My', 'Life', 'Good']]에서 마지막 요소인 리스트 ['My', 'Life', 'Good']의 첫 번째 요소를 뜻한다 "
      ],
      "execution_count": 3,
      "outputs": [
        {
          "output_type": "execute_result",
          "data": {
            "text/plain": [
              "'My'"
            ]
          },
          "metadata": {
            "tags": []
          },
          "execution_count": 3
        }
      ]
    },
    {
      "cell_type": "markdown",
      "metadata": {
        "id": "lG33pb3KI1T0",
        "colab_type": "text"
      },
      "source": [
        "### Correct Answer\n",
        "- 'My'\n",
        "\n",
        "### Wrong Answers\n",
        "- 'a'\n",
        "> a[3][0]\n",
        "- 'Life'\n",
        "> a[3][2][1]\n",
        "- 'Good'\n",
        "> a[3][2][2]"
      ]
    },
    {
      "cell_type": "markdown",
      "metadata": {
        "id": "B0-8JvImJt-b",
        "colab_type": "text"
      },
      "source": [
        "### 문제 4)\n",
        "- 다음 tuple t1의 슬라이싱 결과는?\n",
        "- t1 = (0, 1, \"s\", \"t\", \"u\")\n",
        "- t1[2:-2]"
      ]
    },
    {
      "cell_type": "code",
      "metadata": {
        "id": "4ZSDaxnBFJVg",
        "colab_type": "code",
        "colab": {
          "base_uri": "https://localhost:8080/",
          "height": 34
        },
        "outputId": "9ca45226-d4d1-4c75-d867-4203313119ee"
      },
      "source": [
        "t1 = (0, 1, \"s\", \"t\", \"u\")  # 5개의 요소를 가진 튜플 t1 생성\n",
        "t1[2:-2]  # ('s',) \n",
        "          # 튜플은 단지 1개의 요소만을 가질 때는 요소 뒤에 콤마(,)를 반드시 붙여야 하므로 ('s',)가 출력\n",
        "          # 튜플 t1의 두 번째 요소인 \"s\"부터 뒤에서 두 번째 요소인 \"t\"까지의 슬라이싱"
      ],
      "execution_count": 4,
      "outputs": [
        {
          "output_type": "execute_result",
          "data": {
            "text/plain": [
              "('s',)"
            ]
          },
          "metadata": {
            "tags": []
          },
          "execution_count": 4
        }
      ]
    },
    {
      "cell_type": "markdown",
      "metadata": {
        "id": "ocr1JtAzMFnr",
        "colab_type": "text"
      },
      "source": [
        "### Correct Answer\n",
        "- ('s',)\n",
        "\n",
        "### Wrong Answers\n",
        "- ('s', 't')\n",
        "> t1[2:-1]\n",
        "- ('s', 't',)\n",
        "> 위와 같은 데이터 타입으로 출력 결과값 나올 수 없음 \n",
        "- ('s')\n",
        "> 튜플은 1개의 요소만을 가질 때는 정답과 같이 요소 뒤에 콤마(,)를 반드시 붙여서 출력함"
      ]
    },
    {
      "cell_type": "markdown",
      "metadata": {
        "id": "SrIIs_L9N6re",
        "colab_type": "text"
      },
      "source": [
        "### 문제 5)\n",
        "- 다음 bool값 출력 중 정확한 것은?\n",
        "- bool([0, 1, 2]), bool([0]), bool((0)), bool((0,))"
      ]
    },
    {
      "cell_type": "code",
      "metadata": {
        "id": "V0WqfAWTNaOu",
        "colab_type": "code",
        "colab": {
          "base_uri": "https://localhost:8080/",
          "height": 34
        },
        "outputId": "86fa06a6-9743-4d17-def6-ff582ceffaae"
      },
      "source": [
        "bool([0, 1, 2]), bool([0]), bool((0)), bool((0,))\n",
        "# bool([0, 1, 2]) : 리스트 [0, 1, 2] 값이 있으므로 True를 돌려준다\n",
        "# bool([0]) : 리스트 [0] 값이 있으므로 True를 돌려준다\n",
        "# bool((0)) : (0)은 int타입의 그저 0이며 False 값인 0이므로 False를 돌려준다"
      ],
      "execution_count": 5,
      "outputs": [
        {
          "output_type": "execute_result",
          "data": {
            "text/plain": [
              "(True, True, False, True)"
            ]
          },
          "metadata": {
            "tags": []
          },
          "execution_count": 5
        }
      ]
    },
    {
      "cell_type": "markdown",
      "metadata": {
        "id": "0HFyjv8BPZ51",
        "colab_type": "text"
      },
      "source": [
        "### Answer\n",
        "- (True, True, False, True)"
      ]
    },
    {
      "cell_type": "markdown",
      "metadata": {
        "id": "4wnfQIvUPlpZ",
        "colab_type": "text"
      },
      "source": [
        "### 문제 6)\n",
        "- 다음 조건물을 1줄 코드로 변경하시오."
      ]
    },
    {
      "cell_type": "code",
      "metadata": {
        "id": "pvlRhIbnPZdr",
        "colab_type": "code",
        "colab": {
          "base_uri": "https://localhost:8080/",
          "height": 34
        },
        "outputId": "9c01ba24-6642-4271-82db-2264e77a0c5f"
      },
      "source": [
        "score = 80  # 변수 score에 80 대입\n",
        "if score >= 60: # score의 값이 60 이상이면\n",
        "  message = \"success\" # 변수 message에 문자열 \"success\"대입\n",
        "else: # 조건문에 부합하지 않으면\n",
        "  message = \"failure\" # 변수 message에 문자열 \"failure\" 대입\n",
        "\n",
        "print(message)  # success 출력 "
      ],
      "execution_count": 14,
      "outputs": [
        {
          "output_type": "stream",
          "text": [
            "success\n"
          ],
          "name": "stdout"
        }
      ]
    },
    {
      "cell_type": "markdown",
      "metadata": {
        "id": "6YJ81OMDRF8q",
        "colab_type": "text"
      },
      "source": [
        "### Correct Answer\n",
        "- if 문을 한 줄로 작성) if문 다음 수행할 문장을 콜론(:) 뒤에 바로 적어주었으며 else문 역시 동일하다.\n",
        "- message = \"success\" if score >= 60 else \"failure\"\n",
        "> success\n",
        "\n",
        "### Wrong Answers\n",
        "- message = \"failure\" if score >= 60 else \"success\"\n",
        "> failure 출력되므로 오답\n",
        "- message = \"failure\" if score >= 60 then \"success\"\n",
        "> SyntaxError: invalid syntax\n",
        "- message = \"success\" if score >= 60 then \"failure\"\n",
        "> SyntaxError: invalid syntax"
      ]
    },
    {
      "cell_type": "markdown",
      "metadata": {
        "id": "P4j-EzX_Tkuv",
        "colab_type": "text"
      },
      "source": [
        "### 문제 7)\n",
        "- 다음 코드의 실행 결과는?"
      ]
    },
    {
      "cell_type": "code",
      "metadata": {
        "id": "bKCcJiN7REkt",
        "colab_type": "code",
        "colab": {
          "base_uri": "https://localhost:8080/",
          "height": 34
        },
        "outputId": "1459bb67-b9ea-443c-d519-70631e2974a6"
      },
      "source": [
        "games = [\"A\", \"B\", \"C\"] # 변수 game에 [\"A\", \"B\", \"C\"] 리스트 생성\n",
        "\n",
        "for cnt in range(len(games)): # len 함수는 리스트 안의 요소 개수를 돌려주는 함수-->len(games)는 3가 되고 range(len(games))는 range(3)가 된다.\n",
        "                              # 0부터 3미만의 숫자를 포함하여 cnt 변수에는 차례로 0부터 2까지의 숫자가 대입될 것이고, \n",
        "                              #그에따라  games[cnt]는 차례대로 \"A\", \"B\", \"C\" 값이 할당된다.\n",
        "  print(cnt, games[cnt], end = ',') # end 속성 문자열(,)을 붙이고 다음 결과물을 출력해 나간다"
      ],
      "execution_count": 16,
      "outputs": [
        {
          "output_type": "stream",
          "text": [
            "0 A,1 B,2 C,"
          ],
          "name": "stdout"
        }
      ]
    },
    {
      "cell_type": "markdown",
      "metadata": {
        "id": "MZl9JJFvXpJ6",
        "colab_type": "text"
      },
      "source": [
        "### Answer\n",
        "- 0 A,1 B,2 C,"
      ]
    },
    {
      "cell_type": "markdown",
      "metadata": {
        "id": "FyztgZPbYSlI",
        "colab_type": "text"
      },
      "source": [
        "### 문제 8)\n",
        "- 다음의 결과가 출력되지 않는 것은?\n",
        "- 'I ate 10 apples, so I was sick for three days.\""
      ]
    },
    {
      "cell_type": "code",
      "metadata": {
        "id": "Wa19fD1SVOIg",
        "colab_type": "code",
        "colab": {
          "base_uri": "https://localhost:8080/",
          "height": 134
        },
        "outputId": "a224c6d3-e56e-44bb-f5b6-c8d4640516b2"
      },
      "source": [
        "# code start\n",
        "number = 10 # 변수 number에 10 대입\n",
        "day = \"three\" # 변수 day에 문자열 \"three\" 대입\n",
        "\n",
        "\"I ate {0} apples. so I was sick {1} days.\".format(10, day)\n",
        "# format 함수를 사용한 포매팅 : 문자열 중 {0} 항목이 10으로, {1} 항목이 day 변수 값인 \"three\"로 바뀐다\n",
        "\n",
        "f\"I ate {number} apples. so I was sick for {day} days.\"\n",
        "# f문자열 포매팅 : 변수 값 number, day 생성 후 {number} 항목, {day} 항목이 그 값을 참조한다.\n",
        "\n",
        "f\"I ate {number} apples. so I was sick for {'three'} days.\"\n",
        "# f 문자열 포매팅 : {number} 항목은 변수 값 참조가 되고, {'three'} 부분은 그대로 지정된다\n",
        "\n",
        "\"I ate {0} apples. so I was sick for {1} ays.\".format(number=10, day)\n",
        "# SyntaxError: positional argument follows keyword argument\n",
        "# format 함수에 (number, day)와 같이 변수 값의 튜플 형태로 지정해야한다"
      ],
      "execution_count": 17,
      "outputs": [
        {
          "output_type": "error",
          "ename": "SyntaxError",
          "evalue": "ignored",
          "traceback": [
            "\u001b[0;36m  File \u001b[0;32m\"<ipython-input-17-d19e8e653670>\"\u001b[0;36m, line \u001b[0;32m9\u001b[0m\n\u001b[0;31m    \"I ate {0} apples. so I was sick for {1} ays.\".format(number=10, day)\u001b[0m\n\u001b[0m                                                                    ^\u001b[0m\n\u001b[0;31mSyntaxError\u001b[0m\u001b[0;31m:\u001b[0m positional argument follows keyword argument\n"
          ]
        }
      ]
    },
    {
      "cell_type": "markdown",
      "metadata": {
        "id": "reO-i7Q9eO88",
        "colab_type": "text"
      },
      "source": [
        "### Correct Answer\n",
        "- \"I ate {0} apples. so I was sick for {1} ays.\".format(number=10, day)\n",
        "> SyntaxError: positional argument follows keyword argument\n",
        "\n",
        "### Wrong Answers\n",
        "- \"I ate {0} apples. so I was sick {1} days.\".format(10, day)\n",
        "> 'I ate 10 apples. so I was sick for three days.'\n",
        "- f\"I ate {number} apples. so I was sick for {day} days.\"\n",
        "> 'I ate 10 apples. so I was sick for three days.'\n",
        "- f\"I ate {number} apples. so I was sick for {'three'} days.\"\n",
        "> 'I ate 10 apples. so I was sick for three days.'"
      ]
    },
    {
      "cell_type": "markdown",
      "metadata": {
        "id": "fZAvm48Vfdew",
        "colab_type": "text"
      },
      "source": [
        "### 문제 9)\n",
        "- 리스트 내포를 사용해 1부터 1000이하의 자연수 중 5의 배수의 합을 구하는 한 줄 코드를 작성하시오.\n",
        "- 5 + 10 + 15+ 20 + 25 + ..... + 955 + 960 + 965 + 970 + 975 + .... + 995 + 1000 = ?"
      ]
    },
    {
      "cell_type": "code",
      "metadata": {
        "id": "lICHl5CQfQI4",
        "colab_type": "code",
        "colab": {
          "base_uri": "https://localhost:8080/",
          "height": 34
        },
        "outputId": "e3c1d347-b12b-43fa-adf0-ecb7807253da"
      },
      "source": [
        "sum([num for num in range(1, 1001) if num % 5 == 0]) \n",
        "# num 변수에 차례로 0부터 1000까지의 숫자가 대입될 것이고, \n",
        "# sum 함수에서 5의 배수인 num 값을 더해 나간다"
      ],
      "execution_count": 18,
      "outputs": [
        {
          "output_type": "execute_result",
          "data": {
            "text/plain": [
              "100500"
            ]
          },
          "metadata": {
            "tags": []
          },
          "execution_count": 18
        }
      ]
    },
    {
      "cell_type": "markdown",
      "metadata": {
        "id": "gaNzarK1h4aS",
        "colab_type": "text"
      },
      "source": [
        "### Correct Answer\n",
        "- sum([num for num in range(1, 1001) if num % 5 == 0])\n",
        "> 100500\n",
        "\n",
        "### Wrong Answers\n",
        "- sum([num for num in range(1, 1000) if num % 5 == 0])\n",
        "> 99500 출력 : range(시작 숫자, 끝 숫자) 형태를 사용하는데, 이때 끝 숫자는 포함되지 않으므로 0부터 999까지만 더해진다\n",
        "- len([num for num in range(1, 1000) if num % 5 == 0])\n",
        "> 199 출력 : len 함수로 0부터 999까지의 숫자에서의 5의 배수의 갯수를 counting 하여 출력한다\n",
        "- len([num for num in range(1, 1001) if num % 5 == 0])\n",
        "> 200 출력 : len 함수로 0부터 1000까지의 숫자에서의 5의 배수의 갯수를 counting 하여 출력한다"
      ]
    },
    {
      "cell_type": "markdown",
      "metadata": {
        "id": "ppL5HOCTj9ZU",
        "colab_type": "text"
      },
      "source": [
        "### 문제 10)\n",
        "- 4개의 과목의 평균 성적을 구하시오. [a], [b]에 적합한 코드는?"
      ]
    },
    {
      "cell_type": "code",
      "metadata": {
        "id": "3Dev-g09q7KK",
        "colab_type": "code",
        "colab": {}
      },
      "source": [
        "# 주어진 문제 10의 코드\n",
        "subjects = ['python','english','math','science']\n",
        "scores = [88, 77, 66, 95]\n",
        "total = 0\n",
        "\n",
        "for subject, score in [a].______(subjects, scores):\n",
        "  total += score\n",
        "  print(subject, score)\n",
        "\n",
        "print(\"평균 점수 = (0)\".format([b]._______))"
      ],
      "execution_count": 0,
      "outputs": []
    },
    {
      "cell_type": "markdown",
      "metadata": {
        "id": "b8CuUxbErpFP",
        "colab_type": "text"
      },
      "source": [
        "### Correct Answer\n",
        "- zip, total/len(subjects)"
      ]
    },
    {
      "cell_type": "code",
      "metadata": {
        "id": "Hm7RBUEbr-NF",
        "colab_type": "code",
        "colab": {
          "base_uri": "https://localhost:8080/",
          "height": 105
        },
        "outputId": "a32d65c3-b53e-4811-e744-0a1fe0868a1f"
      },
      "source": [
        "subjects = ['python','english','math','science']         \n",
        "scores = [88, 77, 66, 95]\n",
        "total = 0\n",
        "# Python의 내장함수인 zip()은 같은 길이의 리스트를 같은 인덱스끼리 분할하여 리스트 형태로 반환 해준다\n",
        "# for문을 이용하여 여러 개의 리스트에서 값을 가져와서 처리해준다\n",
        "for subject, score in zip(subjects, scores):  # zip()으로 리스트subjects의 값들, scores리스트의 값들이 차례로 각각 subject, score에 대입된다\n",
        "  total += score\n",
        "  print(subject, score)\n",
        "\n",
        "print(\"평균 점수 = {0}\".format(total/len(subjects)))  # format함수로 total 값을 len(subjects)-->4(리스트 항목 갯수)로 나눈 값인 '평균값'이 {0} 항목에 할당된다"
      ],
      "execution_count": 20,
      "outputs": [
        {
          "output_type": "stream",
          "text": [
            "python 88\n",
            "english 77\n",
            "math 66\n",
            "science 95\n",
            "평균 점수 = 81.5\n"
          ],
          "name": "stdout"
        }
      ]
    },
    {
      "cell_type": "markdown",
      "metadata": {
        "id": "DpPxqSGcvTfu",
        "colab_type": "text"
      },
      "source": [
        "### Wrong Answer1\n",
        "- enumerate, scores/len(subjects)"
      ]
    },
    {
      "cell_type": "code",
      "metadata": {
        "id": "YV7hvfIYvqql",
        "colab_type": "code",
        "colab": {
          "base_uri": "https://localhost:8080/",
          "height": 239
        },
        "outputId": "00373c79-1287-4cb7-8193-93a0699d8968"
      },
      "source": [
        "subjects = ['python','english','math','science']         \n",
        "scores = [88, 77, 66, 95]\n",
        "total = 0\n",
        "\n",
        "for subject, score in enumerate(subjects, scores):  # TypeError: 'list' object cannot be interpreted as an integer\n",
        "                                                    # 인덱스를 자동으로 추가해주는 enumerate() 함수의 형태가 아닌, \n",
        "                                                    # 두 리스트의 같은 인덱스의 원소끼리 묶어 사용하는 zip() 함수의 형태를 사용하여 오류 발생\n",
        "  total += score\n",
        "  print(subject, score)\n",
        "\n",
        "print(\"평균 점수 = {0}\".format(score/len(subjects))) "
      ],
      "execution_count": 21,
      "outputs": [
        {
          "output_type": "error",
          "ename": "TypeError",
          "evalue": "ignored",
          "traceback": [
            "\u001b[0;31m---------------------------------------------------------------------------\u001b[0m",
            "\u001b[0;31mTypeError\u001b[0m                                 Traceback (most recent call last)",
            "\u001b[0;32m<ipython-input-21-1dbb599b017e>\u001b[0m in \u001b[0;36m<module>\u001b[0;34m()\u001b[0m\n\u001b[1;32m      3\u001b[0m \u001b[0mtotal\u001b[0m \u001b[0;34m=\u001b[0m \u001b[0;36m0\u001b[0m\u001b[0;34m\u001b[0m\u001b[0;34m\u001b[0m\u001b[0m\n\u001b[1;32m      4\u001b[0m \u001b[0;34m\u001b[0m\u001b[0m\n\u001b[0;32m----> 5\u001b[0;31m \u001b[0;32mfor\u001b[0m \u001b[0msubject\u001b[0m\u001b[0;34m,\u001b[0m \u001b[0mscore\u001b[0m \u001b[0;32min\u001b[0m \u001b[0menumerate\u001b[0m\u001b[0;34m(\u001b[0m\u001b[0msubjects\u001b[0m\u001b[0;34m,\u001b[0m \u001b[0mscores\u001b[0m\u001b[0;34m)\u001b[0m\u001b[0;34m:\u001b[0m\u001b[0;34m\u001b[0m\u001b[0;34m\u001b[0m\u001b[0m\n\u001b[0m\u001b[1;32m      6\u001b[0m   \u001b[0mtotal\u001b[0m \u001b[0;34m+=\u001b[0m \u001b[0mscore\u001b[0m\u001b[0;34m\u001b[0m\u001b[0;34m\u001b[0m\u001b[0m\n\u001b[1;32m      7\u001b[0m   \u001b[0mprint\u001b[0m\u001b[0;34m(\u001b[0m\u001b[0msubject\u001b[0m\u001b[0;34m,\u001b[0m \u001b[0mscore\u001b[0m\u001b[0;34m)\u001b[0m\u001b[0;34m\u001b[0m\u001b[0;34m\u001b[0m\u001b[0m\n",
            "\u001b[0;31mTypeError\u001b[0m: 'list' object cannot be interpreted as an integer"
          ]
        }
      ]
    },
    {
      "cell_type": "markdown",
      "metadata": {
        "id": "ce4RAgiDxMK0",
        "colab_type": "text"
      },
      "source": [
        "### Wrong Answer2\n",
        "- zip, scores/len(subjects)"
      ]
    },
    {
      "cell_type": "code",
      "metadata": {
        "id": "NNZ9kc-6xLy-",
        "colab_type": "code",
        "colab": {
          "base_uri": "https://localhost:8080/",
          "height": 105
        },
        "outputId": "a572098f-4642-4b54-bea9-54363e3bbcfb"
      },
      "source": [
        "subjects = ['python','english','math','science']         \n",
        "scores = [88, 77, 66, 95]\n",
        "total = 0\n",
        "\n",
        "for subject, score in zip(subjects, scores): \n",
        "  total += score\n",
        "  print(subject, score)\n",
        "\n",
        "print(\"평균 점수 = {0}\".format(len(subjects)))  # format함수를 사용한 포매팅 : 리스트subjects의 항목 갯수를 counting 하여 {0} 항목에 할당한다"
      ],
      "execution_count": 22,
      "outputs": [
        {
          "output_type": "stream",
          "text": [
            "python 88\n",
            "english 77\n",
            "math 66\n",
            "science 95\n",
            "평균 점수 = 4\n"
          ],
          "name": "stdout"
        }
      ]
    },
    {
      "cell_type": "markdown",
      "metadata": {
        "id": "nS7_FPOkyj51",
        "colab_type": "text"
      },
      "source": [
        "### Wrong Answer3\n",
        "- enumerate, total/len(subjects)"
      ]
    },
    {
      "cell_type": "code",
      "metadata": {
        "id": "HrsMP4GoyzxR",
        "colab_type": "code",
        "colab": {
          "base_uri": "https://localhost:8080/",
          "height": 239
        },
        "outputId": "7ff4c7ff-9fa9-4604-9d5f-27af7ebf9d0f"
      },
      "source": [
        "subjects = ['python','english','math','science']         \n",
        "scores = [88, 77, 66, 95]\n",
        "total = 0\n",
        "\n",
        "for subject, score in enumerate(subjects, scores):  # TypeError: 'list' object cannot be interpreted as an integer\n",
        "                                                    # Wrong Answer1과 같은 오류로 인덱스를 자동으로 추가해주는 enumerate() 함수의 형태가 아닌, \n",
        "                                                    # 두 리스트의 같은 인덱스의 원소끼리 묶어 사용하는 zip() 함수의 형태를 사용하여 오류 발생\n",
        "  total += score\n",
        "  print(subject, score)\n",
        "\n",
        "print(\"평균 점수 = {0}\".format(total/len(subjects)))"
      ],
      "execution_count": 23,
      "outputs": [
        {
          "output_type": "error",
          "ename": "TypeError",
          "evalue": "ignored",
          "traceback": [
            "\u001b[0;31m---------------------------------------------------------------------------\u001b[0m",
            "\u001b[0;31mTypeError\u001b[0m                                 Traceback (most recent call last)",
            "\u001b[0;32m<ipython-input-23-67ee76a863bf>\u001b[0m in \u001b[0;36m<module>\u001b[0;34m()\u001b[0m\n\u001b[1;32m      3\u001b[0m \u001b[0mtotal\u001b[0m \u001b[0;34m=\u001b[0m \u001b[0;36m0\u001b[0m\u001b[0;34m\u001b[0m\u001b[0;34m\u001b[0m\u001b[0m\n\u001b[1;32m      4\u001b[0m \u001b[0;34m\u001b[0m\u001b[0m\n\u001b[0;32m----> 5\u001b[0;31m \u001b[0;32mfor\u001b[0m \u001b[0msubject\u001b[0m\u001b[0;34m,\u001b[0m \u001b[0mscore\u001b[0m \u001b[0;32min\u001b[0m \u001b[0menumerate\u001b[0m\u001b[0;34m(\u001b[0m\u001b[0msubjects\u001b[0m\u001b[0;34m,\u001b[0m \u001b[0mscores\u001b[0m\u001b[0;34m)\u001b[0m\u001b[0;34m:\u001b[0m\u001b[0;34m\u001b[0m\u001b[0;34m\u001b[0m\u001b[0m\n\u001b[0m\u001b[1;32m      6\u001b[0m   \u001b[0mtotal\u001b[0m \u001b[0;34m+=\u001b[0m \u001b[0mscore\u001b[0m\u001b[0;34m\u001b[0m\u001b[0;34m\u001b[0m\u001b[0m\n\u001b[1;32m      7\u001b[0m   \u001b[0mprint\u001b[0m\u001b[0;34m(\u001b[0m\u001b[0msubject\u001b[0m\u001b[0;34m,\u001b[0m \u001b[0mscore\u001b[0m\u001b[0;34m)\u001b[0m\u001b[0;34m\u001b[0m\u001b[0;34m\u001b[0m\u001b[0m\n",
            "\u001b[0;31mTypeError\u001b[0m: 'list' object cannot be interpreted as an integer"
          ]
        }
      ]
    }
  ]
}