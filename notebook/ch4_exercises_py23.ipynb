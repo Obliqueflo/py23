{
  "nbformat": 4,
  "nbformat_minor": 0,
  "metadata": {
    "colab": {
      "name": "ch4_exercises_py23.ipynb",
      "provenance": [],
      "collapsed_sections": [],
      "include_colab_link": true
    },
    "kernelspec": {
      "name": "python3",
      "display_name": "Python 3"
    }
  },
  "cells": [
    {
      "cell_type": "markdown",
      "metadata": {
        "id": "view-in-github",
        "colab_type": "text"
      },
      "source": [
        "<a href=\"https://colab.research.google.com/github/Obliqueflo/py23/blob/master/notebook/ch4_exercises_py23.ipynb\" target=\"_parent\"><img src=\"https://colab.research.google.com/assets/colab-badge.svg\" alt=\"Open In Colab\"/></a>"
      ]
    },
    {
      "cell_type": "markdown",
      "metadata": {
        "id": "ovY5jkD5dpxE",
        "colab_type": "text"
      },
      "source": [
        "## ch4_exercises_py23.ipynb"
      ]
    },
    {
      "cell_type": "markdown",
      "metadata": {
        "id": "SZw6UnxQWYBe",
        "colab_type": "text"
      },
      "source": [
        "## Q1.\n",
        "> 주어진 자연수가 홀수인지 짝수인지 판별해 주는 함수(is_odd)를 작성해 보자.\n"
      ]
    },
    {
      "cell_type": "markdown",
      "metadata": {
        "id": "Y7TRRtE7cAzv",
        "colab_type": "text"
      },
      "source": [
        "- boolean을 사용하여 판별"
      ]
    },
    {
      "cell_type": "code",
      "metadata": {
        "id": "rUNNaqJPdg7B",
        "colab_type": "code",
        "colab": {}
      },
      "source": [
        "# [Q3] Code-1\n",
        "def is_odd(number):\n",
        "  return bool(number % 2 == 0)"
      ],
      "execution_count": 0,
      "outputs": []
    },
    {
      "cell_type": "code",
      "metadata": {
        "id": "s8gCirKib9Fa",
        "colab_type": "code",
        "colab": {
          "base_uri": "https://localhost:8080/",
          "height": 34
        },
        "outputId": "60559fbe-03a0-44a5-8171-7e84c8608748"
      },
      "source": [
        "is_odd(2)"
      ],
      "execution_count": 7,
      "outputs": [
        {
          "output_type": "execute_result",
          "data": {
            "text/plain": [
              "True"
            ]
          },
          "metadata": {
            "tags": []
          },
          "execution_count": 7
        }
      ]
    },
    {
      "cell_type": "markdown",
      "metadata": {
        "id": "KLjTFy27cLa3",
        "colab_type": "text"
      },
      "source": [
        "- lambda와 조건부식을 사용하여 보다 간단한 코드로 판별"
      ]
    },
    {
      "cell_type": "code",
      "metadata": {
        "id": "-eAPyZN-a-4j",
        "colab_type": "code",
        "colab": {
          "base_uri": "https://localhost:8080/",
          "height": 34
        },
        "outputId": "9f01e64b-751b-483d-9fd0-b644de0b28c9"
      },
      "source": [
        "# [Q3] Code-2\n",
        "is_odd = lambda x: True if x % 2 == 0 else False\n",
        "\n",
        "is_odd(5)"
      ],
      "execution_count": 33,
      "outputs": [
        {
          "output_type": "execute_result",
          "data": {
            "text/plain": [
              "False"
            ]
          },
          "metadata": {
            "tags": []
          },
          "execution_count": 33
        }
      ]
    },
    {
      "cell_type": "markdown",
      "metadata": {
        "id": "TQQWr5rRdLkz",
        "colab_type": "text"
      },
      "source": [
        "- if 조건문을 사용하여 판별"
      ]
    },
    {
      "cell_type": "code",
      "metadata": {
        "id": "I7H5fKVRcWPU",
        "colab_type": "code",
        "colab": {}
      },
      "source": [
        "# [Q3] Code-3\n",
        "def is_odd(number):\n",
        "  if number % 2 == 1:\n",
        "    return True\n",
        "  else:\n",
        "    return False"
      ],
      "execution_count": 0,
      "outputs": []
    },
    {
      "cell_type": "code",
      "metadata": {
        "id": "_yW1Zg4Wc7uW",
        "colab_type": "code",
        "colab": {
          "base_uri": "https://localhost:8080/",
          "height": 34
        },
        "outputId": "5739d81d-ef2e-42eb-9ff0-036de404c095"
      },
      "source": [
        "is_odd(4)"
      ],
      "execution_count": 9,
      "outputs": [
        {
          "output_type": "execute_result",
          "data": {
            "text/plain": [
              "False"
            ]
          },
          "metadata": {
            "tags": []
          },
          "execution_count": 9
        }
      ]
    },
    {
      "cell_type": "markdown",
      "metadata": {
        "colab_type": "text",
        "id": "re2-XrUYXF1m"
      },
      "source": [
        "## Q2.\n",
        "> 입력으로 들어오는 모든 수의 평균 값을 계산해 주는 함수를 작성해 보자. \n",
        "- (단 입력으로 들어오는 수의 개수는 정해져 있지 않다.)\n",
        "- ※ 평균 값을 구할 때 len 함수를 사용해 보자.\n"
      ]
    },
    {
      "cell_type": "code",
      "metadata": {
        "colab_type": "code",
        "id": "5MBLUZ5WXF1q",
        "colab": {}
      },
      "source": [
        "# [Q2] Code\n",
        "def avg_numbers(*args):\n",
        "  result = 0\n",
        "  for i in args:\n",
        "    result += i\n",
        "  return result/len(args)\n"
      ],
      "execution_count": 0,
      "outputs": []
    },
    {
      "cell_type": "code",
      "metadata": {
        "id": "QPIwuN3rfRvK",
        "colab_type": "code",
        "colab": {
          "base_uri": "https://localhost:8080/",
          "height": 34
        },
        "outputId": "5e0c46c8-880a-4c91-9e43-62f5572d0538"
      },
      "source": [
        "avg_numbers(10, 40, 50, 60, 80)"
      ],
      "execution_count": 15,
      "outputs": [
        {
          "output_type": "execute_result",
          "data": {
            "text/plain": [
              "48.0"
            ]
          },
          "metadata": {
            "tags": []
          },
          "execution_count": 15
        }
      ]
    },
    {
      "cell_type": "markdown",
      "metadata": {
        "colab_type": "text",
        "id": "UZy8lu_BXGnT"
      },
      "source": [
        "## Q3.\n",
        "> 다음은 두 개의 숫자를 입력받아 더하여 돌려주는 프로그램이다.\n",
        "\n",
        "```\n",
        "input1 = input(\"첫번째 숫자를 입력하세요:\")\n",
        "input2 = input(\"두번째 숫자를 입력하세요:\")\n",
        "\n",
        "total = input1 + input2\n",
        "print(\"두 수의 합은 %s 입니다\" % total)\n",
        "\n",
        "```\n",
        "---\n",
        "> 이 프로그램을 수행해 보자.\n",
        "\n",
        ">> 첫번째 숫자를 입력하세요:3  \n",
        ">> 두번째 숫자를 입력하세요:6\n",
        "- 두 수의 합은 36 입니다\n",
        "- 3과 6을 입력했을 때 9가 아닌 36이라는 결괏값을 돌려주었다.  \n",
        "이 프로그램의 오류를 수정해 보자."
      ]
    },
    {
      "cell_type": "markdown",
      "metadata": {
        "id": "Nm9XiAzbf3yO",
        "colab_type": "text"
      },
      "source": [
        "- *코드 오류 수정 : input은 입력되는 모든 것을 문자열로 취급하므로 int 데이터 타입 변환을 사용하여 숫자로 바꾸어 주어야한다"
      ]
    },
    {
      "cell_type": "code",
      "metadata": {
        "colab_type": "code",
        "id": "H9T_sXHzXGnW",
        "colab": {
          "base_uri": "https://localhost:8080/",
          "height": 70
        },
        "outputId": "b1c8eddb-6a4f-4508-e5d9-5036fdbea18b"
      },
      "source": [
        "# [Q3] Code\n",
        "input1 = input(\"첫번째 숫자를 입력하세요:\")\n",
        "input2 = input(\"두번째 숫자를 입력하세요:\")\n",
        " \n",
        "total = int(input1) + int(input2) # int로 데이터 타입 변환\n",
        "print(\"두 수의 합은 %s 입니다\" % total)"
      ],
      "execution_count": 32,
      "outputs": [
        {
          "output_type": "stream",
          "text": [
            "첫번째 숫자를 입력하세요:3\n",
            "두번째 숫자를 입력하세요:6\n",
            "두 수의 합은 9 입니다\n"
          ],
          "name": "stdout"
        }
      ]
    },
    {
      "cell_type": "markdown",
      "metadata": {
        "colab_type": "text",
        "id": "fqypxxqTXHY7"
      },
      "source": [
        "## Q4.\n",
        "> 다음 중 출력 결과가 다른 것 한 개를 골라 보자.\n",
        "\n",
        "```\n",
        "print(\"you\" \"need\" \"python\")\n",
        "print(\"you\"+\"need\"+\"python\")\n",
        "print(\"you\", \"need\", \"python\")\n",
        "print(\"\".join([\"you\", \"need\", \"python\"]))\n",
        "```"
      ]
    },
    {
      "cell_type": "markdown",
      "metadata": {
        "id": "fhnGo-cjg8KO",
        "colab_type": "text"
      },
      "source": [
        "### 문자열 공백 없이 출력"
      ]
    },
    {
      "cell_type": "markdown",
      "metadata": {
        "id": "E62JsaUVhO3D",
        "colab_type": "text"
      },
      "source": [
        "- 큰따옴표(\")로 둘러싸인 문자열은 + 연산과 동일하다"
      ]
    },
    {
      "cell_type": "code",
      "metadata": {
        "colab_type": "code",
        "id": "oQ5UnmayXHY-",
        "colab": {
          "base_uri": "https://localhost:8080/",
          "height": 34
        },
        "outputId": "1c2ecd60-0074-4700-b4d8-a9e81b45e3f3"
      },
      "source": [
        "print(\"you\" \"need\" \"python\")"
      ],
      "execution_count": 16,
      "outputs": [
        {
          "output_type": "stream",
          "text": [
            "youneedpython\n"
          ],
          "name": "stdout"
        }
      ]
    },
    {
      "cell_type": "code",
      "metadata": {
        "id": "Pu-xge4HgtnV",
        "colab_type": "code",
        "colab": {
          "base_uri": "https://localhost:8080/",
          "height": 34
        },
        "outputId": "407cb4b4-3291-4efd-a5bd-fe805752b3cd"
      },
      "source": [
        "print(\"you\"+\"need\"+\"python\")"
      ],
      "execution_count": 17,
      "outputs": [
        {
          "output_type": "stream",
          "text": [
            "youneedpython\n"
          ],
          "name": "stdout"
        }
      ]
    },
    {
      "cell_type": "markdown",
      "metadata": {
        "id": "JoE2IZkxhk3C",
        "colab_type": "text"
      },
      "source": [
        "- \"\".join()에서 큰따옴표(\") 사이에 어떠한 요소도 없으므로 문자열이 공백 없이 출력된다"
      ]
    },
    {
      "cell_type": "code",
      "metadata": {
        "id": "dstE9ZhuguJ6",
        "colab_type": "code",
        "colab": {
          "base_uri": "https://localhost:8080/",
          "height": 34
        },
        "outputId": "a723f4cd-dd92-4fb5-8476-1b94ced58606"
      },
      "source": [
        "print(\"\".join([\"you\", \"need\", \"python\"]))"
      ],
      "execution_count": 20,
      "outputs": [
        {
          "output_type": "stream",
          "text": [
            "youneedpython\n"
          ],
          "name": "stdout"
        }
      ]
    },
    {
      "cell_type": "markdown",
      "metadata": {
        "id": "HsfVOyOGiKhN",
        "colab_type": "text"
      },
      "source": [
        "- 문자열 띄어쓰기는 콤마(,)를 사용하면 문자열 사이에 띄어쓰기를 하여 출력된다"
      ]
    },
    {
      "cell_type": "code",
      "metadata": {
        "id": "W-OhDalNgur3",
        "colab_type": "code",
        "colab": {
          "base_uri": "https://localhost:8080/",
          "height": 34
        },
        "outputId": "5deb152a-28de-41b8-ddcf-9c883aff4dc9"
      },
      "source": [
        "print(\"\".join([\"you\", \"need\", \"python\"]))\n",
        "print(\"you\", \"need\", \"python\")"
      ],
      "execution_count": 19,
      "outputs": [
        {
          "output_type": "stream",
          "text": [
            "youneedpython\n"
          ],
          "name": "stdout"
        }
      ]
    },
    {
      "cell_type": "markdown",
      "metadata": {
        "colab_type": "text",
        "id": "NKsvciXZXIL-"
      },
      "source": [
        "## Q5.\n",
        "> 다음은 \"test.txt\"라는 파일에 \"Life is too short\" 문자열을 저장한 후 다시 그 파일을 읽어서 출력하는 프로그램이다.\n",
        "\n",
        "```\n",
        "f1 = open(\"test.txt\", 'w')\n",
        "f1.write(\"Life is too short\")\n",
        "\n",
        "f2 = open(\"test.txt\", 'r')\n",
        "print(f2.read())\n",
        "\n",
        "```\n",
        ">> 이 프로그램은 우리가 예상한 \"Life is too short\"라는 문장을 출력하지 않는다.\n",
        "\n",
        ">> 우리가 예상한 값을 출력할 수 있도록 프로그램을 수정해 보자."
      ]
    },
    {
      "cell_type": "markdown",
      "metadata": {
        "id": "nD80kANLjl3E",
        "colab_type": "text"
      },
      "source": [
        "- *코드 수정 : 파일을 닫지 않은 상태에서 다시 열게 되면, 파일에 저장한 데이터를 읽을 수 없으므로 열린 파일 객체를 close로 닫아주는 코드가 있어야 한다"
      ]
    },
    {
      "cell_type": "code",
      "metadata": {
        "colab_type": "code",
        "id": "5MZQYOVjXIL_",
        "colab": {
          "base_uri": "https://localhost:8080/",
          "height": 34
        },
        "outputId": "a221d87a-98ec-4a77-abd5-74343cdf86fa"
      },
      "source": [
        "# [Q5] Code-1\n",
        "f1 = open(\"test.txt\", 'w')\n",
        "f1.write(\"Life is too short\")\n",
        "f1.close()  # 열린 파일 객체 f1을 닫는다\n",
        "\n",
        "f2 = open(\"test.txt\", 'r')\n",
        "print(f2.read())\n",
        "f2.close()  # 열린 파일 객체 f2를 닫는다"
      ],
      "execution_count": 31,
      "outputs": [
        {
          "output_type": "stream",
          "text": [
            "Life is too short\n"
          ],
          "name": "stdout"
        }
      ]
    },
    {
      "cell_type": "markdown",
      "metadata": {
        "id": "L-OsJdwjk7fg",
        "colab_type": "text"
      },
      "source": [
        "- with문 사용한 코드\n",
        "  - 파일을 자동으로 여닫는 with문을 사용하여 with 블록을 벗어나는 순간 열린 파일 객체 f1, f2가 자동으로 close 된다"
      ]
    },
    {
      "cell_type": "code",
      "metadata": {
        "id": "qVcZ8lnQkdSv",
        "colab_type": "code",
        "colab": {
          "base_uri": "https://localhost:8080/",
          "height": 34
        },
        "outputId": "c23dbbfb-a177-48e3-ea97-a9085c4f8a6e"
      },
      "source": [
        "# [Q5] Code-2\n",
        "with open(\"test.txt\", \"w\") as f1:\n",
        "  f1.write(\"Life is too short\")\n",
        "with open(\"test.txt\", \"r\") as f2:\n",
        "  print(f2.read())"
      ],
      "execution_count": 22,
      "outputs": [
        {
          "output_type": "stream",
          "text": [
            "Life is too short\n"
          ],
          "name": "stdout"
        }
      ]
    },
    {
      "cell_type": "markdown",
      "metadata": {
        "colab_type": "text",
        "id": "-3KHtOOoXJBV"
      },
      "source": [
        "## Q6.\n",
        "> 사용자의 입력을 파일(test.txt)에 저장하는 프로그램을 작성해 보자. \n",
        "- (단 프로그램을 다시 실행하더라도 기존에 작성한 내용을 유지하고 새로 입력한 내용을 추가해야 한다.)\n"
      ]
    },
    {
      "cell_type": "code",
      "metadata": {
        "colab_type": "code",
        "id": "AjYR0lUaXJBa",
        "colab": {
          "base_uri": "https://localhost:8080/",
          "height": 34
        },
        "outputId": "cde09bdf-9f3f-48bf-ae27-91e0e2170b98"
      },
      "source": [
        "# [Q6] Code\n",
        "user_input = input(\"저장할 내용을 입력하시오 : \")\n",
        "f = open('test.txt', 'a') # 내용을 추가하기 위해 'a' 사용\n",
        "f.write(user_input)\n",
        "f.write(\"\\n\")\n",
        "f.close()"
      ],
      "execution_count": 23,
      "outputs": [
        {
          "output_type": "stream",
          "text": [
            "저장할 내용을 입력하시오: Hello Python!!\n"
          ],
          "name": "stdout"
        }
      ]
    },
    {
      "cell_type": "markdown",
      "metadata": {
        "colab_type": "text",
        "id": "YrS3b88QbmKo"
      },
      "source": [
        "## Q7.\n",
        "> 다음과 같은 내용을 지닌 파일 foo1.txt가 있다. 이 파일의 내용 중 \"java\"라는 문자열을 \"python\"으로 바꾸어서 저장해 보자.\n",
        "\n",
        ">> Life is too short  \n",
        ">> you need java\n",
        "\n",
        "- ※ replace 함수를 사용해 보자.\n"
      ]
    },
    {
      "cell_type": "code",
      "metadata": {
        "colab_type": "code",
        "id": "Ll_2InMWbmKq",
        "colab": {}
      },
      "source": [
        "# [Q7] Code\n",
        "\n",
        "# 주어진 기존 문자열을 지닌 파일 작성 및 만들기 \n",
        "f = open('foo1.txt', 'w')\n",
        "f.write(\"Life is too short\\nyou need python\")\n",
        "f.close()\n",
        "\n",
        "# read 함수 \n",
        "f = open('foo1.txt', 'r')\n",
        "text = f.read()\n",
        "f.close()\n",
        "\n",
        "# replace 함수를 사용하여 문자열을 바꾸어준다\n",
        "text = text.replace('java', 'python')\n",
        "\n",
        "# 파일 내용을 쓰기 위해 'w' 사용 \n",
        "f = open('foo1.txt', 'w')\n",
        "f.write(text)\n",
        "f.close()"
      ],
      "execution_count": 0,
      "outputs": []
    },
    {
      "cell_type": "markdown",
      "metadata": {
        "id": "2ljBDShkbqZO",
        "colab_type": "text"
      },
      "source": [
        "## 코딩 연습 결과를 github에 올리기\n",
        "> 완성된 ipython 노트북 파일을 각자의 github에 올리시오.\n",
        "\n",
        "- github 계정 만들기 (계정이 없는 학생)\n",
        "    1. github에 sign up (Google gmail 계정을 이용해서 만드시오.)\n",
        "- github에 노트 올리기\n",
        "    2. github에 각자의 id로 repo를 만드시오. (한번 만들면 계속 재사용)\n",
        "    3. github repo에 연습결과 노트를 올리시오.\n",
        "        - 제출노트: ch4_exercises_id.ipynb\n"
      ]
    },
    {
      "cell_type": "code",
      "metadata": {
        "id": "OnCR-YNCc8B6",
        "colab_type": "code",
        "colab": {}
      },
      "source": [
        ""
      ],
      "execution_count": 0,
      "outputs": []
    }
  ]
}