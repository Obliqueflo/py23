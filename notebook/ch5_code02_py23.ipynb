{
  "nbformat": 4,
  "nbformat_minor": 0,
  "metadata": {
    "colab": {
      "name": "ch5_code02_py23.ipynb",
      "provenance": [],
      "collapsed_sections": [],
      "include_colab_link": true
    },
    "kernelspec": {
      "display_name": "Python 3",
      "language": "python",
      "name": "python3"
    },
    "language_info": {
      "codemirror_mode": {
        "name": "ipython",
        "version": 3
      },
      "file_extension": ".py",
      "mimetype": "text/x-python",
      "name": "python",
      "nbconvert_exporter": "python",
      "pygments_lexer": "ipython3",
      "version": "3.7.5"
    }
  },
  "cells": [
    {
      "cell_type": "markdown",
      "metadata": {
        "id": "view-in-github",
        "colab_type": "text"
      },
      "source": [
        "<a href=\"https://colab.research.google.com/github/Obliqueflo/py23/blob/master/notebook/ch5_code02_py23.ipynb\" target=\"_parent\"><img src=\"https://colab.research.google.com/assets/colab-badge.svg\" alt=\"Open In Colab\"/></a>"
      ]
    },
    {
      "cell_type": "markdown",
      "metadata": {
        "colab_type": "text",
        "id": "H4jNE-BMAK3f"
      },
      "source": [
        "# ch5_code02.ipynb\n",
        "## 5장 파이썬 날개달기\n",
        "## py23\n",
        "### 예외 처리, 내장 함수, 외장 함수\n",
        "---\n",
        "- 예외 처리\n",
        "   - 오류는 어떤 때 발생하는가?\n",
        "   - 오류 예외 처리 기법\n",
        "     - try, except문\n",
        "     - try .. finally\n",
        "     - 여러개의 오류처리하기\n",
        "   - 오류 회피하기\n",
        "   - 오류 일부러 발생시키기\n",
        "   - 예외 만들기"
      ]
    },
    {
      "cell_type": "markdown",
      "metadata": {
        "id": "EAlEGhNA_MEv",
        "colab_type": "text"
      },
      "source": [
        "### 예외처리\n",
        "> try ... except ... finally"
      ]
    },
    {
      "cell_type": "code",
      "metadata": {
        "id": "hXPcvn1CtW6z",
        "colab_type": "code",
        "outputId": "4d54068d-9568-4d9d-90a2-55794db8c2fd",
        "colab": {
          "base_uri": "https://localhost:8080/",
          "height": 34
        }
      },
      "source": [
        "# ch5_04_handling_exception.py\n",
        "#\n",
        "print(\"예외 처리\")\n",
        "#######################################\n",
        "# 빈번히 발생하는 오류를 처리\n",
        "# try, except, finally 를 사용 # Python --> except, Java --> catch\n",
        "#######################################\n",
        "# try로 예외가 처리된 코드를 작성하고, 예외 발생 시 except로 발생된 예외를 받아서 처리해주고/ \n",
        "# 예외 처리하는 코드에서 예외가 발생하면 프로그램의 종료 가능성이 있는데 코드에서 마무리 해야 할 부분들을 finally로 처리해준다"
      ],
      "execution_count": 1,
      "outputs": [
        {
          "output_type": "stream",
          "text": [
            "예외 처리\n"
          ],
          "name": "stdout"
        }
      ]
    },
    {
      "cell_type": "markdown",
      "metadata": {
        "id": "W7sVlpfy_qaB",
        "colab_type": "text"
      },
      "source": [
        "### 대표적인 오류 유형"
      ]
    },
    {
      "cell_type": "code",
      "metadata": {
        "id": "X5YnTls7_oah",
        "colab_type": "code",
        "outputId": "c6e1e1e0-ba87-40df-c29d-855d7172bb40",
        "colab": {
          "base_uri": "https://localhost:8080/",
          "height": 222
        }
      },
      "source": [
        "print(\"오류는 어떤 때 발생하는가?\")\n",
        "#######################################\n",
        "# 오류가 발생하는 사례\n",
        "#######################################\n",
        "#\n",
        "# 1. 디렉터리 안에 없는 파일을 열려고 시도했을 때\n",
        "# \n",
        "f = open(\"나없는파일\", 'r')   # FileNotFoundError: No such file or directory: '나없는파일'"
      ],
      "execution_count": 0,
      "outputs": [
        {
          "output_type": "stream",
          "text": [
            "오류는 어떤 때 발생하는가?\n"
          ],
          "name": "stdout"
        },
        {
          "output_type": "error",
          "ename": "FileNotFoundError",
          "evalue": "ignored",
          "traceback": [
            "\u001b[0;31m---------------------------------------------------------------------------\u001b[0m",
            "\u001b[0;31mFileNotFoundError\u001b[0m                         Traceback (most recent call last)",
            "\u001b[0;32m<ipython-input-2-5a1e11716031>\u001b[0m in \u001b[0;36m<module>\u001b[0;34m()\u001b[0m\n\u001b[1;32m      6\u001b[0m \u001b[0;31m# 1. 디렉터리 안에 없는 파일을 열려고 시도했을 때\u001b[0m\u001b[0;34m\u001b[0m\u001b[0;34m\u001b[0m\u001b[0;34m\u001b[0m\u001b[0m\n\u001b[1;32m      7\u001b[0m \u001b[0;31m#\u001b[0m\u001b[0;34m\u001b[0m\u001b[0;34m\u001b[0m\u001b[0;34m\u001b[0m\u001b[0m\n\u001b[0;32m----> 8\u001b[0;31m \u001b[0mf\u001b[0m \u001b[0;34m=\u001b[0m \u001b[0mopen\u001b[0m\u001b[0;34m(\u001b[0m\u001b[0;34m\"나없는파일\"\u001b[0m\u001b[0;34m,\u001b[0m \u001b[0;34m'r'\u001b[0m\u001b[0;34m)\u001b[0m   \u001b[0;31m# FileNotFoundError:\u001b[0m\u001b[0;34m\u001b[0m\u001b[0;34m\u001b[0m\u001b[0m\n\u001b[0m",
            "\u001b[0;31mFileNotFoundError\u001b[0m: [Errno 2] No such file or directory: '나없는파일'"
          ]
        }
      ]
    },
    {
      "cell_type": "code",
      "metadata": {
        "id": "vvHGenDx_1po",
        "colab_type": "code",
        "outputId": "a7d4d724-0224-4a35-b701-debe980c5d7e",
        "colab": {
          "base_uri": "https://localhost:8080/",
          "height": 186
        }
      },
      "source": [
        "# 2. 0으로 다른 숫자를 나누는 경우 (division by zero)\n",
        "4 / 0   # ZeroDivisionError : division by zero # 0으로 나누어 주면 무한대로가 나온다 --> 처리 불가(error)"
      ],
      "execution_count": 0,
      "outputs": [
        {
          "output_type": "error",
          "ename": "ZeroDivisionError",
          "evalue": "ignored",
          "traceback": [
            "\u001b[0;31m---------------------------------------------------------------------------\u001b[0m",
            "\u001b[0;31mZeroDivisionError\u001b[0m                         Traceback (most recent call last)",
            "\u001b[0;32m<ipython-input-3-b5c7a1d23a4a>\u001b[0m in \u001b[0;36m<module>\u001b[0;34m()\u001b[0m\n\u001b[1;32m      1\u001b[0m \u001b[0;31m# 2. 0으로 다른 숫자를 나누는 경우 (division by zero)\u001b[0m\u001b[0;34m\u001b[0m\u001b[0;34m\u001b[0m\u001b[0;34m\u001b[0m\u001b[0m\n\u001b[0;32m----> 2\u001b[0;31m \u001b[0;36m4\u001b[0m \u001b[0;34m/\u001b[0m \u001b[0;36m0\u001b[0m   \u001b[0;31m# ZeroDivisionError:\u001b[0m\u001b[0;34m\u001b[0m\u001b[0;34m\u001b[0m\u001b[0m\n\u001b[0m",
            "\u001b[0;31mZeroDivisionError\u001b[0m: division by zero"
          ]
        }
      ]
    },
    {
      "cell_type": "code",
      "metadata": {
        "id": "FYJf2ERyAMok",
        "colab_type": "code",
        "outputId": "02f7aafe-c878-41dc-cfb9-ae822f2cf179",
        "colab": {
          "base_uri": "https://localhost:8080/",
          "height": 222
        }
      },
      "source": [
        "# 3. 범위를 벗어 난 인덱싱 (list index out of range)\n",
        "a = [1,2,3]\n",
        "print(a[1])\n",
        "a[3]  # IndexError: list index out of range"
      ],
      "execution_count": 0,
      "outputs": [
        {
          "output_type": "stream",
          "text": [
            "2\n"
          ],
          "name": "stdout"
        },
        {
          "output_type": "error",
          "ename": "IndexError",
          "evalue": "ignored",
          "traceback": [
            "\u001b[0;31m---------------------------------------------------------------------------\u001b[0m",
            "\u001b[0;31mIndexError\u001b[0m                                Traceback (most recent call last)",
            "\u001b[0;32m<ipython-input-5-f8f45cce0e72>\u001b[0m in \u001b[0;36m<module>\u001b[0;34m()\u001b[0m\n\u001b[1;32m      2\u001b[0m \u001b[0ma\u001b[0m \u001b[0;34m=\u001b[0m \u001b[0;34m[\u001b[0m\u001b[0;36m1\u001b[0m\u001b[0;34m,\u001b[0m\u001b[0;36m2\u001b[0m\u001b[0;34m,\u001b[0m\u001b[0;36m3\u001b[0m\u001b[0;34m]\u001b[0m\u001b[0;34m\u001b[0m\u001b[0;34m\u001b[0m\u001b[0m\n\u001b[1;32m      3\u001b[0m \u001b[0mprint\u001b[0m\u001b[0;34m(\u001b[0m\u001b[0ma\u001b[0m\u001b[0;34m[\u001b[0m\u001b[0;36m1\u001b[0m\u001b[0;34m]\u001b[0m\u001b[0;34m)\u001b[0m\u001b[0;34m\u001b[0m\u001b[0;34m\u001b[0m\u001b[0m\n\u001b[0;32m----> 4\u001b[0;31m \u001b[0ma\u001b[0m\u001b[0;34m[\u001b[0m\u001b[0;36m3\u001b[0m\u001b[0;34m]\u001b[0m  \u001b[0;31m# IndexError: list index out of range\u001b[0m\u001b[0;34m\u001b[0m\u001b[0;34m\u001b[0m\u001b[0m\n\u001b[0m",
            "\u001b[0;31mIndexError\u001b[0m: list index out of range"
          ]
        }
      ]
    },
    {
      "cell_type": "markdown",
      "metadata": {
        "id": "XlCDwHkhAkwv",
        "colab_type": "text"
      },
      "source": [
        "### 오류 예외 처리 기법\n"
      ]
    },
    {
      "cell_type": "markdown",
      "metadata": {
        "id": "Wmgd7l9JMl2P",
        "colab_type": "text"
      },
      "source": [
        "#### try ... catch 문"
      ]
    },
    {
      "cell_type": "code",
      "metadata": {
        "id": "sLrL603yAci8",
        "colab_type": "code",
        "outputId": "48a95226-8920-4c5e-b407-05dbdd3d7012",
        "colab": {
          "base_uri": "https://localhost:8080/",
          "height": 52
        }
      },
      "source": [
        "print(\"오류 예외 처리 기법\")\n",
        "#######################################\n",
        "# 유연한 프로그래밍을 위한 오류 처리 기법\n",
        "#######################################\n",
        "#\n",
        "# 1. try, except문\n",
        "#\n",
        "# try, except문의 기본 구조\n",
        "'''\n",
        "try:\n",
        "    ...\n",
        "except [발생 오류[as 오류 메시지 변수]]:\n",
        "    ...\n",
        "'''\n",
        "# try 블록 수행 중 오류가 발생하면 except 블록이 수행된다. \n",
        "# 하지만 try 블록에서 오류가 발생하지 않는다면 \n",
        "# except 블록은 수행되지 않는다."
      ],
      "execution_count": 0,
      "outputs": [
        {
          "output_type": "stream",
          "text": [
            "오류 예외 처리 기법\n"
          ],
          "name": "stdout"
        },
        {
          "output_type": "execute_result",
          "data": {
            "text/plain": [
              "'\\ntry:\\n    ...\\nexcept [발생 오류[as 오류 메시지 변수]]:\\n    ...\\n'"
            ]
          },
          "metadata": {
            "tags": []
          },
          "execution_count": 6
        }
      ]
    },
    {
      "cell_type": "code",
      "metadata": {
        "id": "Fvw3-jSVAwQl",
        "colab_type": "code",
        "outputId": "50a28396-0324-4596-a14f-4b7f7d04ddf7",
        "colab": {
          "base_uri": "https://localhost:8080/",
          "height": 34
        }
      },
      "source": [
        "# ZeroDivisionError:\n",
        "try:\n",
        "    4 / 0\n",
        "except ZeroDivisionError as e:  # ZeroDivisionError : 오류 객체 이름(오류 클래스)을 e라고 정의한다\n",
        "    print(e)  # 정의 되어있는 오류(error)에 관해 설명이 출력된다\n",
        "\n",
        "\n",
        "# division by zero"
      ],
      "execution_count": 0,
      "outputs": [
        {
          "output_type": "stream",
          "text": [
            "division by zero\n"
          ],
          "name": "stdout"
        }
      ]
    },
    {
      "cell_type": "code",
      "metadata": {
        "id": "gb-gN00nA_NN",
        "colab_type": "code",
        "colab": {
          "base_uri": "https://localhost:8080/",
          "height": 34
        },
        "outputId": "f88bbc70-a932-4fc6-8ac7-1d3c5bab1714"
      },
      "source": [
        "# IndexError:\n",
        "a = [1, 2, 3]\n",
        "try:\n",
        "    a[3]\n",
        "except IndexError as e:\n",
        "    print(e)\n",
        "\n",
        "\n",
        "# list index out of range"
      ],
      "execution_count": 2,
      "outputs": [
        {
          "output_type": "stream",
          "text": [
            "list index out of range\n"
          ],
          "name": "stdout"
        }
      ]
    },
    {
      "cell_type": "markdown",
      "metadata": {
        "id": "yjtEqd79C_Wc",
        "colab_type": "text"
      },
      "source": [
        "#### try ... except ... finally 문"
      ]
    },
    {
      "cell_type": "code",
      "metadata": {
        "id": "Mf9LMBX2DJwX",
        "colab_type": "code",
        "outputId": "e2d39631-0928-4794-a5c6-4cd9c2102c5f",
        "colab": {
          "base_uri": "https://localhost:8080/",
          "height": 169
        }
      },
      "source": [
        "f = open('foo.txt', 'r')  # FileNotFoundError: [Errno 2] No such file or directory: 'foo.txt'"
      ],
      "execution_count": 0,
      "outputs": [
        {
          "output_type": "error",
          "ename": "FileNotFoundError",
          "evalue": "ignored",
          "traceback": [
            "\u001b[0;31m---------------------------------------------------------------------------\u001b[0m",
            "\u001b[0;31mFileNotFoundError\u001b[0m                         Traceback (most recent call last)",
            "\u001b[0;32m<ipython-input-8-cc05ccee3540>\u001b[0m in \u001b[0;36m<module>\u001b[0;34m()\u001b[0m\n\u001b[0;32m----> 1\u001b[0;31m \u001b[0mf\u001b[0m \u001b[0;34m=\u001b[0m \u001b[0mopen\u001b[0m\u001b[0;34m(\u001b[0m\u001b[0;34m'foo.txt'\u001b[0m\u001b[0;34m,\u001b[0m \u001b[0;34m'r'\u001b[0m\u001b[0;34m)\u001b[0m\u001b[0;34m\u001b[0m\u001b[0;34m\u001b[0m\u001b[0m\n\u001b[0m",
            "\u001b[0;31mFileNotFoundError\u001b[0m: [Errno 2] No such file or directory: 'foo.txt'"
          ]
        }
      ]
    },
    {
      "cell_type": "code",
      "metadata": {
        "id": "nqRHLieHC8Jv",
        "colab_type": "code",
        "colab": {
          "base_uri": "https://localhost:8080/",
          "height": 239
        },
        "outputId": "ae5c0158-3873-4130-a6f5-8e3c0ff4b5b9"
      },
      "source": [
        "#\n",
        "# 2. try, finally문\n",
        "#\n",
        "# try문에는 finally절을 사용할 수 있다. \n",
        "# finally절은 try문 수행 도중 예외 발생 여부에(따라 프로그래 정지) 상관없이 finally절을 항상 수행\n",
        "#\n",
        "\n",
        "try:\n",
        "    f = open('foo.txt', 'r') # 파일 생성! 모드\n",
        "    # 무언가를 수행한다.\n",
        "finally:\n",
        "    f.close() # FileNotFoundError오류가 발생하여 프로그램 종료가 되지만 그것과 상과없이 열린 파일은 항상 닫아준다(finally문 실행)\n",
        "              # (파일이 존재하지 않아도 객체 f를 만들었기에 열린 파일을 항상 닫아주어야 함 )"
      ],
      "execution_count": 4,
      "outputs": [
        {
          "output_type": "error",
          "ename": "FileNotFoundError",
          "evalue": "ignored",
          "traceback": [
            "\u001b[0;31m---------------------------------------------------------------------------\u001b[0m",
            "\u001b[0;31mFileNotFoundError\u001b[0m                         Traceback (most recent call last)",
            "\u001b[0;32m<ipython-input-4-343d37f0adda>\u001b[0m in \u001b[0;36m<module>\u001b[0;34m()\u001b[0m\n\u001b[1;32m      7\u001b[0m \u001b[0;34m\u001b[0m\u001b[0m\n\u001b[1;32m      8\u001b[0m \u001b[0;32mtry\u001b[0m\u001b[0;34m:\u001b[0m\u001b[0;34m\u001b[0m\u001b[0;34m\u001b[0m\u001b[0m\n\u001b[0;32m----> 9\u001b[0;31m     \u001b[0mf\u001b[0m \u001b[0;34m=\u001b[0m \u001b[0mopen\u001b[0m\u001b[0;34m(\u001b[0m\u001b[0;34m'foo.txt'\u001b[0m\u001b[0;34m,\u001b[0m \u001b[0;34m'r'\u001b[0m\u001b[0;34m)\u001b[0m \u001b[0;31m# 파일 생성! 모드\u001b[0m\u001b[0;34m\u001b[0m\u001b[0;34m\u001b[0m\u001b[0m\n\u001b[0m\u001b[1;32m     10\u001b[0m     \u001b[0;31m# 무언가를 수행한다.\u001b[0m\u001b[0;34m\u001b[0m\u001b[0;34m\u001b[0m\u001b[0;34m\u001b[0m\u001b[0m\n\u001b[1;32m     11\u001b[0m \u001b[0;32mfinally\u001b[0m\u001b[0;34m:\u001b[0m\u001b[0;34m\u001b[0m\u001b[0;34m\u001b[0m\u001b[0m\n",
            "\u001b[0;31mFileNotFoundError\u001b[0m: [Errno 2] No such file or directory: 'foo.txt'"
          ]
        }
      ]
    },
    {
      "cell_type": "markdown",
      "metadata": {
        "id": "TxGWKvsCDcI7",
        "colab_type": "text"
      },
      "source": [
        "### 여러개의 오류처리하기"
      ]
    },
    {
      "cell_type": "code",
      "metadata": {
        "id": "9N0K4r-CDRdi",
        "colab_type": "code",
        "outputId": "b9603378-8bc6-4029-f1c4-b30e68450595",
        "colab": {
          "base_uri": "https://localhost:8080/",
          "height": 34
        }
      },
      "source": [
        "#\n",
        "# 3. 여러개의 오류처리하기\n",
        "#\n",
        "# try문 안에서 여러 개의 오류를 처리하는 방법\n",
        "#\n",
        "'''\n",
        "try:\n",
        "    ...\n",
        "except 발생 오류1:\n",
        "   ... \n",
        "except 발생 오류2:\n",
        "   ...\n",
        "'''\n",
        "\n",
        "try:\n",
        "    a = [1,2]\n",
        "    print(a[2])\n",
        "    4/0\n",
        "except ZeroDivisionError:\n",
        "    print(\"0으로 나눌 수 없습니다.\")\n",
        "except IndexError:\n",
        "    print(\"인덱싱 할 수 없습니다.\") # 먼저 발생된 오류를 처리한 후 종료된다 --> try문의 4/0은 실행조차 안 되는 것"
      ],
      "execution_count": 0,
      "outputs": [
        {
          "output_type": "stream",
          "text": [
            "인덱싱 할 수 없습니다.\n"
          ],
          "name": "stdout"
        }
      ]
    },
    {
      "cell_type": "code",
      "metadata": {
        "id": "ayPPcSHdDpTe",
        "colab_type": "code",
        "outputId": "84375420-627f-4230-aa8f-60a6edf0fd97",
        "colab": {
          "base_uri": "https://localhost:8080/",
          "height": 34
        }
      },
      "source": [
        "# 인덱싱 오류가 먼저 발생했으므로 \n",
        "# 4/0으로 발생되는 ZeroDivisionError 오류는 발생하지 않았다.\n",
        "\n",
        "try:\n",
        "    a = [1,2]\n",
        "    print(a[3])\n",
        "    4/0\n",
        "except ZeroDivisionError as e:\n",
        "    print(e)\n",
        "except IndexError as e:\n",
        "    print(e)"
      ],
      "execution_count": 0,
      "outputs": [
        {
          "output_type": "stream",
          "text": [
            "list index out of range\n"
          ],
          "name": "stdout"
        }
      ]
    },
    {
      "cell_type": "markdown",
      "metadata": {
        "id": "WbdQieQwEDHi",
        "colab_type": "text"
      },
      "source": [
        "### 2개 이상의 오류를 동시에 처리"
      ]
    },
    {
      "cell_type": "code",
      "metadata": {
        "id": "CgFSqHy8D9kE",
        "colab_type": "code",
        "outputId": "325febed-dfaf-42d9-9cc1-524ca2fa930c",
        "colab": {
          "base_uri": "https://localhost:8080/",
          "height": 34
        }
      },
      "source": [
        "# 2개 이상의 오류를 동시에 처리\n",
        "try:\n",
        "    a = [1,2]\n",
        "    print(a[3])\n",
        "    4/0\n",
        "# 확장된 코드 \n",
        "except (ZeroDivisionError, IndexError) as e:  # 튜플에 있는 오류들 중 하나라도 해당되는 오류가 발생하면 발생된 오류를 e로 받아..\n",
        "    print(e)"
      ],
      "execution_count": 5,
      "outputs": [
        {
          "output_type": "stream",
          "text": [
            "list index out of range\n"
          ],
          "name": "stdout"
        }
      ]
    },
    {
      "cell_type": "markdown",
      "metadata": {
        "id": "vs6Q4ZVfELq8",
        "colab_type": "text"
      },
      "source": [
        "### 오류 회피하기"
      ]
    },
    {
      "cell_type": "code",
      "metadata": {
        "id": "xdTEYNg8EJag",
        "colab_type": "code",
        "outputId": "66308862-f407-4336-b699-7235bf97b655",
        "colab": {
          "base_uri": "https://localhost:8080/",
          "height": 34
        }
      },
      "source": [
        "print(\"오류 회피하기\")\n",
        "#######################################\n",
        "# 특정 오류가 발생할 경우 그냥 통과시키는 방법.\n",
        "#######################################\n",
        "#\n",
        "try:\n",
        "    f = open(\"나없는파일\", 'r')\n",
        "except FileNotFoundError:\n",
        "    pass  # 오류 발생 시 pass ~"
      ],
      "execution_count": 0,
      "outputs": [
        {
          "output_type": "stream",
          "text": [
            "오류 회피하기\n"
          ],
          "name": "stdout"
        }
      ]
    },
    {
      "cell_type": "markdown",
      "metadata": {
        "id": "upyPTT2WEcYu",
        "colab_type": "text"
      },
      "source": [
        "### 오류 일부러 발생시키기 (*중요)"
      ]
    },
    {
      "cell_type": "code",
      "metadata": {
        "id": "5w5Gxtc_EVb0",
        "colab_type": "code",
        "outputId": "531ba1b9-7bdc-4696-ea2e-1cfd841db982",
        "colab": {
          "base_uri": "https://localhost:8080/",
          "height": 380
        }
      },
      "source": [
        "print(\"오류 일부러 발생시키기\")\n",
        "#######################################\n",
        "# 일부러 발생시키는 오류\n",
        "# raise 오류 \n",
        "#######################################\n",
        "#\n",
        "# Bird 클래스를 상속받는 자식 클래스는 반드시 \n",
        "# fly라는 함수를 구현하도록 만들고 싶은 경우\n",
        "#\n",
        "class Bird:\n",
        "    def fly(self):\n",
        "        raise NotImplementedError # 오류 일부러 발생(raise)시키기\n",
        "\n",
        "\n",
        "# Bird 클래스를 상속받는 자식 클래스는 \n",
        "# 반드시 fly 함수를 구현해야 한다\n",
        "\n",
        "class Eagle(Bird):\n",
        "    pass\n",
        "\n",
        "eagle = Eagle()\n",
        "eagle.fly()\n",
        "\n",
        "# NotImplementedError"
      ],
      "execution_count": 0,
      "outputs": [
        {
          "output_type": "stream",
          "text": [
            "오류 일부러 발생시키기\n"
          ],
          "name": "stdout"
        },
        {
          "output_type": "error",
          "ename": "NotImplementedError",
          "evalue": "ignored",
          "traceback": [
            "\u001b[0;31m---------------------------------------------------------------------------\u001b[0m",
            "\u001b[0;31mNotImplementedError\u001b[0m                       Traceback (most recent call last)",
            "\u001b[0;32m<ipython-input-14-ebdb011eb842>\u001b[0m in \u001b[0;36m<module>\u001b[0;34m()\u001b[0m\n\u001b[1;32m     20\u001b[0m \u001b[0;34m\u001b[0m\u001b[0m\n\u001b[1;32m     21\u001b[0m \u001b[0meagle\u001b[0m \u001b[0;34m=\u001b[0m \u001b[0mEagle\u001b[0m\u001b[0;34m(\u001b[0m\u001b[0;34m)\u001b[0m\u001b[0;34m\u001b[0m\u001b[0;34m\u001b[0m\u001b[0m\n\u001b[0;32m---> 22\u001b[0;31m \u001b[0meagle\u001b[0m\u001b[0;34m.\u001b[0m\u001b[0mfly\u001b[0m\u001b[0;34m(\u001b[0m\u001b[0;34m)\u001b[0m\u001b[0;34m\u001b[0m\u001b[0;34m\u001b[0m\u001b[0m\n\u001b[0m\u001b[1;32m     23\u001b[0m \u001b[0;34m\u001b[0m\u001b[0m\n\u001b[1;32m     24\u001b[0m \u001b[0;31m# NotImplementedError\u001b[0m\u001b[0;34m\u001b[0m\u001b[0;34m\u001b[0m\u001b[0;34m\u001b[0m\u001b[0m\n",
            "\u001b[0;32m<ipython-input-14-ebdb011eb842>\u001b[0m in \u001b[0;36mfly\u001b[0;34m(self)\u001b[0m\n\u001b[1;32m     10\u001b[0m \u001b[0;32mclass\u001b[0m \u001b[0mBird\u001b[0m\u001b[0;34m:\u001b[0m\u001b[0;34m\u001b[0m\u001b[0;34m\u001b[0m\u001b[0m\n\u001b[1;32m     11\u001b[0m     \u001b[0;32mdef\u001b[0m \u001b[0mfly\u001b[0m\u001b[0;34m(\u001b[0m\u001b[0mself\u001b[0m\u001b[0;34m)\u001b[0m\u001b[0;34m:\u001b[0m\u001b[0;34m\u001b[0m\u001b[0;34m\u001b[0m\u001b[0m\n\u001b[0;32m---> 12\u001b[0;31m         \u001b[0;32mraise\u001b[0m \u001b[0mNotImplementedError\u001b[0m\u001b[0;34m\u001b[0m\u001b[0;34m\u001b[0m\u001b[0m\n\u001b[0m\u001b[1;32m     13\u001b[0m \u001b[0;34m\u001b[0m\u001b[0m\n\u001b[1;32m     14\u001b[0m \u001b[0;34m\u001b[0m\u001b[0m\n",
            "\u001b[0;31mNotImplementedError\u001b[0m: "
          ]
        }
      ]
    },
    {
      "cell_type": "code",
      "metadata": {
        "id": "E2HvTkn7Ek1f",
        "colab_type": "code",
        "outputId": "18e9076e-376c-4e5b-ce49-d9c286df227e",
        "colab": {
          "base_uri": "https://localhost:8080/",
          "height": 34
        }
      },
      "source": [
        "# NotImplementedError가 발생되지 않게 하려면 \n",
        "# 다음과 같이 Eagle 클래스에 fly 함수를 반드시 구현\n",
        "class Eagle(Bird):\n",
        "    # fly 함수 재정의 (일부러 오류를 발생시켜 함수를 재정의하게 만든 것)\n",
        "    def fly(self):\n",
        "        print(\"Eagle flys very fast\") # Implemented가 된 것..\n",
        "\n",
        "eagle = Eagle()\n",
        "eagle.fly()"
      ],
      "execution_count": 0,
      "outputs": [
        {
          "output_type": "stream",
          "text": [
            "Eagle flys very fast\n"
          ],
          "name": "stdout"
        }
      ]
    },
    {
      "cell_type": "markdown",
      "metadata": {
        "id": "tVnzPp06E2v7",
        "colab_type": "text"
      },
      "source": [
        "### 사용자 정의 예외 (**아주 중요)"
      ]
    },
    {
      "cell_type": "code",
      "metadata": {
        "id": "wnwwRJYsEwZN",
        "colab_type": "code",
        "outputId": "f0ee4b6c-61ed-481d-faa7-ff389eb3dd70",
        "colab": {
          "base_uri": "https://localhost:8080/",
          "height": 87
        }
      },
      "source": [
        "print(\"예외 만들기: 사용자 정의 예외\")\n",
        "#######################################\n",
        "# 사용자가 정의해서 만들고 발생시키는 오류\n",
        "# 파이썬 내장 클래스인 Exception 클래스(최상위 예외 클래스)를 상속하여 만든다.\n",
        "# raise User_Error() \n",
        "#######################################\n",
        "#\n",
        "class MyError(Exception):\n",
        "    pass\n",
        "\n",
        "def say_nick(nick):\n",
        "    if nick == '바보':\n",
        "        raise MyError()\n",
        "    print(nick)\n",
        "\n",
        "#######################################\n",
        "print(\"사용자 정의 예외 처리\")\n",
        "#######################################\n",
        "try:\n",
        "    say_nick(\"천사\")\n",
        "    say_nick(\"바보\")\n",
        "except MyError:\n",
        "    print(\"허용되지 않는 별명입니다.\")"
      ],
      "execution_count": 0,
      "outputs": [
        {
          "output_type": "stream",
          "text": [
            "예외 만들기: 사용자 정의 예외\n",
            "사용자 정의 예외 처리\n",
            "천사\n",
            "허용되지 않는 별명입니다.\n"
          ],
          "name": "stdout"
        }
      ]
    },
    {
      "cell_type": "markdown",
      "metadata": {
        "id": "qJXX9wPnFPDg",
        "colab_type": "text"
      },
      "source": [
        "### 사용자 정의 예외 메세지 출력"
      ]
    },
    {
      "cell_type": "code",
      "metadata": {
        "id": "6DQg0HPyFIDr",
        "colab_type": "code",
        "outputId": "9835182f-5f82-4356-c3ce-9d5e4a2a35cd",
        "colab": {
          "base_uri": "https://localhost:8080/",
          "height": 70
        }
      },
      "source": [
        "#######################################\n",
        "print(\"사용자 정의 예외 메시지 출력\")\n",
        "# 오류 메시지: __str__ 메서드를 구현\n",
        "#######################################\n",
        "class MyError(Exception):\n",
        "    def __str__(self):\n",
        "        return \"허용되지 않는 별명입니다.\"  # default Error message\n",
        "\n",
        "\n",
        "# \n",
        "try:\n",
        "    say_nick(\"천사\")\n",
        "    say_nick(\"바보\")\n",
        "except MyError as e:\n",
        "    print(e)\n"
      ],
      "execution_count": 0,
      "outputs": [
        {
          "output_type": "stream",
          "text": [
            "사용자 정의 예외 메시지 출력\n",
            "천사\n",
            "허용되지 않는 별명입니다.\n"
          ],
          "name": "stdout"
        }
      ]
    },
    {
      "cell_type": "markdown",
      "metadata": {
        "id": "a6YbvHjvFeTV",
        "colab_type": "text"
      },
      "source": [
        "### 내장함수"
      ]
    },
    {
      "cell_type": "markdown",
      "metadata": {
        "id": "InFiozTjVOrv",
        "colab_type": "text"
      },
      "source": [
        "- 내장 함수\n",
        "   - abs\n",
        "   - all, any\n",
        "   - chr\n",
        "   - dir\n",
        "   - divmod\n",
        "   - enumerate\n",
        "   - eval\n",
        "   - filter\n",
        "   - hex, oct\n",
        "   - id\n",
        "   - input\n",
        "   - int\n",
        "   - isinstance\n",
        "   - len\n",
        "   - list\n",
        "   - map\n",
        "   - max, min\n",
        "   - open\n",
        "   - ord\n",
        "   - pow\n",
        "   - range\n",
        "   - round\n",
        "   - sorted\n",
        "   - str\n",
        "   - sum\n",
        "   - tuple\n",
        "   - type\n",
        "   - zip"
      ]
    },
    {
      "cell_type": "code",
      "metadata": {
        "id": "-1H6FtDIVauP",
        "colab_type": "code",
        "colab": {}
      },
      "source": [
        "# ch5_05_internal_functions.py\n",
        "#\n",
        "print(\"내장 함수\")\n",
        "#######################################\n",
        "#\n",
        "# 파이썬 내장 함수는 미리 준비된 내부 모듈\n",
        "# 외부 모듈과 달리 import가 필요하지 않다.\n",
        "#\n",
        "#######################################\n",
        "#"
      ],
      "execution_count": 0,
      "outputs": []
    },
    {
      "cell_type": "code",
      "metadata": {
        "id": "N3nyc82RcB2U",
        "colab_type": "code",
        "colab": {
          "base_uri": "https://localhost:8080/",
          "height": 52
        },
        "outputId": "146455f0-845d-463d-c8fd-e4c129318e0e"
      },
      "source": [
        "print(\"abs()\")\n",
        "#######################################\n",
        "# abs(x)는 어떤 숫자를 입력받았을 때,\n",
        "# 그 숫자의 절댓값을 돌려주는 함수\n",
        "#######################################\n",
        "#\n",
        "abs(3), abs(-3), abs(-1.2)"
      ],
      "execution_count": 6,
      "outputs": [
        {
          "output_type": "stream",
          "text": [
            "abs()\n"
          ],
          "name": "stdout"
        },
        {
          "output_type": "execute_result",
          "data": {
            "text/plain": [
              "(3, 3, 1.2)"
            ]
          },
          "metadata": {
            "tags": []
          },
          "execution_count": 6
        }
      ]
    },
    {
      "cell_type": "code",
      "metadata": {
        "id": "IZCdBch3cKxx",
        "colab_type": "code",
        "colab": {
          "base_uri": "https://localhost:8080/",
          "height": 52
        },
        "outputId": "cea3cebf-ddea-4436-803e-d33c22bb5738"
      },
      "source": [
        "print(\"all()\")  # 중요한 함수 \n",
        "###########################################################\n",
        "# all(x)는 반복 가능한(iterable) 자료형 x를 입력 인수로 받으며\n",
        "# 이 x가 모두 참이면 True, 거짓이 하나라도 있으면(0) False를 돌려준다.\n",
        "###########################################################\n",
        "# 숫자 요소 0의 유무에 따라 참, 거짓 결정되는 것\n",
        "all([1, 2, 3])\n",
        "all([0, 1, 2, 3])\n",
        "\n",
        "# 참고 all, bool은 다르다는 점\n",
        "bool([0, 1, 2, 3]), bool([0]), bool((0)), bool((0,))"
      ],
      "execution_count": 7,
      "outputs": [
        {
          "output_type": "stream",
          "text": [
            "all()\n"
          ],
          "name": "stdout"
        },
        {
          "output_type": "execute_result",
          "data": {
            "text/plain": [
              "(True, True, False, True)"
            ]
          },
          "metadata": {
            "tags": []
          },
          "execution_count": 7
        }
      ]
    },
    {
      "cell_type": "code",
      "metadata": {
        "id": "ReREHs20cZmi",
        "colab_type": "code",
        "colab": {
          "base_uri": "https://localhost:8080/",
          "height": 257
        },
        "outputId": "c63c4335-b6f2-47d6-ea2c-9c616cfe75b7"
      },
      "source": [
        "print(\"any()\")\n",
        "###########################################################\n",
        "# any(x)는 x 중 하나라도 참이 있으면 True를 돌려주고,\n",
        "# x가 모두 거짓일 때에만 False를 돌려준다. all(x)의 반대이다.\n",
        "###########################################################\n",
        "#\n",
        "any([0, 1, 2, 3]), \n",
        "any([0, 1], 3)  # 두 개의 데이터 구조 --> # TypeError: any() takes exactly one argument (2 given) \n",
        "# all(), any() 함수는 반드시 한 종류의 데이터 구조만 받아들인다\n",
        "\n",
        "any([0, \"\"]) # 두 개의 요소 다 false\n",
        "# 기말고사 단답형 예상 출제 문제\n",
        "any([1, \"\"])  # ==> True (1)"
      ],
      "execution_count": 9,
      "outputs": [
        {
          "output_type": "stream",
          "text": [
            "any()\n"
          ],
          "name": "stdout"
        },
        {
          "output_type": "error",
          "ename": "TypeError",
          "evalue": "ignored",
          "traceback": [
            "\u001b[0;31m---------------------------------------------------------------------------\u001b[0m",
            "\u001b[0;31mTypeError\u001b[0m                                 Traceback (most recent call last)",
            "\u001b[0;32m<ipython-input-9-eada028c98c9>\u001b[0m in \u001b[0;36m<module>\u001b[0;34m()\u001b[0m\n\u001b[1;32m      5\u001b[0m \u001b[0;31m###########################################################\u001b[0m\u001b[0;34m\u001b[0m\u001b[0;34m\u001b[0m\u001b[0;34m\u001b[0m\u001b[0m\n\u001b[1;32m      6\u001b[0m \u001b[0;31m#\u001b[0m\u001b[0;34m\u001b[0m\u001b[0;34m\u001b[0m\u001b[0;34m\u001b[0m\u001b[0m\n\u001b[0;32m----> 7\u001b[0;31m \u001b[0many\u001b[0m\u001b[0;34m(\u001b[0m\u001b[0;34m[\u001b[0m\u001b[0;36m0\u001b[0m\u001b[0;34m,\u001b[0m \u001b[0;36m1\u001b[0m\u001b[0;34m,\u001b[0m \u001b[0;36m2\u001b[0m\u001b[0;34m,\u001b[0m \u001b[0;36m3\u001b[0m\u001b[0;34m]\u001b[0m\u001b[0;34m)\u001b[0m\u001b[0;34m,\u001b[0m \u001b[0many\u001b[0m\u001b[0;34m(\u001b[0m\u001b[0;34m[\u001b[0m\u001b[0;36m0\u001b[0m\u001b[0;34m,\u001b[0m \u001b[0;36m1\u001b[0m\u001b[0;34m]\u001b[0m\u001b[0;34m,\u001b[0m \u001b[0;36m3\u001b[0m\u001b[0;34m)\u001b[0m\u001b[0;34m\u001b[0m\u001b[0;34m\u001b[0m\u001b[0m\n\u001b[0m\u001b[1;32m      8\u001b[0m \u001b[0;34m\u001b[0m\u001b[0m\n\u001b[1;32m      9\u001b[0m \u001b[0;31m#any([0, \"\"])\u001b[0m\u001b[0;34m\u001b[0m\u001b[0;34m\u001b[0m\u001b[0;34m\u001b[0m\u001b[0m\n",
            "\u001b[0;31mTypeError\u001b[0m: any() takes exactly one argument (2 given)"
          ]
        }
      ]
    },
    {
      "cell_type": "code",
      "metadata": {
        "id": "A0VaWhxddAve",
        "colab_type": "code",
        "colab": {
          "base_uri": "https://localhost:8080/",
          "height": 52
        },
        "outputId": "3470a289-3dd1-4c22-e536-e508d5ccbc0c"
      },
      "source": [
        "print(\"chr()\")\n",
        "###########################################################\n",
        "# chr(i)는 아스키(ASCII) 코드 값을 입력받아\n",
        "# 그 코드에 해당하는 문자를 출력하는 함수이다.\n",
        "###########################################################\n",
        "#\n",
        "chr(97), chr(48), chr(70)"
      ],
      "execution_count": 10,
      "outputs": [
        {
          "output_type": "stream",
          "text": [
            "chr()\n"
          ],
          "name": "stdout"
        },
        {
          "output_type": "execute_result",
          "data": {
            "text/plain": [
              "('a', '0', 'F')"
            ]
          },
          "metadata": {
            "tags": []
          },
          "execution_count": 10
        }
      ]
    },
    {
      "cell_type": "markdown",
      "metadata": {
        "id": "IiDzSOtAjp9H",
        "colab_type": "text"
      },
      "source": [
        "#### 다시 확인"
      ]
    },
    {
      "cell_type": "code",
      "metadata": {
        "id": "-GXDwcQXhzhm",
        "colab_type": "code",
        "colab": {
          "base_uri": "https://localhost:8080/",
          "height": 738
        },
        "outputId": "80557a1d-50c2-4b4f-fb57-85a3202b9561"
      },
      "source": [
        "print(\"dir()\")\n",
        "###########################################################\n",
        "# dir은 객체가 자체적으로 가지고 있는 변수나 함수를 보여 준다.\n",
        "###########################################################\n",
        "#\n",
        "dir([1, 2, 3])  # list object \n",
        "\n",
        "dir({\"1\": \"a\"})  # dict object\n",
        "# type({\"1\": \"a\"})"
      ],
      "execution_count": 13,
      "outputs": [
        {
          "output_type": "stream",
          "text": [
            "dir()\n"
          ],
          "name": "stdout"
        },
        {
          "output_type": "execute_result",
          "data": {
            "text/plain": [
              "['__class__',\n",
              " '__contains__',\n",
              " '__delattr__',\n",
              " '__delitem__',\n",
              " '__dir__',\n",
              " '__doc__',\n",
              " '__eq__',\n",
              " '__format__',\n",
              " '__ge__',\n",
              " '__getattribute__',\n",
              " '__getitem__',\n",
              " '__gt__',\n",
              " '__hash__',\n",
              " '__init__',\n",
              " '__init_subclass__',\n",
              " '__iter__',\n",
              " '__le__',\n",
              " '__len__',\n",
              " '__lt__',\n",
              " '__ne__',\n",
              " '__new__',\n",
              " '__reduce__',\n",
              " '__reduce_ex__',\n",
              " '__repr__',\n",
              " '__setattr__',\n",
              " '__setitem__',\n",
              " '__sizeof__',\n",
              " '__str__',\n",
              " '__subclasshook__',\n",
              " 'clear',\n",
              " 'copy',\n",
              " 'fromkeys',\n",
              " 'get',\n",
              " 'items',\n",
              " 'keys',\n",
              " 'pop',\n",
              " 'popitem',\n",
              " 'setdefault',\n",
              " 'update',\n",
              " 'values']"
            ]
          },
          "metadata": {
            "tags": []
          },
          "execution_count": 13
        }
      ]
    },
    {
      "cell_type": "code",
      "metadata": {
        "id": "k8wRYrJGixsm",
        "colab_type": "code",
        "colab": {
          "base_uri": "https://localhost:8080/",
          "height": 52
        },
        "outputId": "478af5ba-a33b-4771-f259-c3147db4b9aa"
      },
      "source": [
        "print(\"divmod()\")\n",
        "###########################################################\n",
        "# divmod(a, b)는 2개의 숫자를 입력으로 받는다.\n",
        "# 그리고 a를 b로 나눈 몫과 나머지를 튜플 형태로 돌려주는 함수\n",
        "###########################################################\n",
        "#\n",
        "divmod(7, 3)  # 결과값을 tuple로 반환 # (몫, 나머지)"
      ],
      "execution_count": 11,
      "outputs": [
        {
          "output_type": "stream",
          "text": [
            "divmod()\n"
          ],
          "name": "stdout"
        },
        {
          "output_type": "execute_result",
          "data": {
            "text/plain": [
              "(2, 1)"
            ]
          },
          "metadata": {
            "tags": []
          },
          "execution_count": 11
        }
      ]
    },
    {
      "cell_type": "code",
      "metadata": {
        "id": "-b3pbBZ4j1pZ",
        "colab_type": "code",
        "colab": {
          "base_uri": "https://localhost:8080/",
          "height": 87
        },
        "outputId": "998004cf-9383-447a-a35b-fdd4eba84d4b"
      },
      "source": [
        "print(\"enumerate()\")\n",
        "###########################################################\n",
        "# enumerate는 \"열거하다\"라는 뜻이다.\n",
        "# 이 함수는 순서가 있는 자료형(리스트, 튜플, 문자열)을 입력으로\n",
        "# 받아 인덱스 값을 포함하는 enumerate 객체를 돌려준다.\n",
        "###########################################################\n",
        "#\n",
        "for i, name in enumerate([\"body\", \"foo\", \"bar\"]):\n",
        "    print(i, name)  #i : 인덱스, name : 리스트 요소 값"
      ],
      "execution_count": 14,
      "outputs": [
        {
          "output_type": "stream",
          "text": [
            "enumerate()\n",
            "0 body\n",
            "1 foo\n",
            "2 bar\n"
          ],
          "name": "stdout"
        }
      ]
    },
    {
      "cell_type": "code",
      "metadata": {
        "id": "1CPTXH7JkJ8T",
        "colab_type": "code",
        "colab": {
          "base_uri": "https://localhost:8080/",
          "height": 52
        },
        "outputId": "a7a67fc5-e9a6-4ea1-83f2-e73bc83780d9"
      },
      "source": [
        "print(\"eval()\")\n",
        "###########################################################\n",
        "# 문자열을 수식으로 처리하여 계산 해주는 함수\n",
        "# eval(expression )은 실행 가능한 문자열(1+2, 'hi' + 'a' 같은 것)을\n",
        "# 입력으로 받아 문자열을 실행한 결괏값을 돌려주는 함수\n",
        "###########################################################\n",
        "#\n",
        "eval(\"1+2\"), eval(\"'hc' + 'it'\"), eval(\"divmod(4, 3)\")"
      ],
      "execution_count": 15,
      "outputs": [
        {
          "output_type": "stream",
          "text": [
            "eval()\n"
          ],
          "name": "stdout"
        },
        {
          "output_type": "execute_result",
          "data": {
            "text/plain": [
              "(3, 'hcit', (1, 1))"
            ]
          },
          "metadata": {
            "tags": []
          },
          "execution_count": 15
        }
      ]
    },
    {
      "cell_type": "markdown",
      "metadata": {
        "id": "oBkb4938k4vn",
        "colab_type": "text"
      },
      "source": [
        "### filter"
      ]
    },
    {
      "cell_type": "code",
      "metadata": {
        "id": "RgEG0Alhkd4m",
        "colab_type": "code",
        "colab": {
          "base_uri": "https://localhost:8080/",
          "height": 52
        },
        "outputId": "6709c4c3-d4f8-4e4e-f1dc-83f339b4ce59"
      },
      "source": [
        "print(\"filter()\")  # *** \n",
        "# 데이터 처리에 사용\n",
        "###########################################################\n",
        "# filter 함수는 첫 번째 인수로 함수 이름을,\n",
        "# 두 번째 인수로 그 함수에 차례로 들어갈 반복 가능한 자료형을 받는다.\n",
        "# 그리고 두 번째 인수인 반복 가능한 자료형 요소가 첫 번째 인수인\n",
        "# 함수에 입력되었을 때 반환 값이 참인 것만 묶어서(걸러 내서) 돌려준다.\n",
        "###########################################################\n",
        "#\n",
        "# positive.py\n",
        "def positive(l):  # 매개변수를 주로 list를 받는다 \n",
        "    result = [] # result 초기화\n",
        "    for i in l:\n",
        "        if i > 0:\n",
        "            result.append(i)\n",
        "    return result\n",
        "\n",
        "\n",
        "print(positive([1, -3, 2, 0, -5, 6]))"
      ],
      "execution_count": 16,
      "outputs": [
        {
          "output_type": "stream",
          "text": [
            "filter()\n",
            "[1, 2, 6]\n"
          ],
          "name": "stdout"
        }
      ]
    },
    {
      "cell_type": "code",
      "metadata": {
        "id": "k1vGhmE7lI7V",
        "colab_type": "code",
        "colab": {}
      },
      "source": [
        "# filter() 함수 이용\n",
        "# filter1.py\n",
        "def positive(x):\n",
        "    return x > 0  # 0보다 큰 값만 return\n",
        "\n",
        "\n",
        "list(filter(positive, [1, -3, 2, 0, -5, 6]))  \n",
        "# list가 filter함수를 통해 0보다 큰 값만 필터링되어 list에 담긴다 "
      ],
      "execution_count": 0,
      "outputs": []
    },
    {
      "cell_type": "markdown",
      "metadata": {
        "id": "IN-_oSsRmTW5",
        "colab_type": "text"
      },
      "source": [
        "### filter by lambda function"
      ]
    },
    {
      "cell_type": "code",
      "metadata": {
        "id": "s41iv4v9ln60",
        "colab_type": "code",
        "colab": {
          "base_uri": "https://localhost:8080/",
          "height": 34
        },
        "outputId": "95055ce6-5941-41b4-b362-be0826112cbd"
      },
      "source": [
        "# ** 기말고사 출제 ** \n",
        "# 출력값을 제시하고, lambda 함수 및 filter 함수를 이용하여 아래와 같은 최소한의 코드로 작성할 수 있어야한다 \n",
        "# lambda를 사용하면 더욱 간편하게 코드를 작성할 수 있다.\n",
        "\n",
        "list(filter(lambda x: x > 0, [1, -3, 2, 0, -5, 6]))\n",
        "###########################################################"
      ],
      "execution_count": 17,
      "outputs": [
        {
          "output_type": "execute_result",
          "data": {
            "text/plain": [
              "[1, 2, 6]"
            ]
          },
          "metadata": {
            "tags": []
          },
          "execution_count": 17
        }
      ]
    },
    {
      "cell_type": "code",
      "metadata": {
        "id": "VW7luW10mils",
        "colab_type": "code",
        "colab": {}
      },
      "source": [
        "print(\"hex()\")\n",
        "###########################################################\n",
        "# hex(x)는 정수 값을 입력받아 16진수(hexadecimal)로\n",
        "# 변환하여 돌려주는 함수\n",
        "###########################################################\n",
        "#\n",
        "hex(10)\n",
        "hex(234)\n",
        "\n",
        "\n",
        "print(\"id()\")\n",
        "###########################################################\n",
        "# d(object)는 객체를 입력받아 객체의 고유 주소 값(레퍼런스)을 돌려주는 함수\n",
        "###########################################################\n",
        "#\n",
        "a = 3\n",
        "id(3)\n",
        "id(a)\n",
        "b = a\n",
        "id(b)\n",
        "id(4)  # different address\n",
        "\n",
        "\n",
        "print(\"input()\")\n",
        "###########################################################\n",
        "# input([prompt])은 사용자 입력을 받는 함수이다.\n",
        "# 매개변수로 문자열을 주면, 그 문자열은 프롬프트가 된다.\n",
        "###########################################################\n",
        "#\n",
        "a = input()\n",
        "b = input(\"Enter: \")\n",
        "b\n",
        "\n",
        "\n",
        "print(\"int()\")\n",
        "###########################################################\n",
        "# int(x)는 문자열 형태의 숫자나 소수점이 있는 숫자 등을\n",
        "# 정수 형태로 돌려주는 함수\n",
        "###########################################################\n",
        "#\n",
        "int(3)\n",
        "int(\"3\")\n",
        "int(3.14)"
      ],
      "execution_count": 0,
      "outputs": []
    },
    {
      "cell_type": "code",
      "metadata": {
        "id": "i-vNTLz_nR4p",
        "colab_type": "code",
        "colab": {
          "base_uri": "https://localhost:8080/",
          "height": 34
        },
        "outputId": "20d52022-9f7c-4691-d51b-3977e46eb8a4"
      },
      "source": [
        "# int(x, radix)는 radix 진수로 표현된 문자열 x를 10진수로 변환\n",
        "# int(\"11\", 2)\n",
        "# int(11, 2)  # TypeError: int() can't convert non-string with explicit base\n",
        "\n",
        "int(\"F\", 16)"
      ],
      "execution_count": 20,
      "outputs": [
        {
          "output_type": "execute_result",
          "data": {
            "text/plain": [
              "15"
            ]
          },
          "metadata": {
            "tags": []
          },
          "execution_count": 20
        }
      ]
    },
    {
      "cell_type": "code",
      "metadata": {
        "id": "otgIDlrNnTzm",
        "colab_type": "code",
        "colab": {
          "base_uri": "https://localhost:8080/",
          "height": 52
        },
        "outputId": "f24cd62f-828d-4d34-b659-d3fcc5f9b68f"
      },
      "source": [
        "print(\"isinstance()\")\n",
        "###########################################################\n",
        "# isinstance(object, class )는 첫 번째 인수로 인스턴스,\n",
        "# 두 번째 인수로 클래스 이름을 받는다.\n",
        "# 입력으로 받은 인스턴스가 그 클래스의 인스턴스인지를 판단하여\n",
        "# 참이면 True, 거짓이면 False를 돌려준다.\n",
        "###########################################################\n",
        "#\n",
        "class Person:\n",
        "    pass\n",
        "\n",
        "# 클래스형 변수 확인 \n",
        "\n",
        "a = Person()\n",
        "isinstance(a, Person)\n",
        "\n",
        "b = 3\n",
        "isinstance(b, Person)"
      ],
      "execution_count": 21,
      "outputs": [
        {
          "output_type": "stream",
          "text": [
            "isinstance()\n"
          ],
          "name": "stdout"
        },
        {
          "output_type": "execute_result",
          "data": {
            "text/plain": [
              "False"
            ]
          },
          "metadata": {
            "tags": []
          },
          "execution_count": 21
        }
      ]
    },
    {
      "cell_type": "code",
      "metadata": {
        "id": "U6M24CRHn2k4",
        "colab_type": "code",
        "colab": {}
      },
      "source": [
        "\n",
        "print(\"len()\")\n",
        "###########################################################\n",
        "# len(s)은 입력값 s의 길이(요소의 전체 개수)를 돌려주는 함수이다.\n",
        "###########################################################\n",
        "#\n",
        "len(\"python\")\n",
        "len([1, 2, 3])\n",
        "len((1, \"a\"))\n",
        "len({a: 3})\n",
        "\n",
        "\n",
        "print(\"list()\")\n",
        "###########################################################\n",
        "# list(s)는 반복 가능한 자료형 s를 입력받아\n",
        "# 리스트로 만들어 돌려주는 함수\n",
        "###########################################################\n",
        "#\n",
        "list(\"python\")\n",
        "list((1, 2, 3))"
      ],
      "execution_count": 0,
      "outputs": []
    },
    {
      "cell_type": "markdown",
      "metadata": {
        "id": "hrlCnKFioOlq",
        "colab_type": "text"
      },
      "source": [
        "### map 함수"
      ]
    },
    {
      "cell_type": "code",
      "metadata": {
        "id": "85j27FpcoNMQ",
        "colab_type": "code",
        "colab": {
          "base_uri": "https://localhost:8080/",
          "height": 52
        },
        "outputId": "3fab5c59-6a7f-4f87-dfa6-6d8a6fc54457"
      },
      "source": [
        "print(\"map()\")  # ***\n",
        "###########################################################\n",
        "# map(f, iterable)은 함수(f)와 반복 가능한(iterable)(여러개의 데이터를 갖는 데이터 타입) 자료형을\n",
        "# 입력으로 받는다.\n",
        "# map은 입력받은 자료형의 각 요소를 함수 f가 수행한 결과를\n",
        "# 묶어서 돌려주는 함수\n",
        "###########################################################\n",
        "#\n",
        "# two_times.py\n",
        "def two_times(numberList):\n",
        "    result = []\n",
        "    for number in numberList:\n",
        "        result.append(number * 2)\n",
        "    return result\n",
        "\n",
        "\n",
        "result = two_times([1, 2, 3, 4])\n",
        "print(result)"
      ],
      "execution_count": 22,
      "outputs": [
        {
          "output_type": "stream",
          "text": [
            "map()\n",
            "[2, 4, 6, 8]\n"
          ],
          "name": "stdout"
        }
      ]
    },
    {
      "cell_type": "code",
      "metadata": {
        "id": "Uz4cYGuyocFv",
        "colab_type": "code",
        "colab": {
          "base_uri": "https://localhost:8080/",
          "height": 52
        },
        "outputId": "bc1a6288-be6a-49aa-fa35-74f47786b325"
      },
      "source": [
        "# map 함수를 사용\n",
        "def two_times(x):\n",
        "    return x * 2\n",
        "\n",
        "\n",
        "print(list(map(two_times, [1, 2, 3, 4])))\n",
        "\n",
        "# 위의 코드를 간단히, 이름이 없는 lambda 함수를 사용\n",
        "list(map(lambda a: a * 2, [1, 2, 3, 4]))\n",
        "###########################################################"
      ],
      "execution_count": 23,
      "outputs": [
        {
          "output_type": "stream",
          "text": [
            "[2, 4, 6, 8]\n"
          ],
          "name": "stdout"
        },
        {
          "output_type": "execute_result",
          "data": {
            "text/plain": [
              "[2, 4, 6, 8]"
            ]
          },
          "metadata": {
            "tags": []
          },
          "execution_count": 23
        }
      ]
    },
    {
      "cell_type": "code",
      "metadata": {
        "id": "WtsUCqrroxC2",
        "colab_type": "code",
        "colab": {
          "base_uri": "https://localhost:8080/",
          "height": 52
        },
        "outputId": "63253c1f-b1b7-47f0-a488-7b448128db31"
      },
      "source": [
        "print(\"max()\")\n",
        "###########################################################\n",
        "# max(iterable)는 인수로 반복 가능한 자료형을 입력받아\n",
        "# 그 최댓값을 돌려주는 함수\n",
        "###########################################################\n",
        "#\n",
        "max([1, 2, 3])\n",
        "max(\"pythonZ\")  # 알파벳 순서 : \"A ~ Z\"(대문자 순서 먼저) -> \"a ~ z\"\n",
        "max(list(range(10)))  # range(10) : 0 ~ 9\n",
        "max(range(10))"
      ],
      "execution_count": 24,
      "outputs": [
        {
          "output_type": "stream",
          "text": [
            "max()\n"
          ],
          "name": "stdout"
        },
        {
          "output_type": "execute_result",
          "data": {
            "text/plain": [
              "9"
            ]
          },
          "metadata": {
            "tags": []
          },
          "execution_count": 24
        }
      ]
    },
    {
      "cell_type": "code",
      "metadata": {
        "id": "EMXZpBl5pREP",
        "colab_type": "code",
        "colab": {}
      },
      "source": [
        "print(\"min()\")\n",
        "###########################################################\n",
        "# min(iterable)은 max 함수와 반대로, 인수로 반복 가능한\n",
        "# 자료형을 입력받아 그 최솟값을 돌려주는 함수\n",
        "###########################################################\n",
        "#\n",
        "min([1, 2, 3])\n",
        "min(\"python\")\n",
        "min(range(10))\n",
        "\n",
        "\n",
        "print(\"oct()\")\n",
        "###########################################################\n",
        "# oct(x)는 정수 형태의 숫자를 8진수 문자열로 바꾸어 돌려주는 함수\n",
        "###########################################################\n",
        "#\n",
        "oct(9)\n",
        "oct(12345)\n",
        "\n"
      ],
      "execution_count": 0,
      "outputs": []
    },
    {
      "cell_type": "code",
      "metadata": {
        "id": "YIWeEGTNp8Qa",
        "colab_type": "code",
        "colab": {
          "base_uri": "https://localhost:8080/",
          "height": 52
        },
        "outputId": "5058b860-7aea-43bd-f49b-3f446bdbcc41"
      },
      "source": [
        "print(\"ord()\")\n",
        "###########################################################\n",
        "# ord(c)는 문자의 아스키 코드 값을 돌려주는 함수\n",
        "# ※ ord 함수는 chr 함수와 반대이다.\n",
        "###########################################################\n",
        "#\n",
        "ord(\"a\")  # chr(97)\n",
        "ord(\"0\")"
      ],
      "execution_count": 25,
      "outputs": [
        {
          "output_type": "stream",
          "text": [
            "ord()\n"
          ],
          "name": "stdout"
        },
        {
          "output_type": "execute_result",
          "data": {
            "text/plain": [
              "48"
            ]
          },
          "metadata": {
            "tags": []
          },
          "execution_count": 25
        }
      ]
    },
    {
      "cell_type": "code",
      "metadata": {
        "id": "1G7WKZfAp_-S",
        "colab_type": "code",
        "colab": {
          "base_uri": "https://localhost:8080/",
          "height": 70
        },
        "outputId": "ef87f652-7347-4fdb-e23b-5119f925fec1"
      },
      "source": [
        "print(\"pow()\")\n",
        "###########################################################\n",
        "# pow(x, y)는 x의 y 제곱한 결괏값을 돌려주는 함수\n",
        "###########################################################\n",
        "#\n",
        "pow(2, 4)  # 2**4\n",
        "pow(3, 4)  # 3**4\n",
        "\n",
        "\n",
        "print(\"range()\")  # ***\n",
        "###########################################################\n",
        "# range([start,] stop [,step] )는 for문과 함께 자주 사용하는 함수\n",
        "# 이 함수는 입력받은 숫자에 해당하는 범위 값을 반복 가능한 객체로\n",
        "# 만들어 돌려준다.\n",
        "###########################################################\n",
        "#\n",
        "# 인수가 하나일 경우\n",
        "list(range(5))\n",
        "\n",
        "# 인수가 2개일 경우\n",
        "list(range(5, 10))\n",
        "\n",
        "# 인수가 3개일 경우\n",
        "list(range(1, 10, 2))\n",
        "\n",
        "list(range(0, -10, -1)) # 0 ~ -9  거꾸로 정렬 "
      ],
      "execution_count": 26,
      "outputs": [
        {
          "output_type": "stream",
          "text": [
            "pow()\n",
            "range()\n"
          ],
          "name": "stdout"
        },
        {
          "output_type": "execute_result",
          "data": {
            "text/plain": [
              "[0, -1, -2, -3, -4, -5, -6, -7, -8, -9]"
            ]
          },
          "metadata": {
            "tags": []
          },
          "execution_count": 26
        }
      ]
    },
    {
      "cell_type": "code",
      "metadata": {
        "id": "DmR_dAfVqG2E",
        "colab_type": "code",
        "colab": {
          "base_uri": "https://localhost:8080/",
          "height": 52
        },
        "outputId": "e20d5d72-1891-4a27-9e2f-1f48f8e1a2b2"
      },
      "source": [
        "print(\"round()\")\n",
        "###########################################################\n",
        "# round(number[, ndigits]) 함수는 숫자를 입력받아 반올림해 주는 함수\n",
        "# ※ [, ndigits]는 ndigits가 있을 수도 있고 없을 수도 있다는 의미이다.\n",
        "###########################################################\n",
        "#\n",
        "round(4.6)\n",
        "round(4.2)\n",
        "\n",
        "# 소수점 2자리까지만 반올림\n",
        "round(5.678, 2)"
      ],
      "execution_count": 27,
      "outputs": [
        {
          "output_type": "stream",
          "text": [
            "round()\n"
          ],
          "name": "stdout"
        },
        {
          "output_type": "execute_result",
          "data": {
            "text/plain": [
              "5.68"
            ]
          },
          "metadata": {
            "tags": []
          },
          "execution_count": 27
        }
      ]
    },
    {
      "cell_type": "markdown",
      "metadata": {
        "id": "inNTSKwbqi6g",
        "colab_type": "text"
      },
      "source": [
        "### sorted()"
      ]
    },
    {
      "cell_type": "code",
      "metadata": {
        "id": "YZMGtOVZqaLY",
        "colab_type": "code",
        "colab": {
          "base_uri": "https://localhost:8080/",
          "height": 52
        },
        "outputId": "b76180a9-ce2f-4be3-c7ac-650822e834b0"
      },
      "source": [
        "print(\"sorted()\")  # ***\n",
        "###########################################################\n",
        "# sorted(iterable) 함수는 입력값을 정렬한 후\n",
        "# 그 결과를 리스트로 돌려주는 함수\n",
        "# 'reverse' 속성으로 정렬순서 반전\n",
        "###########################################################\n",
        "#\n",
        "sorted([3, 1, 2]), sorted([3, 1, 2], reverse=True)\n",
        "\n",
        "sorted([\"a\", \"c\", \"b\"]), sorted([\"a\", \"c\", \"b\"], reverse=True)\n",
        "sorted([\"a\", \"c\", \"b\", \"A\", \"Z\"])\n",
        "sorted(\"zero\"), sorted((3, 2, 1))  # 튜플을 sorted() 함수에 적용하면 결국 list로 반환!!!\n",
        "###########################################################"
      ],
      "execution_count": 30,
      "outputs": [
        {
          "output_type": "stream",
          "text": [
            "sorted()\n"
          ],
          "name": "stdout"
        },
        {
          "output_type": "execute_result",
          "data": {
            "text/plain": [
              "(['e', 'o', 'r', 'z'], [1, 2, 3])"
            ]
          },
          "metadata": {
            "tags": []
          },
          "execution_count": 30
        }
      ]
    },
    {
      "cell_type": "code",
      "metadata": {
        "id": "eLPXRIBaquG9",
        "colab_type": "code",
        "colab": {
          "base_uri": "https://localhost:8080/",
          "height": 122
        },
        "outputId": "eae0e590-f666-4342-d0ea-53f559d10ba1"
      },
      "source": [
        "print(\"str()\")\n",
        "###########################################################\n",
        "# str(object)은 문자열 형태로 객체를 변환하여 돌려주는 함수\n",
        "###########################################################\n",
        "#\n",
        "str(3)\n",
        "str(100)\n",
        "str(\"hello\".upper())\n",
        "\n",
        "\n",
        "print(\"sum()\")\n",
        "###########################################################\n",
        "# sum(iterable) 은 입력받은 리스트나 튜플의\n",
        "# 모든 요소의 합을 돌려주는 함수\n",
        "###########################################################\n",
        "#\n",
        "sum([1, 2, 3])\n",
        "sum((4, 5, 6))\n",
        "\n",
        "\n",
        "print(\"tuple()\")\n",
        "###########################################################\n",
        "# tuple(iterable)은 반복 가능한 자료형을 입력받아\n",
        "# 튜플 형태로 바꾸어 돌려주는 함수\n",
        "###########################################################\n",
        "#\n",
        "tuple(\"abc\")\n",
        "tuple([1, 2, 3])\n",
        "\n",
        "\n",
        "print(\"type()\")\n",
        "###########################################################\n",
        "# type(object)은 입력값의 자료형이 무엇인지 알려 주는 함수\n",
        "###########################################################\n",
        "#\n",
        "type(\"abc\")\n",
        "type([])\n",
        "type({a: 4})\n",
        "type(open(\"test\", \"w\"))\n",
        "\n",
        "\n",
        "print(\"zip()\")  # ***\n",
        "###########################################################\n",
        "# zip(*iterable)은 동일한 개수로 이루어진 자료형을\n",
        "# 묶어 주는 역할을 하는 함수\n",
        "###########################################################\n",
        "#\n",
        "list(zip([1, 2, 3], [4, 5, 6]))\n",
        "list(zip([1, 2, 3], [4, 5, 6], [7, 8, 9]))\n",
        "list(zip(\"abc\", \"def\"))\n",
        "list(zip([1, 2, 3], \"def\")) # 1 - d, 2 - e, 3 - f\n",
        "\n",
        "############## The END  ##############\n"
      ],
      "execution_count": 31,
      "outputs": [
        {
          "output_type": "stream",
          "text": [
            "str()\n",
            "sum()\n",
            "tuple()\n",
            "type()\n",
            "zip()\n"
          ],
          "name": "stdout"
        },
        {
          "output_type": "execute_result",
          "data": {
            "text/plain": [
              "[(1, 'd'), (2, 'e'), (3, 'f')]"
            ]
          },
          "metadata": {
            "tags": []
          },
          "execution_count": 31
        }
      ]
    },
    {
      "cell_type": "markdown",
      "metadata": {
        "id": "44wFlIE_Iyzh",
        "colab_type": "text"
      },
      "source": [
        "### 파이썬 중요 함수 정리\n",
        "> https://wayhome25.github.io/cs/2017/04/03/cs-03/"
      ]
    },
    {
      "cell_type": "markdown",
      "metadata": {
        "id": "JcB3bYbesPs9",
        "colab_type": "text"
      },
      "source": [
        "### 외장 함수"
      ]
    },
    {
      "cell_type": "markdown",
      "metadata": {
        "id": "DFZHMh5pVq82",
        "colab_type": "text"
      },
      "source": [
        "- 외장 함수\n",
        "   - sys\n",
        "   - pickle\n",
        "   - os\n",
        "   - shutil\n",
        "   - glob\n",
        "   - tempfile\n",
        "   - time\n",
        "   - calendar\n",
        "   - random\n",
        "   - webbrowser"
      ]
    },
    {
      "cell_type": "code",
      "metadata": {
        "id": "fGBlcLGN-3pd",
        "colab_type": "code",
        "colab": {
          "base_uri": "https://localhost:8080/",
          "height": 34
        },
        "outputId": "6a581917-fade-4623-8f6f-9e0a61a66234"
      },
      "source": [
        "# ch5_06_external_functions.py\n",
        "#\n",
        "print(\"외장 함수\")\n",
        "###########################################################\n",
        "# 파이썬 사용자들이 만든 유용한 프로그램을 모아 놓은 것이\n",
        "# 바로 파이썬 라이브러리\n",
        "# 외장 모듈은 'import module_name' 형식으로 불러와서 사용\n",
        "###########################################################\n",
        "#"
      ],
      "execution_count": 32,
      "outputs": [
        {
          "output_type": "stream",
          "text": [
            "외장 함수\n"
          ],
          "name": "stdout"
        }
      ]
    },
    {
      "cell_type": "markdown",
      "metadata": {
        "id": "elRHdi0ksxHg",
        "colab_type": "text"
      },
      "source": [
        "#### os 모듈"
      ]
    },
    {
      "cell_type": "code",
      "metadata": {
        "id": "v5SdQHROsffl",
        "colab_type": "code",
        "colab": {
          "base_uri": "https://localhost:8080/",
          "height": 72
        },
        "outputId": "2ddc28a5-3f21-4524-e82a-a339dc0d8f53"
      },
      "source": [
        "print(\"os\")  # ***\n",
        "###########################################################\n",
        "# OS 모듈은 환경 변수나 디렉터리, 파일 등의 OS 자원을\n",
        "# 제어할 수 있게 해주는 모듈\n",
        "###########################################################\n",
        "#\n",
        "# 내 시스템의 환경 변수값을 알고 싶을 때 - os.environ\n",
        "import os\n",
        "\n",
        "os.environ\n",
        "\n",
        "# 시스템의 PATH 환경 변수 내용\n",
        "os.environ[\"PATH\"]\n",
        "\n",
        "# 현재 디렉터리 위치 확인 - os.getcwd()\n",
        "#os.getcwd() # get current working directory\n",
        "\n",
        "# 시스템 명령어 호출하기 - os.system\n",
        "#os.system(\"dir\")\n",
        "\n",
        "# 디렉터리 위치 변경하기 - os.chdir('directory')\n",
        "#os.chdir(\"ch05\")\n",
        "\n",
        "# 기타 유용한 os 관련 함수\n",
        "# os.mkdir(디렉터리)\n",
        "# os.rmdir(디렉터리)\n",
        "# os.rename(src, dst)"
      ],
      "execution_count": 33,
      "outputs": [
        {
          "output_type": "stream",
          "text": [
            "os\n"
          ],
          "name": "stdout"
        },
        {
          "output_type": "execute_result",
          "data": {
            "text/plain": [
              "'/usr/local/nvidia/bin:/usr/local/cuda/bin:/usr/local/sbin:/usr/local/bin:/usr/sbin:/usr/bin:/sbin:/bin:/tools/node/bin:/tools/google-cloud-sdk/bin:/opt/bin'"
            ]
          },
          "metadata": {
            "tags": []
          },
          "execution_count": 33
        }
      ]
    },
    {
      "cell_type": "markdown",
      "metadata": {
        "id": "4J75ydkLthwc",
        "colab_type": "text"
      },
      "source": [
        "#### sys 모듈"
      ]
    },
    {
      "cell_type": "code",
      "metadata": {
        "id": "1jW8FAYcsiWH",
        "colab_type": "code",
        "colab": {}
      },
      "source": [
        "print(\"sys\")  # ***\n",
        "###########################################################\n",
        "# sys 모듈은 파이썬 인터프리터가 제공하는 변수와 함수를\n",
        "# 직접 제어할 수 있게 해주는 모듈\n",
        "###########################################################\n",
        "#\n",
        "# argv_test.py\n",
        "import sys\n",
        "\n",
        "# print(sys.argv)\n",
        "\n",
        "# 강제로 스크립트 종료하기 - sys.exit\n",
        "import sys\n",
        "\n",
        "sys.exit()  # ^Z"
      ],
      "execution_count": 0,
      "outputs": []
    },
    {
      "cell_type": "code",
      "metadata": {
        "id": "Sj61RZ5PtpCT",
        "colab_type": "code",
        "colab": {}
      },
      "source": [
        "import sys\n",
        "\n",
        "sys.path  # 현재 작업하고 있는 경로 \n",
        "\n",
        "import os\n",
        "\n",
        "os.getcwd() # 현재 폴더 --> content\n",
        "\n",
        "# import sys\n",
        "\n",
        "sys.path.append(\"C:/doit/mymod\")\n",
        "# C:/doit/Mymod 디렉터리에 있는 파이썬 모듈을 불러와서 사용."
      ],
      "execution_count": 0,
      "outputs": []
    },
    {
      "cell_type": "code",
      "metadata": {
        "id": "RHTOQcRSucTm",
        "colab_type": "code",
        "colab": {
          "base_uri": "https://localhost:8080/",
          "height": 193
        },
        "outputId": "7503f8e9-fce2-440f-b8c0-33e519c93af6"
      },
      "source": [
        "sys.path"
      ],
      "execution_count": 36,
      "outputs": [
        {
          "output_type": "execute_result",
          "data": {
            "text/plain": [
              "['',\n",
              " '/env/python',\n",
              " '/usr/lib/python36.zip',\n",
              " '/usr/lib/python3.6',\n",
              " '/usr/lib/python3.6/lib-dynload',\n",
              " '/usr/local/lib/python3.6/dist-packages',\n",
              " '/usr/lib/python3/dist-packages',\n",
              " '/usr/local/lib/python3.6/dist-packages/IPython/extensions',\n",
              " '/root/.ipython',\n",
              " 'C:/doit/mymod']"
            ]
          },
          "metadata": {
            "tags": []
          },
          "execution_count": 36
        }
      ]
    },
    {
      "cell_type": "markdown",
      "metadata": {
        "id": "gVBYaCdwutuH",
        "colab_type": "text"
      },
      "source": [
        "#### pickle 모듈"
      ]
    },
    {
      "cell_type": "code",
      "metadata": {
        "id": "-rbnVJlOt4Rc",
        "colab_type": "code",
        "colab": {
          "base_uri": "https://localhost:8080/",
          "height": 52
        },
        "outputId": "01685fcc-817d-42f3-a68a-d8621246d2c6"
      },
      "source": [
        "print(\"pickle\")\n",
        "###########################################################\n",
        "# pickle은 객체의 형태를 그대로 유지하면서 파일에 저장하고\n",
        "# 불러올 수 있게 하는 모듈\n",
        "###########################################################\n",
        "#\n",
        "import pickle\n",
        "\n",
        "# 객체 그대로 유지하면서 파일에 저장\n",
        "f = open(\"test.txt\", \"wb\")\n",
        "data = {1: \"python\", 2: \"you need\"}\n",
        "pickle.dump(data, f)\n",
        "f.close()\n",
        "\n",
        "\n",
        "# pickle.load를 사용해서 원래 있던 딕셔너리 객체(data) 상태 그대로 불러오기\n",
        "f = open(\"test.txt\", \"rb\")\n",
        "data = pickle.load(f)\n",
        "f.close()\n",
        "\n",
        "print(data)\n",
        "# pickle 모듈로 어떤 자료형이든 저장하고 불러올 수 있다."
      ],
      "execution_count": 37,
      "outputs": [
        {
          "output_type": "stream",
          "text": [
            "pickle\n",
            "{1: 'python', 2: 'you need'}\n"
          ],
          "name": "stdout"
        }
      ]
    },
    {
      "cell_type": "code",
      "metadata": {
        "id": "v8WTLkWpuyZh",
        "colab_type": "code",
        "colab": {
          "base_uri": "https://localhost:8080/",
          "height": 52
        },
        "outputId": "56c8ec48-0860-434e-d67e-43980d8cd821"
      },
      "source": [
        "print(\"shutil\")\n",
        "###########################################################\n",
        "# shutil은 파일을 복사해 주는 파이썬 모듈\n",
        "###########################################################\n",
        "#\n",
        "import shutil\n",
        "\n",
        "os.system(\"dir\")\n",
        "shutil.copy(\"test.txt\", \"zest.txt\")\n",
        "os.system(\"dir\")  # 확인"
      ],
      "execution_count": 38,
      "outputs": [
        {
          "output_type": "stream",
          "text": [
            "shutil\n"
          ],
          "name": "stdout"
        },
        {
          "output_type": "execute_result",
          "data": {
            "text/plain": [
              "0"
            ]
          },
          "metadata": {
            "tags": []
          },
          "execution_count": 38
        }
      ]
    },
    {
      "cell_type": "markdown",
      "metadata": {
        "id": "ejluqYboveNH",
        "colab_type": "text"
      },
      "source": [
        "#### glob 모듈"
      ]
    },
    {
      "cell_type": "code",
      "metadata": {
        "id": "qp9NH4FZvbSe",
        "colab_type": "code",
        "colab": {
          "base_uri": "https://localhost:8080/",
          "height": 52
        },
        "outputId": "a6bc6f4c-9fda-429e-d5a5-bc4b4f5ee5f7"
      },
      "source": [
        "print(\"glob\")\n",
        "# sys, os와 같은 파이썬 시스템 프로그래밍을 보완해주는 모듈\n",
        "###########################################################\n",
        "# 특정 디렉터리(폴더)에 있는 파일 이름을 모두 확인하는 파이썬 모듈\n",
        "# 디렉터리에 있는 파일들을 리스트로 만들기 - glob(pathname)\n",
        "###########################################################\n",
        "#\n",
        "import glob\n",
        "\n",
        "glob.glob(\"*.txt\")  # txt 파일 목록 확인\n",
        "# ['test.txt', 'zest.txt']"
      ],
      "execution_count": 39,
      "outputs": [
        {
          "output_type": "stream",
          "text": [
            "glob\n"
          ],
          "name": "stdout"
        },
        {
          "output_type": "execute_result",
          "data": {
            "text/plain": [
              "['zest.txt', 'test.txt', 'goo.txt']"
            ]
          },
          "metadata": {
            "tags": []
          },
          "execution_count": 39
        }
      ]
    },
    {
      "cell_type": "code",
      "metadata": {
        "id": "HWqINLJivi2P",
        "colab_type": "code",
        "colab": {}
      },
      "source": [
        "print(\"tempfile\")\n",
        "###########################################################\n",
        "# 파일을 임시로 만들어서 사용할 때 유용한 모듈\n",
        "###########################################################\n",
        "#\n",
        "import tempfile\n",
        "\n",
        "filename = tempfile.mktemp()\n",
        "filename\n",
        "\n",
        "# tempfile.TemporaryFile()은 임시 저장 공간으로 사용할 파일 객체를 돌려준다.\n",
        "# 이 파일은 기본적으로 바이너리 쓰기 모드(wb)를 갖는다.\n",
        "# f.close()가 호출되면 이 파일 객체는 자동으로 사라진다.\n",
        "import tempfile\n",
        "\n",
        "f = tempfile.TemporaryFile()\n",
        "f.close()"
      ],
      "execution_count": 0,
      "outputs": []
    },
    {
      "cell_type": "markdown",
      "metadata": {
        "id": "o41W7fccx7ZA",
        "colab_type": "text"
      },
      "source": [
        "#### time 모듈"
      ]
    },
    {
      "cell_type": "code",
      "metadata": {
        "id": "v87ry8B5vlMN",
        "colab_type": "code",
        "colab": {
          "base_uri": "https://localhost:8080/",
          "height": 52
        },
        "outputId": "9e3f68f3-0c56-42ad-e945-c3fec1efa6be"
      },
      "source": [
        "print(\"time\")  # ***\n",
        "###########################################################\n",
        "# 시간과 관련된 time 모듈\n",
        "###########################################################\n",
        "#\n",
        "# time.time()\n",
        "#\n",
        "# time.time()은 UTC(Universal Time Coordinated 협정 세계 표준시)를\n",
        "# 사용하여 현재 시간을 실수 형태로 돌려주는 함수이다.\n",
        "# 1970년 1월 1일 0시 0분 0초를 기준으로 지난 시간을 초 단위로 돌려준다.\n",
        "import time\n",
        "\n",
        "time.time()"
      ],
      "execution_count": 40,
      "outputs": [
        {
          "output_type": "stream",
          "text": [
            "time\n"
          ],
          "name": "stdout"
        },
        {
          "output_type": "execute_result",
          "data": {
            "text/plain": [
              "1592053478.822709"
            ]
          },
          "metadata": {
            "tags": []
          },
          "execution_count": 40
        }
      ]
    },
    {
      "cell_type": "code",
      "metadata": {
        "id": "xX4hpE38x_OE",
        "colab_type": "code",
        "colab": {
          "base_uri": "https://localhost:8080/",
          "height": 34
        },
        "outputId": "2d2e22ae-c042-42b6-eff6-27ecae88c944"
      },
      "source": [
        "# time.localtime()\n",
        "# time.localtime은 time.time()이 돌려준 실수 값을 사용해서\n",
        "# 연도, 월, 일, 시, 분, 초, ... 의 형태로 바꾸어 주는 함수\n",
        "time.localtime(time.time())\n",
        "# time.struct_time(tm_year=2019, tm_mon=10, tm_mday=30,\n",
        "# tm_hour=21, tm_min=18, tm_sec=15, tm_wday=2, tm_yday=303, tm_isdst=0)\n",
        "\n",
        "# time.asctime\n",
        "# 위 time.localtime에 의해서 반환된 튜플 형태의 값을 인수로 받아서\n",
        "# 날짜와 시간을 알아보기 쉬운 형태로 돌려주는 함수\n",
        "time.asctime(time.localtime(time.time()))\n",
        "# 'Wed Oct 30 21:19:52 2019'\n",
        "\n",
        "# time.ctime\n",
        "# time.asctime(time.localtime(time.time()))은 time.ctime()과 같다.\n",
        "time.ctime()"
      ],
      "execution_count": 43,
      "outputs": [
        {
          "output_type": "execute_result",
          "data": {
            "text/plain": [
              "'Sat Jun 13 13:06:41 2020'"
            ]
          },
          "metadata": {
            "tags": []
          },
          "execution_count": 43
        }
      ]
    },
    {
      "cell_type": "markdown",
      "metadata": {
        "id": "G99sqBXcyoFg",
        "colab_type": "text"
      },
      "source": [
        "### 시간 출력 형식"
      ]
    },
    {
      "cell_type": "code",
      "metadata": {
        "id": "U7XYuybQyMV4",
        "colab_type": "code",
        "colab": {
          "base_uri": "https://localhost:8080/",
          "height": 34
        },
        "outputId": "67a7d540-1260-4240-8ae4-86c0d3a1de4f"
      },
      "source": [
        "# time.strftime\n",
        "# time.strftime('출력할 형식 포맷 코드', time.localtime(time.time()))\n",
        "# strftime 함수는 여러 가지 포맷 코드로 시간에 관계된 것을 세밀하게 표현\n",
        "\n",
        "# 시간에 관계된 것을 표현하는 포맷 코드\n",
        "##############################################################\n",
        "# 포맷코드\t설명\t예\n",
        "# %a\t요일 줄임말\tMon\n",
        "# %A\t요일\tMonday\n",
        "# %b\t달 줄임말\tJan\n",
        "# %B\t달\tJanuary\n",
        "# %c\t날짜와 시간을 출력함\t06/01/01 17:22:21\n",
        "# %d\t날(day)\t[01,31]\n",
        "# %H\t시간(hour)-24시간 출력 형태\t[00,23]\n",
        "# %I\t시간(hour)-12시간 출력 형태\t[01,12]\n",
        "# %j\t1년 중 누적 날짜\t[001,366]\n",
        "# %m\t달\t[01,12]\n",
        "# %M\t분\t[01,59]\n",
        "# %p\tAM or PM\tAM\n",
        "# %S\t초\t[00,59]\n",
        "# %U\t1년 중 누적 주-일요일을 시작으로\t[00,53]\n",
        "# %w\t숫자로 된 요일\t[0(일요일),6]\n",
        "# %W\t1년 중 누적 주-월요일을 시작으로\t[00,53]\n",
        "# %x\t현재 설정된 로케일에 기반한 날짜 출력\t06/01/01\n",
        "# %X\t현재 설정된 로케일에 기반한 시간 출력\t17:22:21\n",
        "# %Y\t년도 출력\t2001\n",
        "# %z\t시간대 출력\t대한민국 표준시\n",
        "# %y\t세기부분을 제외한 년도 출력\t01\n",
        "##############################################################\n",
        "\n",
        "import time\n",
        "\n",
        "time.strftime(\"%x\", time.localtime(time.time()))  # %x\t현재 설정된 로케일에 기반한 날짜 출력 #strftime : 문자열 포맷 타입\n",
        "\n",
        "time.strftime(\"%c\", time.localtime(time.time()))  # %c\t날짜와 시간을 출력\n",
        "\n",
        "time.strftime(\"%z\", time.localtime(time.time()))  # %z\t시간대 출력\t대한민국 표준시"
      ],
      "execution_count": 46,
      "outputs": [
        {
          "output_type": "execute_result",
          "data": {
            "text/plain": [
              "'+0000'"
            ]
          },
          "metadata": {
            "tags": []
          },
          "execution_count": 46
        }
      ]
    },
    {
      "cell_type": "code",
      "metadata": {
        "id": "0o7IviL7ywZI",
        "colab_type": "code",
        "colab": {
          "base_uri": "https://localhost:8080/",
          "height": 193
        },
        "outputId": "bf1e4510-8486-4619-f2de-0d255a85f637"
      },
      "source": [
        "# time.sleep\n",
        "# time.sleep 함수는 주로 루프 안에서 많이 사용한다.\n",
        "# 이 함수를 사용하면 일정한 시간 간격을 두고 루프를 실행\n",
        "# sleep1.py\n",
        "import time\n",
        "\n",
        "for i in range(10):\n",
        "    print(i)\n",
        "    time.sleep(1)  # delay = 1 s (초단위로 )"
      ],
      "execution_count": 47,
      "outputs": [
        {
          "output_type": "stream",
          "text": [
            "0\n",
            "1\n",
            "2\n",
            "3\n",
            "4\n",
            "5\n",
            "6\n",
            "7\n",
            "8\n",
            "9\n"
          ],
          "name": "stdout"
        }
      ]
    },
    {
      "cell_type": "markdown",
      "metadata": {
        "id": "3_pmPvBZzfWu",
        "colab_type": "text"
      },
      "source": [
        "#### calender모듈"
      ]
    },
    {
      "cell_type": "code",
      "metadata": {
        "id": "0oSk6aBWzYtP",
        "colab_type": "code",
        "colab": {
          "base_uri": "https://localhost:8080/",
          "height": 1000
        },
        "outputId": "0cdf7cf7-ed36-40e7-b3ee-7f127e9df98c"
      },
      "source": [
        "print(\"calendar\")\n",
        "###########################################################\n",
        "# 파이썬에서 달력을 볼 수 있게 해주는 모듈\n",
        "###########################################################\n",
        "#\n",
        "import calendar\n",
        "\n",
        "print(calendar.calendar(2020))\n",
        "\n",
        "calendar.prcal(2020)\n",
        "\n",
        "calendar.prmonth(2020, 6)"
      ],
      "execution_count": 50,
      "outputs": [
        {
          "output_type": "stream",
          "text": [
            "calendar\n",
            "                                  2020\n",
            "\n",
            "      January                   February                   March\n",
            "Mo Tu We Th Fr Sa Su      Mo Tu We Th Fr Sa Su      Mo Tu We Th Fr Sa Su\n",
            "       1  2  3  4  5                      1  2                         1\n",
            " 6  7  8  9 10 11 12       3  4  5  6  7  8  9       2  3  4  5  6  7  8\n",
            "13 14 15 16 17 18 19      10 11 12 13 14 15 16       9 10 11 12 13 14 15\n",
            "20 21 22 23 24 25 26      17 18 19 20 21 22 23      16 17 18 19 20 21 22\n",
            "27 28 29 30 31            24 25 26 27 28 29         23 24 25 26 27 28 29\n",
            "                                                    30 31\n",
            "\n",
            "       April                      May                       June\n",
            "Mo Tu We Th Fr Sa Su      Mo Tu We Th Fr Sa Su      Mo Tu We Th Fr Sa Su\n",
            "       1  2  3  4  5                   1  2  3       1  2  3  4  5  6  7\n",
            " 6  7  8  9 10 11 12       4  5  6  7  8  9 10       8  9 10 11 12 13 14\n",
            "13 14 15 16 17 18 19      11 12 13 14 15 16 17      15 16 17 18 19 20 21\n",
            "20 21 22 23 24 25 26      18 19 20 21 22 23 24      22 23 24 25 26 27 28\n",
            "27 28 29 30               25 26 27 28 29 30 31      29 30\n",
            "\n",
            "        July                     August                  September\n",
            "Mo Tu We Th Fr Sa Su      Mo Tu We Th Fr Sa Su      Mo Tu We Th Fr Sa Su\n",
            "       1  2  3  4  5                      1  2          1  2  3  4  5  6\n",
            " 6  7  8  9 10 11 12       3  4  5  6  7  8  9       7  8  9 10 11 12 13\n",
            "13 14 15 16 17 18 19      10 11 12 13 14 15 16      14 15 16 17 18 19 20\n",
            "20 21 22 23 24 25 26      17 18 19 20 21 22 23      21 22 23 24 25 26 27\n",
            "27 28 29 30 31            24 25 26 27 28 29 30      28 29 30\n",
            "                          31\n",
            "\n",
            "      October                   November                  December\n",
            "Mo Tu We Th Fr Sa Su      Mo Tu We Th Fr Sa Su      Mo Tu We Th Fr Sa Su\n",
            "          1  2  3  4                         1          1  2  3  4  5  6\n",
            " 5  6  7  8  9 10 11       2  3  4  5  6  7  8       7  8  9 10 11 12 13\n",
            "12 13 14 15 16 17 18       9 10 11 12 13 14 15      14 15 16 17 18 19 20\n",
            "19 20 21 22 23 24 25      16 17 18 19 20 21 22      21 22 23 24 25 26 27\n",
            "26 27 28 29 30 31         23 24 25 26 27 28 29      28 29 30 31\n",
            "                          30\n",
            "\n",
            "                                  2020\n",
            "\n",
            "      January                   February                   March\n",
            "Mo Tu We Th Fr Sa Su      Mo Tu We Th Fr Sa Su      Mo Tu We Th Fr Sa Su\n",
            "       1  2  3  4  5                      1  2                         1\n",
            " 6  7  8  9 10 11 12       3  4  5  6  7  8  9       2  3  4  5  6  7  8\n",
            "13 14 15 16 17 18 19      10 11 12 13 14 15 16       9 10 11 12 13 14 15\n",
            "20 21 22 23 24 25 26      17 18 19 20 21 22 23      16 17 18 19 20 21 22\n",
            "27 28 29 30 31            24 25 26 27 28 29         23 24 25 26 27 28 29\n",
            "                                                    30 31\n",
            "\n",
            "       April                      May                       June\n",
            "Mo Tu We Th Fr Sa Su      Mo Tu We Th Fr Sa Su      Mo Tu We Th Fr Sa Su\n",
            "       1  2  3  4  5                   1  2  3       1  2  3  4  5  6  7\n",
            " 6  7  8  9 10 11 12       4  5  6  7  8  9 10       8  9 10 11 12 13 14\n",
            "13 14 15 16 17 18 19      11 12 13 14 15 16 17      15 16 17 18 19 20 21\n",
            "20 21 22 23 24 25 26      18 19 20 21 22 23 24      22 23 24 25 26 27 28\n",
            "27 28 29 30               25 26 27 28 29 30 31      29 30\n",
            "\n",
            "        July                     August                  September\n",
            "Mo Tu We Th Fr Sa Su      Mo Tu We Th Fr Sa Su      Mo Tu We Th Fr Sa Su\n",
            "       1  2  3  4  5                      1  2          1  2  3  4  5  6\n",
            " 6  7  8  9 10 11 12       3  4  5  6  7  8  9       7  8  9 10 11 12 13\n",
            "13 14 15 16 17 18 19      10 11 12 13 14 15 16      14 15 16 17 18 19 20\n",
            "20 21 22 23 24 25 26      17 18 19 20 21 22 23      21 22 23 24 25 26 27\n",
            "27 28 29 30 31            24 25 26 27 28 29 30      28 29 30\n",
            "                          31\n",
            "\n",
            "      October                   November                  December\n",
            "Mo Tu We Th Fr Sa Su      Mo Tu We Th Fr Sa Su      Mo Tu We Th Fr Sa Su\n",
            "          1  2  3  4                         1          1  2  3  4  5  6\n",
            " 5  6  7  8  9 10 11       2  3  4  5  6  7  8       7  8  9 10 11 12 13\n",
            "12 13 14 15 16 17 18       9 10 11 12 13 14 15      14 15 16 17 18 19 20\n",
            "19 20 21 22 23 24 25      16 17 18 19 20 21 22      21 22 23 24 25 26 27\n",
            "26 27 28 29 30 31         23 24 25 26 27 28 29      28 29 30 31\n",
            "                          30\n",
            "\n",
            "     June 2020\n",
            "Mo Tu We Th Fr Sa Su\n",
            " 1  2  3  4  5  6  7\n",
            " 8  9 10 11 12 13 14\n",
            "15 16 17 18 19 20 21\n",
            "22 23 24 25 26 27 28\n",
            "29 30\n"
          ],
          "name": "stdout"
        }
      ]
    },
    {
      "cell_type": "code",
      "metadata": {
        "id": "c1z0lx6wzo0i",
        "colab_type": "code",
        "colab": {
          "base_uri": "https://localhost:8080/",
          "height": 34
        },
        "outputId": "04859824-9382-4c4f-e3bb-b085aa498764"
      },
      "source": [
        "# calendar.weekday\n",
        "# calendar 모듈의 또 다른 유용한 함수를 보자.\n",
        "# weekday(연도, 월, 일) 함수는 그 날짜에 해당하는 요일 정보를 돌려준다.\n",
        "# 월요일은 0, 화요일은 1, 수요일은 2, 목요일은 3, 금요일은 4,\n",
        "# 토요일은 5, 일요일은 6이라는 값을 돌려준다.\n",
        "calendar.weekday(2020, 6, 8)\n",
        "\n",
        "\n",
        "# calendar.monthrange\n",
        "# monthrange(연도, 월) 함수는 입력받은 달의 1일이 무슨 요일인지와\n",
        "# 그 달이 며칠까지 있는지를 튜플 형태로 돌려준다.\n",
        "calendar.monthrange(2020, 6)"
      ],
      "execution_count": 52,
      "outputs": [
        {
          "output_type": "execute_result",
          "data": {
            "text/plain": [
              "(0, 30)"
            ]
          },
          "metadata": {
            "tags": []
          },
          "execution_count": 52
        }
      ]
    },
    {
      "cell_type": "markdown",
      "metadata": {
        "id": "t8luEQDK0RLf",
        "colab_type": "text"
      },
      "source": [
        "### random 모듈 (** 정말 중요 **)\n",
        "- 난수 발생 및 이용"
      ]
    },
    {
      "cell_type": "code",
      "metadata": {
        "id": "ImEzp6bz0A8N",
        "colab_type": "code",
        "colab": {
          "base_uri": "https://localhost:8080/",
          "height": 52
        },
        "outputId": "bf31045c-c1fd-4f8b-aae9-a30cc9857bc4"
      },
      "source": [
        "print(\"random\")  # ***\n",
        "###########################################################\n",
        "# 난수(규칙이 없는 임의의 수)를 발생시키는 모듈\n",
        "# 마구잡이 수 발생\n",
        "# random(), randint()\n",
        "###########################################################\n",
        "#\n",
        "import random\n",
        "\n",
        "# random() : 0.0에서 1.0 사이의 실수 중에서 난수 값을 생성\n",
        "random.random()"
      ],
      "execution_count": 57,
      "outputs": [
        {
          "output_type": "stream",
          "text": [
            "random\n"
          ],
          "name": "stdout"
        },
        {
          "output_type": "execute_result",
          "data": {
            "text/plain": [
              "0.26076139387322195"
            ]
          },
          "metadata": {
            "tags": []
          },
          "execution_count": 57
        }
      ]
    },
    {
      "cell_type": "markdown",
      "metadata": {
        "id": "nEX9FYh60ptN",
        "colab_type": "text"
      },
      "source": [
        "#### randint(start, end)"
      ]
    },
    {
      "cell_type": "code",
      "metadata": {
        "id": "3T4tfNYZ0aJf",
        "colab_type": "code",
        "colab": {
          "base_uri": "https://localhost:8080/",
          "height": 34
        },
        "outputId": "550150c5-5229-43c1-ef74-0f17c41b4f9b"
      },
      "source": [
        "# randint(start, end) : start에서 end 사이의 정수 중에서 난수 값을 생성\n",
        "random.randint(1, 10) "
      ],
      "execution_count": 61,
      "outputs": [
        {
          "output_type": "execute_result",
          "data": {
            "text/plain": [
              "1"
            ]
          },
          "metadata": {
            "tags": []
          },
          "execution_count": 61
        }
      ]
    },
    {
      "cell_type": "code",
      "metadata": {
        "id": "QAfRHvLi0dq5",
        "colab_type": "code",
        "colab": {
          "base_uri": "https://localhost:8080/",
          "height": 34
        },
        "outputId": "f0c697c2-b7b0-4b06-c43b-75262d983b84"
      },
      "source": [
        "for i in range(6):\n",
        "    print(random.randint(1, 45), end=\",\")\n",
        "\n",
        "print()"
      ],
      "execution_count": 63,
      "outputs": [
        {
          "output_type": "stream",
          "text": [
            "1,9,27,35,37,37,\n"
          ],
          "name": "stdout"
        }
      ]
    },
    {
      "cell_type": "code",
      "metadata": {
        "id": "yuOKs1WO1eqw",
        "colab_type": "code",
        "colab": {
          "base_uri": "https://localhost:8080/",
          "height": 34
        },
        "outputId": "be927060-893f-4e67-afc4-6f16879430ae"
      },
      "source": [
        "#####\n",
        "# random 모듈을 사용해서 재미있는 함수\n",
        "#\n",
        "# random_pop.py\n",
        "import random\n",
        "\n",
        "\n",
        "def random_pop(data):\n",
        "    number = random.randint(0, len(data) - 1)\n",
        "    return data.pop(number)\n",
        "\n",
        "\n",
        "if __name__ == \"__main__\":\n",
        "    data = list(range(1, 10))  # [1, 2, 3, 4, 5]\n",
        "    while data:\n",
        "        print(random_pop(data), end=\" \")\n",
        "    print()\n",
        "\n",
        "# 리스트의 요소 중에서 무작위로 하나를 선택하여 꺼낸 다음 그 값을 돌려준다.\n",
        "# 물론 꺼낸 요소는 pop 메서드에 의해 사라진다."
      ],
      "execution_count": 64,
      "outputs": [
        {
          "output_type": "stream",
          "text": [
            "7 2 4 1 8 5 3 6 9 \n"
          ],
          "name": "stdout"
        }
      ]
    },
    {
      "cell_type": "code",
      "metadata": {
        "id": "0jzClUry1jZW",
        "colab_type": "code",
        "colab": {
          "base_uri": "https://localhost:8080/",
          "height": 34
        },
        "outputId": "8076dac8-459a-4372-e4dc-d03eeab75e3a"
      },
      "source": [
        "# random_pop 함수는 random 모듈의 choice 함수를 사용하여\n",
        "# 다음과 같이 좀 더 직관적으로 만들 수도 있다.\n",
        "\n",
        "\n",
        "def random_pop(data):\n",
        "    number = random.choice(data)\n",
        "    data.remove(number) # 뽑힌 데이터 요소 제거 \n",
        "    return number\n",
        "\n",
        "\n",
        "random_pop([1, 2, 3, 4, 5])\n",
        "\n",
        "if __name__ == \"__main__\":\n",
        "    data = list(range(1, 10))  # [1, 2, 3, 4, 5]\n",
        "    while data:\n",
        "        print(random_pop(data), end=\" \")\n",
        "    print()"
      ],
      "execution_count": 65,
      "outputs": [
        {
          "output_type": "stream",
          "text": [
            "4 5 2 6 3 8 1 7 9 \n"
          ],
          "name": "stdout"
        }
      ]
    },
    {
      "cell_type": "markdown",
      "metadata": {
        "id": "NAlhrq5h2yno",
        "colab_type": "text"
      },
      "source": [
        "### if \\_\\_name__ == \"\\_\\_main\\_\\_\": 의 의미는 ?"
      ]
    },
    {
      "cell_type": "code",
      "metadata": {
        "id": "p4_mRgqU1l8x",
        "colab_type": "code",
        "colab": {
          "base_uri": "https://localhost:8080/",
          "height": 54
        },
        "outputId": "84ff7ba8-847a-4235-d7e3-537de6868b0c"
      },
      "source": [
        "#####################################################\n",
        "# 다음의 의미\n",
        "# if __name__ == \"__main__\":\n",
        "# https://pinocc.tistory.com/175\n",
        "#\n",
        "# Filename: using_name.py\n",
        "\"\"\"\n",
        "if __name__ == '__main__':\n",
        "\tprint 'This program is being run by itself'\n",
        "else:\n",
        "\tprint 'I am being imported from another module'\n",
        "\"\"\"\n",
        "# 직접 실행\n",
        "# python using_name.py\n",
        "# This program is being run by itself\n",
        "\n",
        "# 모듈로 import 되어 실행\n",
        "# >>> import using_name\n",
        "# >>> I am being imported from another module\n",
        "#####################################################"
      ],
      "execution_count": 70,
      "outputs": [
        {
          "output_type": "execute_result",
          "data": {
            "text/plain": [
              "\"\\nif __name__ == '__main__':\\n\\tprint 'This program is being run by itself'\\nelse:\\n\\tprint 'I am being imported from another module'\\n\""
            ]
          },
          "metadata": {
            "tags": []
          },
          "execution_count": 70
        }
      ]
    },
    {
      "cell_type": "code",
      "metadata": {
        "id": "bOXvEBKR3e-K",
        "colab_type": "code",
        "colab": {
          "base_uri": "https://localhost:8080/",
          "height": 34
        },
        "outputId": "5e2cd1ea-9919-4ba4-dd39-7b1cda8d44ca"
      },
      "source": [
        "run using_name.py # 파이썬 소스코드(모듈)를 run 함수로 direct로 실행하게되면 if __name__ == \"__main__\" 조건이 성립한다"
      ],
      "execution_count": 72,
      "outputs": [
        {
          "output_type": "stream",
          "text": [
            "This program is being run by itself\n"
          ],
          "name": "stdout"
        }
      ]
    },
    {
      "cell_type": "code",
      "metadata": {
        "id": "Zf_qNQya3fo5",
        "colab_type": "code",
        "colab": {
          "base_uri": "https://localhost:8080/",
          "height": 34
        },
        "outputId": "5001ff60-08a9-4727-8ae9-ee5af7296226"
      },
      "source": [
        "import using_name # import가 이미 한 번 실행 되었다면  .. 무시가 된다"
      ],
      "execution_count": 73,
      "outputs": [
        {
          "output_type": "stream",
          "text": [
            "I am being imported from another module\n"
          ],
          "name": "stdout"
        }
      ]
    },
    {
      "cell_type": "code",
      "metadata": {
        "id": "cniD4w3k3Lyp",
        "colab_type": "code",
        "colab": {}
      },
      "source": [
        "#\n",
        "# 리스트의 항목을 무작위로 섞고 싶을 때는 random.shuffle 함수를 사용\n",
        "#\n",
        "import random\n",
        "\n",
        "data = [1, 2, 3, 4, 5]\n",
        "random.shuffle(data)\n",
        "data\n",
        "\n",
        "\n",
        "print(\"webbrowser\")\n",
        "###########################################################\n",
        "# webbrowser는 자신의 시스템에서 사용하는 기본 웹 브라우저를\n",
        "# 자동으로 실행하는 모듈\n",
        "###########################################################\n",
        "#\n",
        "import webbrowser\n",
        "\n",
        "webbrowser.open(\"http://google.com\")\n",
        "# 새로운 창/탭으로 열기\n",
        "webbrowser.open_new(\"http://google.com\")\n",
        "\n",
        "## end of ch.05"
      ],
      "execution_count": 0,
      "outputs": []
    }
  ]
}